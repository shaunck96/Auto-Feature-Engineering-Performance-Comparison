{
 "cells": [
  {
   "cell_type": "markdown",
   "metadata": {},
   "source": [
    "# Here is a simpler process"
   ]
  },
  {
   "cell_type": "code",
   "execution_count": 1,
   "metadata": {},
   "outputs": [
    {
     "name": "stdout",
     "output_type": "stream",
     "text": [
      "3.7.4\n",
      "scipy:1.7.3\n"
     ]
    }
   ],
   "source": [
    "from platform import python_version\n",
    "import autokeras as ak\n",
    "import datetime as dt\n",
    "from sklearn.linear_model import LogisticRegression\n",
    "import pandas as pd\n",
    "from sklearn.metrics import f1_score\n",
    "print(python_version())\n",
    "import scipy\n",
    "print('scipy:'+scipy.__version__)\n",
    "from sklearn.ensemble import RandomForestClassifier\n",
    "import matplotlib.pyplot as plt\n",
    "from sklearn.preprocessing import MinMaxScaler\n",
    "import numpy as np\n",
    "from sklearn.metrics import log_loss\n",
    "import time"
   ]
  },
  {
   "cell_type": "code",
   "execution_count": 2,
   "metadata": {},
   "outputs": [
    {
     "data": {
      "text/plain": [
       "'C:\\\\Users\\\\shaun'"
      ]
     },
     "execution_count": 2,
     "metadata": {},
     "output_type": "execute_result"
    }
   ],
   "source": [
    "import os\n",
    "\n",
    "os.getcwd()"
   ]
  },
  {
   "cell_type": "markdown",
   "metadata": {},
   "source": [
    "# Read the file"
   ]
  },
  {
   "cell_type": "code",
   "execution_count": 3,
   "metadata": {},
   "outputs": [
    {
     "name": "stdout",
     "output_type": "stream",
     "text": [
      "(150, 6)\n"
     ]
    },
    {
     "data": {
      "text/html": [
       "<div>\n",
       "<style scoped>\n",
       "    .dataframe tbody tr th:only-of-type {\n",
       "        vertical-align: middle;\n",
       "    }\n",
       "\n",
       "    .dataframe tbody tr th {\n",
       "        vertical-align: top;\n",
       "    }\n",
       "\n",
       "    .dataframe thead th {\n",
       "        text-align: right;\n",
       "    }\n",
       "</style>\n",
       "<table border=\"1\" class=\"dataframe\">\n",
       "  <thead>\n",
       "    <tr style=\"text-align: right;\">\n",
       "      <th></th>\n",
       "      <th>Id</th>\n",
       "      <th>SepalLengthCm</th>\n",
       "      <th>SepalWidthCm</th>\n",
       "      <th>PetalLengthCm</th>\n",
       "      <th>PetalWidthCm</th>\n",
       "      <th>Target</th>\n",
       "    </tr>\n",
       "  </thead>\n",
       "  <tbody>\n",
       "    <tr>\n",
       "      <th>0</th>\n",
       "      <td>1</td>\n",
       "      <td>5.1</td>\n",
       "      <td>3.5</td>\n",
       "      <td>1.4</td>\n",
       "      <td>0.2</td>\n",
       "      <td>Iris-setosa</td>\n",
       "    </tr>\n",
       "    <tr>\n",
       "      <th>1</th>\n",
       "      <td>2</td>\n",
       "      <td>4.9</td>\n",
       "      <td>3.0</td>\n",
       "      <td>1.4</td>\n",
       "      <td>0.2</td>\n",
       "      <td>Iris-setosa</td>\n",
       "    </tr>\n",
       "    <tr>\n",
       "      <th>2</th>\n",
       "      <td>3</td>\n",
       "      <td>4.7</td>\n",
       "      <td>3.2</td>\n",
       "      <td>1.3</td>\n",
       "      <td>0.2</td>\n",
       "      <td>Iris-setosa</td>\n",
       "    </tr>\n",
       "    <tr>\n",
       "      <th>3</th>\n",
       "      <td>4</td>\n",
       "      <td>4.6</td>\n",
       "      <td>3.1</td>\n",
       "      <td>1.5</td>\n",
       "      <td>0.2</td>\n",
       "      <td>Iris-setosa</td>\n",
       "    </tr>\n",
       "    <tr>\n",
       "      <th>4</th>\n",
       "      <td>5</td>\n",
       "      <td>5.0</td>\n",
       "      <td>3.6</td>\n",
       "      <td>1.4</td>\n",
       "      <td>0.2</td>\n",
       "      <td>Iris-setosa</td>\n",
       "    </tr>\n",
       "  </tbody>\n",
       "</table>\n",
       "</div>"
      ],
      "text/plain": [
       "   Id  SepalLengthCm  SepalWidthCm  PetalLengthCm  PetalWidthCm       Target\n",
       "0   1            5.1           3.5            1.4           0.2  Iris-setosa\n",
       "1   2            4.9           3.0            1.4           0.2  Iris-setosa\n",
       "2   3            4.7           3.2            1.3           0.2  Iris-setosa\n",
       "3   4            4.6           3.1            1.5           0.2  Iris-setosa\n",
       "4   5            5.0           3.6            1.4           0.2  Iris-setosa"
      ]
     },
     "execution_count": 3,
     "metadata": {},
     "output_type": "execute_result"
    }
   ],
   "source": [
    "datapath = r\"C:\\Users\\shaun\\OneDrive\\Desktop\\Feature_Engineering_Project\\iris.csv\"\n",
    "#datapath = './'\n",
    "#filename = 'ionosphere.csv'\n",
    "df = pd.read_csv(datapath)\n",
    "print(df.shape)\n",
    "df.head()"
   ]
  },
  {
   "cell_type": "code",
   "execution_count": 4,
   "metadata": {},
   "outputs": [],
   "source": [
    "target = 'Target'"
   ]
  },
  {
   "cell_type": "code",
   "execution_count": 5,
   "metadata": {},
   "outputs": [],
   "source": [
    "df = df.drop(columns=['Id'],axis=1)"
   ]
  },
  {
   "cell_type": "code",
   "execution_count": 6,
   "metadata": {},
   "outputs": [],
   "source": [
    "#Extract list of numeric columns\n",
    "cols = df.select_dtypes([np.number]).columns\n",
    "cols = list(cols)\n",
    "#cols.remove('Target')"
   ]
  },
  {
   "cell_type": "code",
   "execution_count": 7,
   "metadata": {},
   "outputs": [
    {
     "data": {
      "text/plain": [
       "<AxesSubplot:>"
      ]
     },
     "execution_count": 7,
     "metadata": {},
     "output_type": "execute_result"
    },
    {
     "data": {
      "image/png": "[encoded data removed]",
      "text/plain": [
       "<Figure size 432x288 with 1 Axes>"
      ]
     },
     "metadata": {
      "needs_background": "light"
     },
     "output_type": "display_data"
    }
   ],
   "source": [
    "df[target].hist()"
   ]
  },
  {
   "cell_type": "code",
   "execution_count": 8,
   "metadata": {},
   "outputs": [
    {
     "data": {
      "text/html": [
       "<div>\n",
       "<style scoped>\n",
       "    .dataframe tbody tr th:only-of-type {\n",
       "        vertical-align: middle;\n",
       "    }\n",
       "\n",
       "    .dataframe tbody tr th {\n",
       "        vertical-align: top;\n",
       "    }\n",
       "\n",
       "    .dataframe thead th {\n",
       "        text-align: right;\n",
       "    }\n",
       "</style>\n",
       "<table border=\"1\" class=\"dataframe\">\n",
       "  <thead>\n",
       "    <tr style=\"text-align: right;\">\n",
       "      <th></th>\n",
       "      <th>Target</th>\n",
       "    </tr>\n",
       "  </thead>\n",
       "  <tbody>\n",
       "    <tr>\n",
       "      <th>0</th>\n",
       "      <td>0</td>\n",
       "    </tr>\n",
       "  </tbody>\n",
       "</table>\n",
       "</div>"
      ],
      "text/plain": [
       "   Target\n",
       "0       0"
      ]
     },
     "execution_count": 8,
     "metadata": {},
     "output_type": "execute_result"
    }
   ],
   "source": [
    "from sklearn.preprocessing import LabelEncoder\n",
    "lb_make = LabelEncoder()\n",
    "df[target] = lb_make.fit_transform(df[target])\n",
    "df[[target]].head(1)"
   ]
  },
  {
   "cell_type": "markdown",
   "metadata": {},
   "source": [
    "# Import each tool you are evaluating here"
   ]
  },
  {
   "cell_type": "markdown",
   "metadata": {},
   "source": [
    "Importing PyImpetus, Eli5, EvolutionaryFS, autofeat ; To Include More from https://www.opensourceagenda.com/tags/feature-selection?page=2"
   ]
  },
  {
   "cell_type": "code",
   "execution_count": 9,
   "metadata": {},
   "outputs": [
    {
     "name": "stdout",
     "output_type": "stream",
     "text": [
      "Imported DASK version = 0.0.90. nrows=None uses all rows. Set nrows=1000 to randomly sample fewer rows.\n",
      "output = featurewiz(dataname, target, corr_limit=0.70, verbose=2, sep=',', \n",
      "\t\theader=0, test_data='',feature_engg='', category_encoders='',\n",
      "\t\tdask_xgboost_flag=False, nrows=None)\n",
      "Create new features via 'feature_engg' flag : ['interactions','groupby','target']\n",
      "                                \n"
     ]
    }
   ],
   "source": [
    "from PyImpetus import PPIMBC\n",
    "#import eli5\n",
    "#from eli5.sklearn import PermutationImportance\n",
    "from sklearn.svm import SVC\n",
    "from sklearn.feature_selection import SelectFromModel\n",
    "from EvolutionaryFS import GeneticAlgorithmFS\n",
    "from zoofs import ParticleSwarmOptimization\n",
    "\n",
    "import featurewiz as fwiz\n",
    "from featurewiz import FeatureWiz\n",
    "\n",
    "from autofeat import FeatureSelector\n",
    "\n",
    "#from autofeat import AutoFeatRegressor"
   ]
  },
  {
   "cell_type": "markdown",
   "metadata": {},
   "source": [
    "# Define the dataset and target here"
   ]
  },
  {
   "cell_type": "code",
   "execution_count": 10,
   "metadata": {},
   "outputs": [
    {
     "data": {
      "text/plain": [
       "4"
      ]
     },
     "execution_count": 10,
     "metadata": {},
     "output_type": "execute_result"
    }
   ],
   "source": [
    "preds = [x for x in list(df) if x not in [target]]\n",
    "len(preds)"
   ]
  },
  {
   "cell_type": "code",
   "execution_count": 11,
   "metadata": {},
   "outputs": [
    {
     "name": "stdout",
     "output_type": "stream",
     "text": [
      "(150, 4) (150,)\n"
     ]
    }
   ],
   "source": [
    "X = df[preds]\n",
    "y = df[target]\n",
    "print(X.shape, y.shape)"
   ]
  },
  {
   "cell_type": "code",
   "execution_count": 12,
   "metadata": {},
   "outputs": [
    {
     "name": "stdout",
     "output_type": "stream",
     "text": [
      "(120, 4) (30, 4)\n"
     ]
    }
   ],
   "source": [
    "##get train and test data\n",
    "from sklearn.model_selection import train_test_split\n",
    "X_train, X_test, y_train, y_test = train_test_split(X, y, test_size=0.20, random_state=1,\n",
    "                                                    stratify=y)\n",
    "print(X_train.shape, X_test.shape)"
   ]
  },
  {
   "cell_type": "code",
   "execution_count": 13,
   "metadata": {},
   "outputs": [
    {
     "data": {
      "text/html": [
       "<div>\n",
       "<style scoped>\n",
       "    .dataframe tbody tr th:only-of-type {\n",
       "        vertical-align: middle;\n",
       "    }\n",
       "\n",
       "    .dataframe tbody tr th {\n",
       "        vertical-align: top;\n",
       "    }\n",
       "\n",
       "    .dataframe thead th {\n",
       "        text-align: right;\n",
       "    }\n",
       "</style>\n",
       "<table border=\"1\" class=\"dataframe\">\n",
       "  <thead>\n",
       "    <tr style=\"text-align: right;\">\n",
       "      <th></th>\n",
       "      <th>SepalLengthCm</th>\n",
       "      <th>SepalWidthCm</th>\n",
       "      <th>PetalLengthCm</th>\n",
       "      <th>PetalWidthCm</th>\n",
       "    </tr>\n",
       "  </thead>\n",
       "  <tbody>\n",
       "    <tr>\n",
       "      <th>21</th>\n",
       "      <td>5.1</td>\n",
       "      <td>3.7</td>\n",
       "      <td>1.5</td>\n",
       "      <td>0.4</td>\n",
       "    </tr>\n",
       "    <tr>\n",
       "      <th>47</th>\n",
       "      <td>4.6</td>\n",
       "      <td>3.2</td>\n",
       "      <td>1.4</td>\n",
       "      <td>0.2</td>\n",
       "    </tr>\n",
       "    <tr>\n",
       "      <th>141</th>\n",
       "      <td>6.9</td>\n",
       "      <td>3.1</td>\n",
       "      <td>5.1</td>\n",
       "      <td>2.3</td>\n",
       "    </tr>\n",
       "    <tr>\n",
       "      <th>90</th>\n",
       "      <td>5.5</td>\n",
       "      <td>2.6</td>\n",
       "      <td>4.4</td>\n",
       "      <td>1.2</td>\n",
       "    </tr>\n",
       "    <tr>\n",
       "      <th>64</th>\n",
       "      <td>5.6</td>\n",
       "      <td>2.9</td>\n",
       "      <td>3.6</td>\n",
       "      <td>1.3</td>\n",
       "    </tr>\n",
       "    <tr>\n",
       "      <th>...</th>\n",
       "      <td>...</td>\n",
       "      <td>...</td>\n",
       "      <td>...</td>\n",
       "      <td>...</td>\n",
       "    </tr>\n",
       "    <tr>\n",
       "      <th>41</th>\n",
       "      <td>4.5</td>\n",
       "      <td>2.3</td>\n",
       "      <td>1.3</td>\n",
       "      <td>0.3</td>\n",
       "    </tr>\n",
       "    <tr>\n",
       "      <th>93</th>\n",
       "      <td>5.0</td>\n",
       "      <td>2.3</td>\n",
       "      <td>3.3</td>\n",
       "      <td>1.0</td>\n",
       "    </tr>\n",
       "    <tr>\n",
       "      <th>26</th>\n",
       "      <td>5.0</td>\n",
       "      <td>3.4</td>\n",
       "      <td>1.6</td>\n",
       "      <td>0.4</td>\n",
       "    </tr>\n",
       "    <tr>\n",
       "      <th>3</th>\n",
       "      <td>4.6</td>\n",
       "      <td>3.1</td>\n",
       "      <td>1.5</td>\n",
       "      <td>0.2</td>\n",
       "    </tr>\n",
       "    <tr>\n",
       "      <th>42</th>\n",
       "      <td>4.4</td>\n",
       "      <td>3.2</td>\n",
       "      <td>1.3</td>\n",
       "      <td>0.2</td>\n",
       "    </tr>\n",
       "  </tbody>\n",
       "</table>\n",
       "<p>120 rows × 4 columns</p>\n",
       "</div>"
      ],
      "text/plain": [
       "     SepalLengthCm  SepalWidthCm  PetalLengthCm  PetalWidthCm\n",
       "21             5.1           3.7            1.5           0.4\n",
       "47             4.6           3.2            1.4           0.2\n",
       "141            6.9           3.1            5.1           2.3\n",
       "90             5.5           2.6            4.4           1.2\n",
       "64             5.6           2.9            3.6           1.3\n",
       "..             ...           ...            ...           ...\n",
       "41             4.5           2.3            1.3           0.3\n",
       "93             5.0           2.3            3.3           1.0\n",
       "26             5.0           3.4            1.6           0.4\n",
       "3              4.6           3.1            1.5           0.2\n",
       "42             4.4           3.2            1.3           0.2\n",
       "\n",
       "[120 rows x 4 columns]"
      ]
     },
     "execution_count": 13,
     "metadata": {},
     "output_type": "execute_result"
    }
   ],
   "source": [
    "X_train"
   ]
  },
  {
   "cell_type": "code",
   "execution_count": 14,
   "metadata": {},
   "outputs": [
    {
     "data": {
      "text/plain": [
       "(0, 0)"
      ]
     },
     "execution_count": 14,
     "metadata": {},
     "output_type": "execute_result"
    }
   ],
   "source": [
    "#Find categorical columns and object columns to transform into numeric: \n",
    "cat_columns = list(X.select_dtypes(['category']).columns)\n",
    "obj_columns = list(X.select_dtypes(['object']).columns)\n",
    "len(cat_columns), len(obj_columns)"
   ]
  },
  {
   "cell_type": "code",
   "execution_count": 15,
   "metadata": {},
   "outputs": [],
   "source": [
    "#Category+Object Transforms -> You must always fit_transform train while only doing transform for test\n",
    "if len(cat_columns+obj_columns):\n",
    "    for each_cat in cat_columns+obj_columns:\n",
    "        LB = LabelEncoder()\n",
    "        X_train[each_cat] = LB.fit_transform(X_train[each_cat])\n",
    "        X_test[each_cat] = LB.transform(X_test[each_cat])\n",
    "        print(each_cat+' completed transform')"
   ]
  },
  {
   "cell_type": "code",
   "execution_count": 16,
   "metadata": {},
   "outputs": [
    {
     "name": "stdout",
     "output_type": "stream",
     "text": [
      "completed Min Max Scaling\n"
     ]
    }
   ],
   "source": [
    "#MinMax Scale Features -> You must always fit_transform train while only doing transform for test\n",
    "for each_col in cols:\n",
    "    scaler = MinMaxScaler(feature_range = (1,100))\n",
    "    X_train[each_col] = scaler.fit_transform(X_train[each_col].values.reshape(-1,1))\n",
    "    X_test[each_col] = scaler.transform(X_test[each_col].values.reshape(-1,1))\n",
    "print('completed Min Max Scaling')"
   ]
  },
  {
   "cell_type": "code",
   "execution_count": 17,
   "metadata": {},
   "outputs": [
    {
     "data": {
      "text/html": [
       "<div>\n",
       "<style scoped>\n",
       "    .dataframe tbody tr th:only-of-type {\n",
       "        vertical-align: middle;\n",
       "    }\n",
       "\n",
       "    .dataframe tbody tr th {\n",
       "        vertical-align: top;\n",
       "    }\n",
       "\n",
       "    .dataframe thead th {\n",
       "        text-align: right;\n",
       "    }\n",
       "</style>\n",
       "<table border=\"1\" class=\"dataframe\">\n",
       "  <thead>\n",
       "    <tr style=\"text-align: right;\">\n",
       "      <th></th>\n",
       "      <th>SepalLengthCm</th>\n",
       "      <th>SepalWidthCm</th>\n",
       "      <th>PetalLengthCm</th>\n",
       "      <th>PetalWidthCm</th>\n",
       "    </tr>\n",
       "  </thead>\n",
       "  <tbody>\n",
       "    <tr>\n",
       "      <th>21</th>\n",
       "      <td>23.00</td>\n",
       "      <td>77.5</td>\n",
       "      <td>9.389831</td>\n",
       "      <td>13.375</td>\n",
       "    </tr>\n",
       "    <tr>\n",
       "      <th>47</th>\n",
       "      <td>9.25</td>\n",
       "      <td>55.0</td>\n",
       "      <td>7.711864</td>\n",
       "      <td>5.125</td>\n",
       "    </tr>\n",
       "    <tr>\n",
       "      <th>141</th>\n",
       "      <td>72.50</td>\n",
       "      <td>50.5</td>\n",
       "      <td>69.796610</td>\n",
       "      <td>91.750</td>\n",
       "    </tr>\n",
       "    <tr>\n",
       "      <th>90</th>\n",
       "      <td>34.00</td>\n",
       "      <td>28.0</td>\n",
       "      <td>58.050847</td>\n",
       "      <td>46.375</td>\n",
       "    </tr>\n",
       "    <tr>\n",
       "      <th>64</th>\n",
       "      <td>36.75</td>\n",
       "      <td>41.5</td>\n",
       "      <td>44.627119</td>\n",
       "      <td>50.500</td>\n",
       "    </tr>\n",
       "  </tbody>\n",
       "</table>\n",
       "</div>"
      ],
      "text/plain": [
       "     SepalLengthCm  SepalWidthCm  PetalLengthCm  PetalWidthCm\n",
       "21           23.00          77.5       9.389831        13.375\n",
       "47            9.25          55.0       7.711864         5.125\n",
       "141          72.50          50.5      69.796610        91.750\n",
       "90           34.00          28.0      58.050847        46.375\n",
       "64           36.75          41.5      44.627119        50.500"
      ]
     },
     "execution_count": 17,
     "metadata": {},
     "output_type": "execute_result"
    }
   ],
   "source": [
    "X_train.head()"
   ]
  },
  {
   "cell_type": "markdown",
   "metadata": {},
   "source": [
    "### Since The Tool is not allowed to look at test data, you must only use X_train and y_train for the Tool"
   ]
  },
  {
   "cell_type": "code",
   "execution_count": 18,
   "metadata": {},
   "outputs": [
    {
     "name": "stdout",
     "output_type": "stream",
     "text": [
      "(120, 5)\n"
     ]
    }
   ],
   "source": [
    "train = pd.concat([X_train,y_train],axis=1)\n",
    "print(train.shape)"
   ]
  },
  {
   "cell_type": "code",
   "execution_count": 19,
   "metadata": {},
   "outputs": [
    {
     "name": "stdout",
     "output_type": "stream",
     "text": [
      "(30, 5)\n"
     ]
    }
   ],
   "source": [
    "test = pd.concat([X_test,y_test],axis=1)\n",
    "print(test.shape)"
   ]
  },
  {
   "cell_type": "code",
   "execution_count": 20,
   "metadata": {},
   "outputs": [
    {
     "data": {
      "text/html": [
       "<div>\n",
       "<style scoped>\n",
       "    .dataframe tbody tr th:only-of-type {\n",
       "        vertical-align: middle;\n",
       "    }\n",
       "\n",
       "    .dataframe tbody tr th {\n",
       "        vertical-align: top;\n",
       "    }\n",
       "\n",
       "    .dataframe thead th {\n",
       "        text-align: right;\n",
       "    }\n",
       "</style>\n",
       "<table border=\"1\" class=\"dataframe\">\n",
       "  <thead>\n",
       "    <tr style=\"text-align: right;\">\n",
       "      <th></th>\n",
       "      <th>Feature_Engineering_Technique</th>\n",
       "      <th>Start_Time</th>\n",
       "      <th>End_Time</th>\n",
       "      <th>Time_to_fit</th>\n",
       "    </tr>\n",
       "  </thead>\n",
       "  <tbody>\n",
       "  </tbody>\n",
       "</table>\n",
       "</div>"
      ],
      "text/plain": [
       "Empty DataFrame\n",
       "Columns: [Feature_Engineering_Technique, Start_Time, End_Time, Time_to_fit]\n",
       "Index: []"
      ]
     },
     "execution_count": 20,
     "metadata": {},
     "output_type": "execute_result"
    }
   ],
   "source": [
    "time_to_fit = pd.DataFrame(columns=['Feature_Engineering_Technique','Start_Time','End_Time','Time_to_fit'])\n",
    "time_to_fit.head()"
   ]
  },
  {
   "cell_type": "code",
   "execution_count": 21,
   "metadata": {
    "scrolled": true
   },
   "outputs": [
    {
     "name": "stdout",
     "output_type": "stream",
     "text": [
      "############################################################################################\n",
      "############       F A S T   F E A T U R E  E N G G    A N D    S E L E C T I O N ! ########\n",
      "# Be judicious with featurewiz. Don't use it to create too many un-interpretable features! #\n",
      "############################################################################################\n",
      "Skipping feature engineering since no feature_engg input...\n",
      "Skipping category encoding since no category encoders specified in input...\n",
      "Loading train data...\n",
      "    Shape of your Data Set loaded: (120, 5)\n",
      "    Caution: We will try to reduce the memory usage of dataframe from 0.01 MB\n",
      "    Memory usage after optimization is: 0.00 MB\n",
      "        decreased by 61.4%\n",
      "     Loaded. Shape = (120, 5)\n",
      "No test data filename given...\n",
      "############## C L A S S I F Y I N G  V A R I A B L E S  ####################\n",
      "Classifying variables in data set...\n",
      "    4 Predictors classified...\n",
      "        No variables removed since no ID or low-information variables found in data set\n",
      "No GPU active on this device\n",
      "    Tuning XGBoost using CPU hyper-parameters. This will take time...\n",
      "Removing 0 columns from further processing since ID or low information variables\n",
      "    columns removed: []\n",
      "    After removing redundant variables from further processing, features left = 4\n",
      "#### Single_Label Multi_Classification Feature Selection Started ####\n",
      "Searching for highly correlated variables from 4 variables using SULOV method\n",
      "#####  SULOV : Searching for Uncorrelated List Of Variables (takes time...) ############\n",
      "There are no null values in dataset.\n",
      "    Caution: We will try to reduce the memory usage of dataframe from 0.00 MB\n",
      "    Memory usage after optimization is: 0.00 MB\n",
      "        decreased by 0.0%\n",
      "    Removing (2) highly correlated variables:\n",
      "    ['SepalLengthCm', 'PetalWidthCm']\n",
      "    Following (2) vars selected: ['SepalWidthCm', 'PetalLengthCm']\n"
     ]
    },
    {
     "data": {
      "image/png": "[encoded data removed]",
      "text/plain": [
       "<Figure size 1080x360 with 1 Axes>"
      ]
     },
     "metadata": {},
     "output_type": "display_data"
    },
    {
     "name": "stdout",
     "output_type": "stream",
     "text": [
      "Time taken for SULOV method = 1 seconds\n",
      "    Adding 0 categorical variables to reduced numeric variables  of 2\n",
      "############## F E A T U R E   S E L E C T I O N  ####################\n",
      "    using regular XGBoost\n",
      "Train and Test loaded into Dask dataframes successfully after feature_engg completed\n",
      "Current number of predictors = 2 \n",
      "XGBoost version: 1.5.1\n",
      "Number of booster rounds = 100\n",
      "        using 2 variables...\n",
      "            Time taken for regular XGBoost feature selection = 0 seconds\n"
     ]
    },
    {
     "data": {
      "image/png": "[encoded data removed]",
      "text/plain": [
       "<Figure size 720x360 with 2 Axes>"
      ]
     },
     "metadata": {
      "needs_background": "light"
     },
     "output_type": "display_data"
    },
    {
     "name": "stdout",
     "output_type": "stream",
     "text": [
      "            Total time taken for XGBoost feature selection = 0 seconds\n",
      "    ID variables are always selected so that rows can be identified. But they are not important!\n",
      "Selected 2 important features:\n",
      "['PetalLengthCm', 'SepalWidthCm']\n",
      "    Time taken = 1 seconds\n",
      "Returning list of 2 important features and dataframe.\n",
      "    Time taken to create entire pipeline = 1 second(s)\n"
     ]
    },
    {
     "data": {
      "text/html": [
       "<div>\n",
       "<style scoped>\n",
       "    .dataframe tbody tr th:only-of-type {\n",
       "        vertical-align: middle;\n",
       "    }\n",
       "\n",
       "    .dataframe tbody tr th {\n",
       "        vertical-align: top;\n",
       "    }\n",
       "\n",
       "    .dataframe thead th {\n",
       "        text-align: right;\n",
       "    }\n",
       "</style>\n",
       "<table border=\"1\" class=\"dataframe\">\n",
       "  <thead>\n",
       "    <tr style=\"text-align: right;\">\n",
       "      <th></th>\n",
       "      <th>Feature_Engineering_Technique</th>\n",
       "      <th>Start_Time</th>\n",
       "      <th>End_Time</th>\n",
       "      <th>Time_to_fit</th>\n",
       "    </tr>\n",
       "  </thead>\n",
       "  <tbody>\n",
       "    <tr>\n",
       "      <th>0</th>\n",
       "      <td>FeatureWiz</td>\n",
       "      <td>1.643493e+09</td>\n",
       "      <td>1.643493e+09</td>\n",
       "      <td>1.07041</td>\n",
       "    </tr>\n",
       "  </tbody>\n",
       "</table>\n",
       "</div>"
      ],
      "text/plain": [
       "  Feature_Engineering_Technique    Start_Time      End_Time  Time_to_fit\n",
       "0                    FeatureWiz  1.643493e+09  1.643493e+09      1.07041"
      ]
     },
     "execution_count": 21,
     "metadata": {},
     "output_type": "execute_result"
    }
   ],
   "source": [
    "###################################################FeatureWiz#############################################################\n",
    "### Now run it through featurewiz - remember featurewiz does not look at test data only modifies for numeric\n",
    "start_featurewiz = time.time()\n",
    "\n",
    "features = FeatureWiz(corr_limit=0.70, verbose=2, sep=',', header=0, feature_engg='', category_encoders='',dask_xgboost_flag=False, nrows=None)\n",
    "X_train_selected = features.fit_transform(X_train,y_train)\n",
    "end_featurewiz = time.time()\n",
    "diff = end_featurewiz - start_featurewiz\n",
    "best_columns_featurewiz = features.features\n",
    "len(best_columns_featurewiz)\n",
    "time_to_fit = time_to_fit.append({'Feature_Engineering_Technique':'FeatureWiz','Start_Time':start_featurewiz,'End_Time':end_featurewiz,'Time_to_fit':diff} , ignore_index=True)\n",
    "time_to_fit.head()"
   ]
  },
  {
   "cell_type": "code",
   "execution_count": 22,
   "metadata": {},
   "outputs": [
    {
     "name": "stdout",
     "output_type": "stream",
     "text": [
      "[featsel] Scaling data...done.\n",
      "[featsel] Feature selection run 1/5\n",
      "[featsel] Feature selection run 2/5\n",
      "[featsel] Feature selection run 3/5\n",
      "[featsel] Feature selection run 4/5\n",
      "[featsel] Feature selection run 5/5\n",
      "[featsel] 4 features after 5 feature selection runs\n",
      "[featsel] 3 features after correlation filtering\n",
      "[featsel] 3 features after noise filtering\n"
     ]
    },
    {
     "data": {
      "text/html": [
       "<div>\n",
       "<style scoped>\n",
       "    .dataframe tbody tr th:only-of-type {\n",
       "        vertical-align: middle;\n",
       "    }\n",
       "\n",
       "    .dataframe tbody tr th {\n",
       "        vertical-align: top;\n",
       "    }\n",
       "\n",
       "    .dataframe thead th {\n",
       "        text-align: right;\n",
       "    }\n",
       "</style>\n",
       "<table border=\"1\" class=\"dataframe\">\n",
       "  <thead>\n",
       "    <tr style=\"text-align: right;\">\n",
       "      <th></th>\n",
       "      <th>Feature_Engineering_Technique</th>\n",
       "      <th>Start_Time</th>\n",
       "      <th>End_Time</th>\n",
       "      <th>Time_to_fit</th>\n",
       "    </tr>\n",
       "  </thead>\n",
       "  <tbody>\n",
       "    <tr>\n",
       "      <th>0</th>\n",
       "      <td>FeatureWiz</td>\n",
       "      <td>1.643493e+09</td>\n",
       "      <td>1.643493e+09</td>\n",
       "      <td>1.07041</td>\n",
       "    </tr>\n",
       "    <tr>\n",
       "      <th>1</th>\n",
       "      <td>Autofeat</td>\n",
       "      <td>1.643493e+09</td>\n",
       "      <td>1.643493e+09</td>\n",
       "      <td>0.74807</td>\n",
       "    </tr>\n",
       "  </tbody>\n",
       "</table>\n",
       "</div>"
      ],
      "text/plain": [
       "  Feature_Engineering_Technique    Start_Time      End_Time  Time_to_fit\n",
       "0                    FeatureWiz  1.643493e+09  1.643493e+09      1.07041\n",
       "1                      Autofeat  1.643493e+09  1.643493e+09      0.74807"
      ]
     },
     "execution_count": 22,
     "metadata": {},
     "output_type": "execute_result"
    }
   ],
   "source": [
    "#################Autofeat#########################\n",
    "\n",
    "start_autofeat = time.time()\n",
    "fsel = FeatureSelector(verbose=1)\n",
    "new_X = fsel.fit_transform(X_train, y_train)\n",
    "end_autofeat = time.time()\n",
    "diff = end_autofeat - start_autofeat\n",
    "best_columns_autofeat = list(new_X.columns)\n",
    "time_to_fit = time_to_fit.append({'Feature_Engineering_Technique':'Autofeat','Start_Time':start_autofeat,'End_Time':end_autofeat,'Time_to_fit':diff} , ignore_index=True)\n",
    "time_to_fit.head()"
   ]
  },
  {
   "cell_type": "code",
   "execution_count": 23,
   "metadata": {},
   "outputs": [
    {
     "name": "stdout",
     "output_type": "stream",
     "text": [
      "Number of original variables:  4\n",
      "Number of variables after selection:  2\n"
     ]
    },
    {
     "data": {
      "text/html": [
       "<div>\n",
       "<style scoped>\n",
       "    .dataframe tbody tr th:only-of-type {\n",
       "        vertical-align: middle;\n",
       "    }\n",
       "\n",
       "    .dataframe tbody tr th {\n",
       "        vertical-align: top;\n",
       "    }\n",
       "\n",
       "    .dataframe thead th {\n",
       "        text-align: right;\n",
       "    }\n",
       "</style>\n",
       "<table border=\"1\" class=\"dataframe\">\n",
       "  <thead>\n",
       "    <tr style=\"text-align: right;\">\n",
       "      <th></th>\n",
       "      <th>Feature_Engineering_Technique</th>\n",
       "      <th>Start_Time</th>\n",
       "      <th>End_Time</th>\n",
       "      <th>Time_to_fit</th>\n",
       "    </tr>\n",
       "  </thead>\n",
       "  <tbody>\n",
       "    <tr>\n",
       "      <th>0</th>\n",
       "      <td>FeatureWiz</td>\n",
       "      <td>1.643493e+09</td>\n",
       "      <td>1.643493e+09</td>\n",
       "      <td>1.070410</td>\n",
       "    </tr>\n",
       "    <tr>\n",
       "      <th>1</th>\n",
       "      <td>Autofeat</td>\n",
       "      <td>1.643493e+09</td>\n",
       "      <td>1.643493e+09</td>\n",
       "      <td>0.748070</td>\n",
       "    </tr>\n",
       "    <tr>\n",
       "      <th>2</th>\n",
       "      <td>FeatureEngine</td>\n",
       "      <td>1.643493e+09</td>\n",
       "      <td>1.643493e+09</td>\n",
       "      <td>0.203684</td>\n",
       "    </tr>\n",
       "  </tbody>\n",
       "</table>\n",
       "</div>"
      ],
      "text/plain": [
       "  Feature_Engineering_Technique    Start_Time      End_Time  Time_to_fit\n",
       "0                    FeatureWiz  1.643493e+09  1.643493e+09     1.070410\n",
       "1                      Autofeat  1.643493e+09  1.643493e+09     0.748070\n",
       "2                 FeatureEngine  1.643493e+09  1.643493e+09     0.203684"
      ]
     },
     "execution_count": 23,
     "metadata": {},
     "output_type": "execute_result"
    }
   ],
   "source": [
    "##############FeatureEngine############\n",
    "from sklearn.pipeline import Pipeline\n",
    "from feature_engine.selection import (\n",
    "    DropDuplicateFeatures,\n",
    "    DropConstantFeatures,\n",
    "    DropDuplicateFeatures,\n",
    "    DropCorrelatedFeatures,\n",
    "    SmartCorrelatedSelection,\n",
    "    SelectByShuffling,\n",
    "    SelectBySingleFeaturePerformance,\n",
    "    RecursiveFeatureElimination,\n",
    ")\n",
    "\n",
    "pipe = Pipeline([\n",
    "    ('constant', DropConstantFeatures(tol=0.998)), # drops constand and quasi-constant altogether\n",
    "    ('duplicated', DropDuplicateFeatures()), # drops duplicates\n",
    "    ('correlation', SmartCorrelatedSelection( # drops correlated\n",
    "        threshold=0.8,\n",
    "        selection_method=\"model_performance\",\n",
    "        estimator=RandomForestClassifier(n_estimators=10, random_state=1),\n",
    "    )),\n",
    "])\n",
    "\n",
    "# find features to remove\n",
    "\n",
    "start_fe = time.time()\n",
    "pipe.fit(X_train, y_train)\n",
    "end_fe = time.time()\n",
    "\n",
    "diff = end_fe - start_fe\n",
    "\n",
    "print('Number of original variables: ', X_train.shape[1])\n",
    "\n",
    "X_train_fe = pipe.transform(X_train)\n",
    "\n",
    "print('Number of variables after selection: ', X_train_fe.shape[1])\n",
    "\n",
    "best_columns_fe = list(X_train_fe.columns)\n",
    "time_to_fit = time_to_fit.append({'Feature_Engineering_Technique':'FeatureEngine','Start_Time':start_fe,'End_Time':end_fe,'Time_to_fit':diff} , ignore_index=True)\n",
    "time_to_fit.head()"
   ]
  },
  {
   "cell_type": "code",
   "execution_count": 24,
   "metadata": {},
   "outputs": [
    {
     "name": "stderr",
     "output_type": "stream",
     "text": [
      "[Parallel(n_jobs=-1)]: Using backend LokyBackend with 8 concurrent workers.\n",
      "[Parallel(n_jobs=-1)]: Done   4 out of   4 | elapsed:    7.1s remaining:    0.0s\n",
      "[Parallel(n_jobs=-1)]: Done   4 out of   4 | elapsed:    7.1s finished\n",
      "[Parallel(n_jobs=-1)]: Using backend LokyBackend with 8 concurrent workers.\n",
      "[Parallel(n_jobs=-1)]: Done  16 out of  20 | elapsed:    0.9s remaining:    0.1s\n",
      "[Parallel(n_jobs=-1)]: Done  20 out of  20 | elapsed:    4.2s finished\n",
      "[Parallel(n_jobs=-1)]: Using backend LokyBackend with 8 concurrent workers.\n",
      "[Parallel(n_jobs=-1)]: Done  16 out of  20 | elapsed:    0.5s remaining:    0.0s\n",
      "[Parallel(n_jobs=-1)]: Done  20 out of  20 | elapsed:    0.5s finished\n",
      "[Parallel(n_jobs=-1)]: Using backend LokyBackend with 8 concurrent workers.\n",
      "[Parallel(n_jobs=-1)]: Done  16 out of  20 | elapsed:    0.4s remaining:    0.0s\n",
      "[Parallel(n_jobs=-1)]: Done  20 out of  20 | elapsed:    0.5s finished\n",
      "[Parallel(n_jobs=-1)]: Using backend LokyBackend with 8 concurrent workers.\n"
     ]
    },
    {
     "name": "stdout",
     "output_type": "stream",
     "text": [
      "Feature importance:  [13.862943611198906, 13.862943611198906, 10.101743495505344, 4.213961286420002]\n"
     ]
    },
    {
     "name": "stderr",
     "output_type": "stream",
     "text": [
      "[Parallel(n_jobs=-1)]: Done  16 out of  20 | elapsed:    0.4s remaining:    0.0s\n",
      "[Parallel(n_jobs=-1)]: Done  20 out of  20 | elapsed:    0.5s finished\n"
     ]
    },
    {
     "data": {
      "image/png": "[encoded data removed]",
      "text/plain": [
       "<Figure size 432x288 with 1 Axes>"
      ]
     },
     "metadata": {
      "needs_background": "light"
     },
     "output_type": "display_data"
    },
    {
     "data": {
      "text/html": [
       "<div>\n",
       "<style scoped>\n",
       "    .dataframe tbody tr th:only-of-type {\n",
       "        vertical-align: middle;\n",
       "    }\n",
       "\n",
       "    .dataframe tbody tr th {\n",
       "        vertical-align: top;\n",
       "    }\n",
       "\n",
       "    .dataframe thead th {\n",
       "        text-align: right;\n",
       "    }\n",
       "</style>\n",
       "<table border=\"1\" class=\"dataframe\">\n",
       "  <thead>\n",
       "    <tr style=\"text-align: right;\">\n",
       "      <th></th>\n",
       "      <th>Feature_Engineering_Technique</th>\n",
       "      <th>Start_Time</th>\n",
       "      <th>End_Time</th>\n",
       "      <th>Time_to_fit</th>\n",
       "    </tr>\n",
       "  </thead>\n",
       "  <tbody>\n",
       "    <tr>\n",
       "      <th>0</th>\n",
       "      <td>FeatureWiz</td>\n",
       "      <td>1.643493e+09</td>\n",
       "      <td>1.643493e+09</td>\n",
       "      <td>1.070410</td>\n",
       "    </tr>\n",
       "    <tr>\n",
       "      <th>1</th>\n",
       "      <td>Autofeat</td>\n",
       "      <td>1.643493e+09</td>\n",
       "      <td>1.643493e+09</td>\n",
       "      <td>0.748070</td>\n",
       "    </tr>\n",
       "    <tr>\n",
       "      <th>2</th>\n",
       "      <td>FeatureEngine</td>\n",
       "      <td>1.643493e+09</td>\n",
       "      <td>1.643493e+09</td>\n",
       "      <td>0.203684</td>\n",
       "    </tr>\n",
       "    <tr>\n",
       "      <th>3</th>\n",
       "      <td>PyImpetus</td>\n",
       "      <td>1.643493e+09</td>\n",
       "      <td>1.643493e+09</td>\n",
       "      <td>13.471862</td>\n",
       "    </tr>\n",
       "  </tbody>\n",
       "</table>\n",
       "</div>"
      ],
      "text/plain": [
       "  Feature_Engineering_Technique    Start_Time      End_Time  Time_to_fit\n",
       "0                    FeatureWiz  1.643493e+09  1.643493e+09     1.070410\n",
       "1                      Autofeat  1.643493e+09  1.643493e+09     0.748070\n",
       "2                 FeatureEngine  1.643493e+09  1.643493e+09     0.203684\n",
       "3                     PyImpetus  1.643493e+09  1.643493e+09    13.471862"
      ]
     },
     "execution_count": 24,
     "metadata": {},
     "output_type": "execute_result"
    }
   ],
   "source": [
    "####################################################PyImpetus#####################################################\n",
    "start_pyimpetus = time.time()\n",
    "model = PPIMBC(LogisticRegression(random_state=27, max_iter=1000, class_weight=\"balanced\"), cv=0, num_simul=20, simul_type=0, simul_size=0.2, sig_test_type=\"non-parametric\", random_state=27, verbose=2, p_val_thresh=0.05)\n",
    "# Fit this above object on the train part and transform the train dataset into selected feature subset\n",
    "# NOTE: x_train has to be a dataframe and y_train has to be a numpy array\n",
    "x_train = model.fit_transform(X_train, y_train.values)\n",
    "# Transform the test set as well\n",
    "# Check out the scores of each feature. The scores are in order of the selected feature list\n",
    "# NOTE: You can use these scores ina feature selection ensemble\n",
    "print(\"Feature importance: \", model.feat_imp_scores)\n",
    "# Plot the feature importance scores\n",
    "model.feature_importance()\n",
    "best_columns_pyimpetus = list(x_train.columns)\n",
    "end_pyimpetus = time.time()\n",
    "diff = end_pyimpetus - start_pyimpetus\n",
    "len(x_train.columns)\n",
    "# Convert the data into numpy arrays\n",
    "#x_train, x_test = x_train.values, x_test.values\n",
    "time_to_fit = time_to_fit.append({'Feature_Engineering_Technique':'PyImpetus','Start_Time':start_pyimpetus,'End_Time':end_pyimpetus,'Time_to_fit':diff} , ignore_index=True)\n",
    "time_to_fit.head()"
   ]
  },
  {
   "cell_type": "markdown",
   "metadata": {},
   "source": [
    "#######################################################Eli5##############################################################\n",
    "\n",
    "sel = SelectFromModel(\n",
    "    PermutationImportance(SVC(), cv=5),\n",
    "    threshold=0.05,\n",
    ").fit(X_train, y_train)\n",
    "x_train = sel.transform(X_train)\n",
    "best_columns_eli5 = x_train.columns\n",
    "\n",
    "TypeError: check_cv() takes from 0 to 2 positional arguments but 3 were given"
   ]
  },
  {
   "cell_type": "markdown",
   "metadata": {},
   "source": [
    "Time To Generate Features "
   ]
  },
  {
   "cell_type": "code",
   "execution_count": 25,
   "metadata": {},
   "outputs": [
    {
     "data": {
      "text/html": [
       "<div>\n",
       "<style scoped>\n",
       "    .dataframe tbody tr th:only-of-type {\n",
       "        vertical-align: middle;\n",
       "    }\n",
       "\n",
       "    .dataframe tbody tr th {\n",
       "        vertical-align: top;\n",
       "    }\n",
       "\n",
       "    .dataframe thead th {\n",
       "        text-align: right;\n",
       "    }\n",
       "</style>\n",
       "<table border=\"1\" class=\"dataframe\">\n",
       "  <thead>\n",
       "    <tr style=\"text-align: right;\">\n",
       "      <th></th>\n",
       "      <th>Feature_Engineering_Technique</th>\n",
       "      <th>Start_Time</th>\n",
       "      <th>End_Time</th>\n",
       "      <th>Time_to_fit</th>\n",
       "    </tr>\n",
       "  </thead>\n",
       "  <tbody>\n",
       "    <tr>\n",
       "      <th>0</th>\n",
       "      <td>FeatureWiz</td>\n",
       "      <td>1.643493e+09</td>\n",
       "      <td>1.643493e+09</td>\n",
       "      <td>1.070410</td>\n",
       "    </tr>\n",
       "    <tr>\n",
       "      <th>1</th>\n",
       "      <td>Autofeat</td>\n",
       "      <td>1.643493e+09</td>\n",
       "      <td>1.643493e+09</td>\n",
       "      <td>0.748070</td>\n",
       "    </tr>\n",
       "    <tr>\n",
       "      <th>2</th>\n",
       "      <td>FeatureEngine</td>\n",
       "      <td>1.643493e+09</td>\n",
       "      <td>1.643493e+09</td>\n",
       "      <td>0.203684</td>\n",
       "    </tr>\n",
       "    <tr>\n",
       "      <th>3</th>\n",
       "      <td>PyImpetus</td>\n",
       "      <td>1.643493e+09</td>\n",
       "      <td>1.643493e+09</td>\n",
       "      <td>13.471862</td>\n",
       "    </tr>\n",
       "  </tbody>\n",
       "</table>\n",
       "</div>"
      ],
      "text/plain": [
       "  Feature_Engineering_Technique    Start_Time      End_Time  Time_to_fit\n",
       "0                    FeatureWiz  1.643493e+09  1.643493e+09     1.070410\n",
       "1                      Autofeat  1.643493e+09  1.643493e+09     0.748070\n",
       "2                 FeatureEngine  1.643493e+09  1.643493e+09     0.203684\n",
       "3                     PyImpetus  1.643493e+09  1.643493e+09    13.471862"
      ]
     },
     "execution_count": 25,
     "metadata": {},
     "output_type": "execute_result"
    }
   ],
   "source": [
    "time_to_fit.head()"
   ]
  },
  {
   "cell_type": "code",
   "execution_count": 26,
   "metadata": {},
   "outputs": [
    {
     "name": "stdout",
     "output_type": "stream",
     "text": [
      "================= Best performance for generation 0 : 1.0 =================\n",
      "================= Best performance for generation 1 : 1.0 =================\n",
      "================= Best performance for generation 2 : 1.0 =================\n",
      "================= Best performance for generation 3 : 1.0 =================\n",
      "================= Best performance for generation 4 : 1.0 =================\n",
      "================= Best performance for generation 5 : 1.0 =================\n",
      "================= Best performance for generation 6 : 1.0 =================\n",
      "================= Best performance for generation 7 : 1.0 =================\n",
      "================= Best performance for generation 8 : 1.0 =================\n",
      "================= Best performance for generation 9 : 1.0 =================\n",
      "================= Best performance for generation 10 : 1.0 =================\n",
      "================= Best performance for generation 11 : 1.0 =================\n",
      "================= Best performance for generation 12 : 1.0 =================\n",
      "================= Best performance for generation 13 : 1.0 =================\n",
      "================= Best performance for generation 14 : 1.0 =================\n",
      "================= Best performance for generation 15 : 1.0 =================\n",
      "================= Best performance for generation 16 : 1.0 =================\n",
      "================= Best performance for generation 17 : 1.0 =================\n",
      "================= Best performance for generation 18 : 1.0 =================\n",
      "================= Best performance for generation 19 : 1.0 =================\n",
      "================= Best result: 1.0 =================\n",
      "================= Execution time in minutes: 1.0 =================\n"
     ]
    },
    {
     "data": {
      "text/html": [
       "<div>\n",
       "<style scoped>\n",
       "    .dataframe tbody tr th:only-of-type {\n",
       "        vertical-align: middle;\n",
       "    }\n",
       "\n",
       "    .dataframe tbody tr th {\n",
       "        vertical-align: top;\n",
       "    }\n",
       "\n",
       "    .dataframe thead th {\n",
       "        text-align: right;\n",
       "    }\n",
       "</style>\n",
       "<table border=\"1\" class=\"dataframe\">\n",
       "  <thead>\n",
       "    <tr style=\"text-align: right;\">\n",
       "      <th></th>\n",
       "      <th>Feature_Engineering_Technique</th>\n",
       "      <th>Start_Time</th>\n",
       "      <th>End_Time</th>\n",
       "      <th>Time_to_fit</th>\n",
       "    </tr>\n",
       "  </thead>\n",
       "  <tbody>\n",
       "    <tr>\n",
       "      <th>0</th>\n",
       "      <td>FeatureWiz</td>\n",
       "      <td>1.643493e+09</td>\n",
       "      <td>1.643493e+09</td>\n",
       "      <td>1.070410</td>\n",
       "    </tr>\n",
       "    <tr>\n",
       "      <th>1</th>\n",
       "      <td>Autofeat</td>\n",
       "      <td>1.643493e+09</td>\n",
       "      <td>1.643493e+09</td>\n",
       "      <td>0.748070</td>\n",
       "    </tr>\n",
       "    <tr>\n",
       "      <th>2</th>\n",
       "      <td>FeatureEngine</td>\n",
       "      <td>1.643493e+09</td>\n",
       "      <td>1.643493e+09</td>\n",
       "      <td>0.203684</td>\n",
       "    </tr>\n",
       "    <tr>\n",
       "      <th>3</th>\n",
       "      <td>PyImpetus</td>\n",
       "      <td>1.643493e+09</td>\n",
       "      <td>1.643493e+09</td>\n",
       "      <td>13.471862</td>\n",
       "    </tr>\n",
       "    <tr>\n",
       "      <th>4</th>\n",
       "      <td>EvolutionaryFS</td>\n",
       "      <td>1.643493e+09</td>\n",
       "      <td>1.643493e+09</td>\n",
       "      <td>61.549723</td>\n",
       "    </tr>\n",
       "  </tbody>\n",
       "</table>\n",
       "</div>"
      ],
      "text/plain": [
       "  Feature_Engineering_Technique    Start_Time      End_Time  Time_to_fit\n",
       "0                    FeatureWiz  1.643493e+09  1.643493e+09     1.070410\n",
       "1                      Autofeat  1.643493e+09  1.643493e+09     0.748070\n",
       "2                 FeatureEngine  1.643493e+09  1.643493e+09     0.203684\n",
       "3                     PyImpetus  1.643493e+09  1.643493e+09    13.471862\n",
       "4                EvolutionaryFS  1.643493e+09  1.643493e+09    61.549723"
      ]
     },
     "execution_count": 26,
     "metadata": {},
     "output_type": "execute_result"
    }
   ],
   "source": [
    "#############################################EvolutionaryFS#############################################\n",
    "##get train and test data\n",
    "data_dict={0:{'x_train':X_train,'y_train':y_train,'x_test':X_test,'y_test':y_test}}\n",
    "columns_list=list(X.columns)\n",
    "\n",
    "start_evolutionaryfs = time.time()\n",
    "model_object=LogisticRegression(n_jobs=-1,random_state=1)\n",
    "evoObj=GeneticAlgorithmFS(model=model_object,data_dict=data_dict,cost_function=f1_score,average='micro',cost_function_improvement='increase',columns_list=columns_list,generations=20,population=30,prob_crossover=0.9,prob_mutation=0.1,run_time=60000)\n",
    "best_columns_EvolutionaryFS=evoObj.GetBestFeatures()\n",
    "end_evolutionaryfs = time.time()\n",
    "diff = end_evolutionaryfs - start_evolutionaryfs\n",
    "len(best_columns_EvolutionaryFS)\n",
    "time_to_fit = time_to_fit.append({'Feature_Engineering_Technique':'EvolutionaryFS','Start_Time':start_evolutionaryfs,'End_Time':end_evolutionaryfs,'Time_to_fit': diff} , ignore_index=True)\n",
    "time_to_fit.head()"
   ]
  },
  {
   "cell_type": "code",
   "execution_count": 27,
   "metadata": {},
   "outputs": [
    {
     "name": "stderr",
     "output_type": "stream",
     "text": [
      "WARNING:root:1 individuals went zero\n",
      "WARNING:root:1 individuals went zero\n"
     ]
    },
    {
     "name": "stdout",
     "output_type": "stream",
     "text": [
      "\t\t Best value of metric across iteration \t Best value of metric across population  \n",
      "Iteration 0 \t 0.0050498638027706025 \t\t\t\t\t 0.0050498638027706025 \n",
      "Iteration 1 \t 0.005144172394398943 \t\t\t\t\t 0.0050498638027706025 \n",
      "Iteration 2 \t 0.0050498638027706025 \t\t\t\t\t 0.0050498638027706025 \n",
      "Iteration 3 \t 0.0050498638027706025 \t\t\t\t\t 0.0050498638027706025 \n",
      "Iteration 4 \t 0.0050498638027706025 \t\t\t\t\t 0.0050498638027706025 \n",
      "Iteration 5 \t 0.0050498638027706025 \t\t\t\t\t 0.0050498638027706025 \n",
      "Iteration 6 \t 0.0050498638027706025 \t\t\t\t\t 0.0050498638027706025 \n",
      "Iteration 7 \t 0.0050498638027706025 \t\t\t\t\t 0.0050498638027706025 \n",
      "Iteration 8 \t 0.0050498638027706025 \t\t\t\t\t 0.0050498638027706025 \n",
      "Iteration 9 \t 0.0050498638027706025 \t\t\t\t\t 0.0050498638027706025 \n",
      "Iteration 10 \t 0.0050498638027706025 \t\t\t\t\t 0.0050498638027706025 \n",
      "Iteration 11 \t 0.0050498638027706025 \t\t\t\t\t 0.0050498638027706025 \n",
      "Iteration 12 \t 0.0050498638027706025 \t\t\t\t\t 0.0050498638027706025 \n",
      "Iteration 13 \t 0.0050498638027706025 \t\t\t\t\t 0.0050498638027706025 \n",
      "Iteration 14 \t 0.0050498638027706025 \t\t\t\t\t 0.0050498638027706025 \n",
      "Iteration 15 \t 0.0050498638027706025 \t\t\t\t\t 0.0050498638027706025 \n",
      "Iteration 16 \t 0.0050498638027706025 \t\t\t\t\t 0.0050498638027706025 \n",
      "Iteration 17 \t 0.0050498638027706025 \t\t\t\t\t 0.0050498638027706025 \n",
      "Iteration 18 \t 0.0050498638027706025 \t\t\t\t\t 0.0050498638027706025 \n",
      "Iteration 19 \t 0.0050498638027706025 \t\t\t\t\t 0.0050498638027706025 \n",
      "Iteration 20 \t 0.0050498638027706025 \t\t\t\t\t 0.0050498638027706025 \n",
      "Iteration 21 \t 0.0050498638027706025 \t\t\t\t\t 0.0050498638027706025 \n",
      "Iteration 22 \t 0.0050498638027706025 \t\t\t\t\t 0.0050498638027706025 \n",
      "Iteration 23 \t 0.0050498638027706025 \t\t\t\t\t 0.0050498638027706025 \n",
      "Iteration 24 \t 0.0050498638027706025 \t\t\t\t\t 0.0050498638027706025 \n"
     ]
    }
   ],
   "source": [
    "#########################################################Zoof##############################################\n",
    "# define your own objective function, make sure the function receives four parameters,\n",
    "#  fit your model and return the objective value ! \n",
    "def objective_function_topass(model,X_train, y_train, X_test, y_test):      \n",
    "    model.fit(X_train,y_train)  \n",
    "    P=log_loss(y_test,model.predict_proba(X_test))\n",
    "    return P\n",
    "    \n",
    "# create object of algorithm\n",
    "algo_object=ParticleSwarmOptimization(objective_function_topass,n_iteration=25,\n",
    "                                       population_size=20,minimize=True)\n",
    "import lightgbm as lgb\n",
    "lgb_model = lgb.LGBMClassifier()                                       \n",
    "# fit the algorithm\n",
    "start_zoof = time.time()\n",
    "\n",
    "best_columns_zoof = algo_object.fit(lgb_model,X_train, y_train, X_train, y_train,verbose=True)\n",
    "\n",
    "end_zoof = time.time()\n",
    "diff = end_evolutionaryfs - start_evolutionaryfs\n",
    "\n",
    "time_to_fit = time_to_fit.append({'Feature_Engineering_Technique':'Zoof','Start_Time':start_zoof,'End_Time':end_zoof,'Time_to_fit': diff} , ignore_index=True)"
   ]
  },
  {
   "cell_type": "code",
   "execution_count": 28,
   "metadata": {},
   "outputs": [
    {
     "name": "stdout",
     "output_type": "stream",
     "text": [
      "gen\tnevals\tfitness\tfitness_std\tfitness_max\tfitness_min\n",
      "0  \t30    \tnan    \tnan        \tnan        \tnan        \n",
      "1  \t60    \tnan    \tnan        \tnan        \tnan        \n",
      "2  \t60    \t0.820716\t0.1348     \t0.909646   \t0.441392   \n",
      "3  \t60    \t0.902605\t0.0379175  \t0.909646   \t0.698413   \n",
      "4  \t60    \t0.909646\t2.22045e-16\t0.909646   \t0.909646   \n",
      "5  \t60    \t0.909646\t2.22045e-16\t0.909646   \t0.909646   \n",
      "6  \t60    \t0.909646\t2.22045e-16\t0.909646   \t0.909646   \n",
      "7  \t60    \t0.909646\t2.22045e-16\t0.909646   \t0.909646   \n",
      "8  \t60    \t0.909646\t2.22045e-16\t0.909646   \t0.909646   \n",
      "9  \t60    \t0.909646\t2.22045e-16\t0.909646   \t0.909646   \n",
      "10 \t60    \t0.909646\t2.22045e-16\t0.909646   \t0.909646   \n",
      "11 \t60    \t0.909646\t2.22045e-16\t0.909646   \t0.909646   \n",
      "12 \t60    \t0.909646\t2.22045e-16\t0.909646   \t0.909646   \n",
      "13 \t60    \t0.909646\t2.22045e-16\t0.909646   \t0.909646   \n",
      "14 \t60    \t0.909646\t2.22045e-16\t0.909646   \t0.909646   \n",
      "15 \t60    \t0.909646\t2.22045e-16\t0.909646   \t0.909646   \n",
      "16 \t60    \t0.909646\t2.22045e-16\t0.909646   \t0.909646   \n",
      "17 \t60    \t0.909646\t2.22045e-16\t0.909646   \t0.909646   \n",
      "18 \t60    \t0.909646\t2.22045e-16\t0.909646   \t0.909646   \n",
      "19 \t60    \t0.909646\t2.22045e-16\t0.909646   \t0.909646   \n",
      "20 \t60    \t0.909646\t2.22045e-16\t0.909646   \t0.909646   \n"
     ]
    }
   ],
   "source": [
    "###############################Sklearn Genetic Opt##########################################################\n",
    "\n",
    "import matplotlib.pyplot as plt\n",
    "from sklearn_genetic import GAFeatureSelectionCV\n",
    "from sklearn.model_selection import train_test_split, StratifiedKFold\n",
    "from sklearn.svm import SVC\n",
    "from sklearn.datasets import load_iris\n",
    "from sklearn.metrics import accuracy_score\n",
    "import numpy as np\n",
    "\n",
    "clf = SVC(gamma='auto')\n",
    "\n",
    "evolved_estimator = GAFeatureSelectionCV(\n",
    "    estimator=clf,\n",
    "    scoring=\"balanced_accuracy\",\n",
    "    population_size=30,\n",
    "    generations=20,\n",
    "    n_jobs=-1)\n",
    "\n",
    "start_gopt = time.time()\n",
    "# Train and select the features\n",
    "evolved_estimator.fit(X_train, y_train)\n",
    "end_gopt = time.time()\n",
    "\n",
    "diff = end_gopt-start_gopt\n",
    "\n",
    "# Features selected by the algorithm\n",
    "best_columns_genetic_opt = list(evolved_estimator.best_features_)\n",
    "best_columns_genetic_opt = X_train.columns[best_columns_genetic_opt]\n",
    "\n",
    "time_to_fit = time_to_fit.append({'Feature_Engineering_Technique':'Genetic OPT','Start_Time':start_gopt,'End_Time':end_gopt,'Time_to_fit': diff} , ignore_index=True)"
   ]
  },
  {
   "cell_type": "code",
   "execution_count": 29,
   "metadata": {},
   "outputs": [
    {
     "name": "stdout",
     "output_type": "stream",
     "text": [
      "Iteration: \t1 / 100\n",
      "Confirmed: \t0\n",
      "Tentative: \t4\n",
      "Rejected: \t0\n",
      "Iteration: \t2 / 100\n",
      "Confirmed: \t0\n",
      "Tentative: \t4\n",
      "Rejected: \t0\n",
      "Iteration: \t3 / 100\n",
      "Confirmed: \t0\n",
      "Tentative: \t4\n",
      "Rejected: \t0\n",
      "Iteration: \t4 / 100\n",
      "Confirmed: \t0\n",
      "Tentative: \t4\n",
      "Rejected: \t0\n",
      "Iteration: \t5 / 100\n",
      "Confirmed: \t0\n",
      "Tentative: \t4\n",
      "Rejected: \t0\n",
      "Iteration: \t6 / 100\n",
      "Confirmed: \t0\n",
      "Tentative: \t4\n",
      "Rejected: \t0\n",
      "Iteration: \t7 / 100\n",
      "Confirmed: \t0\n",
      "Tentative: \t4\n",
      "Rejected: \t0\n",
      "Iteration: \t8 / 100\n",
      "Confirmed: \t4\n",
      "Tentative: \t0\n",
      "Rejected: \t0\n",
      "\n",
      "\n",
      "BorutaPy finished running.\n",
      "\n",
      "Iteration: \t9 / 100\n",
      "Confirmed: \t4\n",
      "Tentative: \t0\n",
      "Rejected: \t0\n"
     ]
    }
   ],
   "source": [
    "##################BorutaPy###################\n",
    "from boruta import BorutaPy\n",
    "\n",
    "# define random forest classifier, with utilising all cores and\n",
    "# sampling in proportion to y labels\n",
    "rf = RandomForestClassifier(n_jobs=-1, class_weight='balanced', max_depth=5)\n",
    "\n",
    "# define Boruta feature selection method\n",
    "feat_selector = BorutaPy(rf, n_estimators='auto', verbose=2, random_state=1)\n",
    "\n",
    "start_bpy = time.time()\n",
    "feat_selector.fit(X_train.values, y_train)\n",
    "end_bpy = time.time()\n",
    "\n",
    "diff = end_bpy-start_bpy\n",
    "\n",
    "# check selected features - first 5 features are selected\n",
    "feat_selector.support_\n",
    "\n",
    "# check ranking of features\n",
    "feat_selector.ranking_\n",
    "\n",
    "best_columns_borutapy = list(X_train.loc[:,feat_selector.support_].columns)\n",
    "\n",
    "time_to_fit = time_to_fit.append({'Feature_Engineering_Technique':'BorutaPy','Start_Time':start_bpy,'End_Time':end_bpy,'Time_to_fit': diff} , ignore_index=True)"
   ]
  },
  {
   "cell_type": "code",
   "execution_count": 30,
   "metadata": {},
   "outputs": [
    {
     "data": {
      "application/vnd.jupyter.widget-view+json": {
       "model_id": "d8ffa4914c304c458e4efec13edd64cd",
       "version_major": 2,
       "version_minor": 0
      },
      "text/plain": [
       "  0%|          | 0/100 [00:00<?, ?it/s]"
      ]
     },
     "metadata": {},
     "output_type": "display_data"
    },
    {
     "name": "stdout",
     "output_type": "stream",
     "text": [
      "3 attributes confirmed important: ['PetalLengthCm', 'SepalLengthCm', 'PetalWidthCm']\n",
      "1 attributes confirmed unimportant: ['SepalWidthCm']\n",
      "0 tentative attributes remains: []\n"
     ]
    }
   ],
   "source": [
    "#################BorutaShap##################\n",
    "\n",
    "from BorutaShap import BorutaShap\n",
    "\n",
    "# define random forest classifier, with utilising all cores and\n",
    "# sampling in proportion to y labels\n",
    "Feature_Selector = BorutaShap(importance_measure='shap',\n",
    "                              classification=False)\n",
    "\n",
    "start_bshap = time.time()\n",
    "Feature_Selector.fit(X=X_train, y=y_train, n_trials=100, sample=False,train_or_test = 'test', normalize=True,verbose=True)\n",
    "end_bshap = time.time()\n",
    "\n",
    "diff = end_bshap-start_bshap\n",
    "\n",
    "# check selected features - first 5 features are selected\n",
    "subset = Feature_Selector.Subset()\n",
    "\n",
    "best_columns_borutashap = list(subset.columns)\n",
    "\n",
    "time_to_fit = time_to_fit.append({'Feature_Engineering_Technique':'BorutaShap','Start_Time':start_bshap,'End_Time':end_bshap,'Time_to_fit': diff} , ignore_index=True)"
   ]
  },
  {
   "cell_type": "code",
   "execution_count": 31,
   "metadata": {},
   "outputs": [],
   "source": [
    "#Create a dictionary of lists with feature engineering technique\n",
    "fs = {\"FeatureWiz\":best_columns_featurewiz,\"Autofeat\":best_columns_autofeat,\"FeatureEngine\":best_columns_fe,\"PyImpetus\":best_columns_pyimpetus,\"EvolutionaryFS\":best_columns_EvolutionaryFS,\"Zoof\":best_columns_zoof, \"Genetic OPT\":best_columns_genetic_opt, \"BorutaPy\":best_columns_borutapy, \"BorutaShap\":best_columns_borutashap}\n",
    "#fs"
   ]
  },
  {
   "cell_type": "markdown",
   "metadata": {},
   "source": [
    "# Here is an even simpler way to do multi fold cross validation\n",
    "## First set a baseline performance by including all features in model\n",
    "## Then compare that model to feature selection by EvolutionaryFS"
   ]
  },
  {
   "cell_type": "markdown",
   "metadata": {},
   "source": [
    "## The baseline model with all features yields a balanced accuracy score of 91.88%"
   ]
  },
  {
   "cell_type": "code",
   "execution_count": 32,
   "metadata": {},
   "outputs": [],
   "source": [
    "## You must set the randomstate for cross validation. Otherwise, scores will be totally random each time.\n",
    "from sklearn.model_selection import StratifiedKFold, KFold\n",
    "cv = StratifiedKFold(n_splits=5,shuffle=True, random_state=99)\n",
    "#cv = KFold(n_splits=5,shuffle=False, random_state=99) ## Use this for Regression"
   ]
  },
  {
   "cell_type": "markdown",
   "metadata": {},
   "source": [
    "# We have to do the same transforms for X and y "
   ]
  },
  {
   "cell_type": "code",
   "execution_count": 33,
   "metadata": {},
   "outputs": [
    {
     "data": {
      "text/html": [
       "<div>\n",
       "<style scoped>\n",
       "    .dataframe tbody tr th:only-of-type {\n",
       "        vertical-align: middle;\n",
       "    }\n",
       "\n",
       "    .dataframe tbody tr th {\n",
       "        vertical-align: top;\n",
       "    }\n",
       "\n",
       "    .dataframe thead th {\n",
       "        text-align: right;\n",
       "    }\n",
       "</style>\n",
       "<table border=\"1\" class=\"dataframe\">\n",
       "  <thead>\n",
       "    <tr style=\"text-align: right;\">\n",
       "      <th></th>\n",
       "      <th>SepalLengthCm</th>\n",
       "      <th>SepalWidthCm</th>\n",
       "      <th>PetalLengthCm</th>\n",
       "      <th>PetalWidthCm</th>\n",
       "    </tr>\n",
       "  </thead>\n",
       "  <tbody>\n",
       "    <tr>\n",
       "      <th>0</th>\n",
       "      <td>5.1</td>\n",
       "      <td>3.5</td>\n",
       "      <td>1.4</td>\n",
       "      <td>0.2</td>\n",
       "    </tr>\n",
       "    <tr>\n",
       "      <th>1</th>\n",
       "      <td>4.9</td>\n",
       "      <td>3.0</td>\n",
       "      <td>1.4</td>\n",
       "      <td>0.2</td>\n",
       "    </tr>\n",
       "    <tr>\n",
       "      <th>2</th>\n",
       "      <td>4.7</td>\n",
       "      <td>3.2</td>\n",
       "      <td>1.3</td>\n",
       "      <td>0.2</td>\n",
       "    </tr>\n",
       "    <tr>\n",
       "      <th>3</th>\n",
       "      <td>4.6</td>\n",
       "      <td>3.1</td>\n",
       "      <td>1.5</td>\n",
       "      <td>0.2</td>\n",
       "    </tr>\n",
       "    <tr>\n",
       "      <th>4</th>\n",
       "      <td>5.0</td>\n",
       "      <td>3.6</td>\n",
       "      <td>1.4</td>\n",
       "      <td>0.2</td>\n",
       "    </tr>\n",
       "  </tbody>\n",
       "</table>\n",
       "</div>"
      ],
      "text/plain": [
       "   SepalLengthCm  SepalWidthCm  PetalLengthCm  PetalWidthCm\n",
       "0            5.1           3.5            1.4           0.2\n",
       "1            4.9           3.0            1.4           0.2\n",
       "2            4.7           3.2            1.3           0.2\n",
       "3            4.6           3.1            1.5           0.2\n",
       "4            5.0           3.6            1.4           0.2"
      ]
     },
     "execution_count": 33,
     "metadata": {},
     "output_type": "execute_result"
    }
   ],
   "source": [
    "#Category+Object Transforms -> You must always fit_transform train while only doing transform for test\n",
    "if len(cat_columns+obj_columns):\n",
    "    for each_cat in cat_columns+obj_columns:\n",
    "        LB = LabelEncoder()\n",
    "        X[each_cat] = LB.fit_transform(X[each_cat])\n",
    "        print(each_cat+' completed X transform')\n",
    "X.head()"
   ]
  },
  {
   "cell_type": "code",
   "execution_count": 34,
   "metadata": {},
   "outputs": [
    {
     "name": "stdout",
     "output_type": "stream",
     "text": [
      "completed Min Max Scaling for X\n"
     ]
    }
   ],
   "source": [
    "#MinMax Scale Features -> You must always fit_transform train while only doing transform for test\n",
    "for each_col in cols:\n",
    "    scaler = MinMaxScaler(feature_range = (1,100))\n",
    "    X[each_col] = scaler.fit_transform(X[each_col].values.reshape(-1,1))\n",
    "print('completed Min Max Scaling for X')"
   ]
  },
  {
   "cell_type": "markdown",
   "metadata": {},
   "source": [
    "# Using all features in dataset, this is the baseline score"
   ]
  },
  {
   "cell_type": "code",
   "execution_count": 35,
   "metadata": {},
   "outputs": [
    {
     "name": "stdout",
     "output_type": "stream",
     "text": [
      "[0.9        0.96666667 0.93333333 0.96666667 1.        ]\n",
      "Mean Score for all features = 0.9533333333333334\n"
     ]
    }
   ],
   "source": [
    "model1 = RandomForestClassifier(n_estimators=300, random_state=99)\n",
    "from sklearn.model_selection import cross_val_score\n",
    "scores = cross_val_score(estimator=model1, X=X, y=y, scoring='balanced_accuracy', cv=cv)\n",
    "print(scores)\n",
    "print('Mean Score for all features = %s' %scores.mean())"
   ]
  },
  {
   "cell_type": "markdown",
   "metadata": {},
   "source": [
    "##  Here we run Cross Validation and get accuracy metrics for each technique"
   ]
  },
  {
   "cell_type": "code",
   "execution_count": 36,
   "metadata": {},
   "outputs": [
    {
     "name": "stdout",
     "output_type": "stream",
     "text": [
      "[0.95833333 0.875      0.91666667 0.95833333 0.875     ]\n",
      "Mean Score for FeatureWiz = 0.9166666666666667\n",
      "[0.95833333 0.875      0.95833333 0.83333333 0.91666667]\n",
      "Mean Score for Autofeat = 0.9083333333333334\n",
      "[0.91666667 0.875      0.91666667 0.91666667 0.875     ]\n",
      "Mean Score for FeatureEngine = 0.9\n",
      "[0.91666667 1.         0.95833333 0.91666667 0.95833333]\n",
      "Mean Score for PyImpetus = 0.95\n",
      "[0.95833333 0.95833333 0.95833333 0.91666667 1.        ]\n",
      "Mean Score for EvolutionaryFS = 0.9583333333333333\n",
      "[0.91666667 1.         0.95833333 0.91666667 0.95833333]\n",
      "Mean Score for Zoof = 0.95\n",
      "[0.95833333 0.95833333 0.95833333 0.91666667 1.        ]\n",
      "Mean Score for Genetic OPT = 0.9583333333333333\n",
      "[0.91666667 1.         0.95833333 0.91666667 0.95833333]\n",
      "Mean Score for BorutaPy = 0.95\n",
      "[0.91666667 1.         0.95833333 0.91666667 0.95833333]\n",
      "Mean Score for BorutaShap = 0.95\n"
     ]
    },
    {
     "data": {
      "text/html": [
       "<div>\n",
       "<style scoped>\n",
       "    .dataframe tbody tr th:only-of-type {\n",
       "        vertical-align: middle;\n",
       "    }\n",
       "\n",
       "    .dataframe tbody tr th {\n",
       "        vertical-align: top;\n",
       "    }\n",
       "\n",
       "    .dataframe thead th {\n",
       "        text-align: right;\n",
       "    }\n",
       "</style>\n",
       "<table border=\"1\" class=\"dataframe\">\n",
       "  <thead>\n",
       "    <tr style=\"text-align: right;\">\n",
       "      <th></th>\n",
       "      <th>Feature_Engineering_Technique</th>\n",
       "      <th>Start_Time</th>\n",
       "      <th>End_Time</th>\n",
       "      <th>Time_to_fit</th>\n",
       "      <th>Mean_CV_Accuracy</th>\n",
       "    </tr>\n",
       "  </thead>\n",
       "  <tbody>\n",
       "    <tr>\n",
       "      <th>0</th>\n",
       "      <td>FeatureWiz</td>\n",
       "      <td>1.643493e+09</td>\n",
       "      <td>1.643493e+09</td>\n",
       "      <td>1.070410</td>\n",
       "      <td>0.916667</td>\n",
       "    </tr>\n",
       "    <tr>\n",
       "      <th>1</th>\n",
       "      <td>Autofeat</td>\n",
       "      <td>1.643493e+09</td>\n",
       "      <td>1.643493e+09</td>\n",
       "      <td>0.748070</td>\n",
       "      <td>0.908333</td>\n",
       "    </tr>\n",
       "    <tr>\n",
       "      <th>2</th>\n",
       "      <td>FeatureEngine</td>\n",
       "      <td>1.643493e+09</td>\n",
       "      <td>1.643493e+09</td>\n",
       "      <td>0.203684</td>\n",
       "      <td>0.900000</td>\n",
       "    </tr>\n",
       "    <tr>\n",
       "      <th>3</th>\n",
       "      <td>PyImpetus</td>\n",
       "      <td>1.643493e+09</td>\n",
       "      <td>1.643493e+09</td>\n",
       "      <td>13.471862</td>\n",
       "      <td>0.950000</td>\n",
       "    </tr>\n",
       "    <tr>\n",
       "      <th>4</th>\n",
       "      <td>EvolutionaryFS</td>\n",
       "      <td>1.643493e+09</td>\n",
       "      <td>1.643493e+09</td>\n",
       "      <td>61.549723</td>\n",
       "      <td>0.958333</td>\n",
       "    </tr>\n",
       "  </tbody>\n",
       "</table>\n",
       "</div>"
      ],
      "text/plain": [
       "  Feature_Engineering_Technique    Start_Time      End_Time  Time_to_fit  \\\n",
       "0                    FeatureWiz  1.643493e+09  1.643493e+09     1.070410   \n",
       "1                      Autofeat  1.643493e+09  1.643493e+09     0.748070   \n",
       "2                 FeatureEngine  1.643493e+09  1.643493e+09     0.203684   \n",
       "3                     PyImpetus  1.643493e+09  1.643493e+09    13.471862   \n",
       "4                EvolutionaryFS  1.643493e+09  1.643493e+09    61.549723   \n",
       "\n",
       "   Mean_CV_Accuracy  \n",
       "0          0.916667  \n",
       "1          0.908333  \n",
       "2          0.900000  \n",
       "3          0.950000  \n",
       "4          0.958333  "
      ]
     },
     "execution_count": 36,
     "metadata": {},
     "output_type": "execute_result"
    }
   ],
   "source": [
    "performance = pd.DataFrame(columns=['Start_Time','End_Time','Run_Time','Accuracy_Score','Model','Feature_Engineering_Technique'])\n",
    "cv = StratifiedKFold(n_splits=5,shuffle=True, random_state=99)\n",
    "for key,value in fs.items():\n",
    "    start = time.time()\n",
    "    model2 = RandomForestClassifier(n_estimators=300, random_state=99)\n",
    "    from sklearn.model_selection import cross_val_score\n",
    "    scores = cross_val_score(estimator=model2, X=X_train[value], y=y_train, scoring='balanced_accuracy', cv=cv, n_jobs=-1)\n",
    "    end = time.time()\n",
    "    diff = (end-start)\n",
    "    print(scores)\n",
    "    print('Mean Score for %s = %s' %(key, scores.mean()))\n",
    "    performance = performance.append({'Start_Time':start,'End_Time':end,'Run_Time':diff,'Accuracy_Score':scores.mean(),'Model':'RandomForest','Feature_Engineering_Technique':key} , ignore_index=True)\n",
    "    time_to_fit.loc[(time_to_fit['Feature_Engineering_Technique']==key), 'Mean_CV_Accuracy'] = scores.mean()\n",
    "time_to_fit.head()"
   ]
  },
  {
   "cell_type": "markdown",
   "metadata": {},
   "source": [
    "## You must finally train a model on X_train and test it on X_test using selected features"
   ]
  },
  {
   "cell_type": "code",
   "execution_count": 37,
   "metadata": {},
   "outputs": [
    {
     "name": "stdout",
     "output_type": "stream",
     "text": [
      "              precision    recall  f1-score   support\n",
      "\n",
      "           0       1.00      1.00      1.00        10\n",
      "           1       0.82      0.90      0.86        10\n",
      "           2       0.89      0.80      0.84        10\n",
      "\n",
      "    accuracy                           0.90        30\n",
      "   macro avg       0.90      0.90      0.90        30\n",
      "weighted avg       0.90      0.90      0.90        30\n",
      "\n",
      "              precision    recall  f1-score   support\n",
      "\n",
      "           0       1.00      1.00      1.00        10\n",
      "           1       0.90      0.90      0.90        10\n",
      "           2       0.90      0.90      0.90        10\n",
      "\n",
      "    accuracy                           0.93        30\n",
      "   macro avg       0.93      0.93      0.93        30\n",
      "weighted avg       0.93      0.93      0.93        30\n",
      "\n",
      "              precision    recall  f1-score   support\n",
      "\n",
      "           0       1.00      1.00      1.00        10\n",
      "           1       0.82      0.90      0.86        10\n",
      "           2       0.89      0.80      0.84        10\n",
      "\n",
      "    accuracy                           0.90        30\n",
      "   macro avg       0.90      0.90      0.90        30\n",
      "weighted avg       0.90      0.90      0.90        30\n",
      "\n",
      "              precision    recall  f1-score   support\n",
      "\n",
      "           0       1.00      1.00      1.00        10\n",
      "           1       0.91      1.00      0.95        10\n",
      "           2       1.00      0.90      0.95        10\n",
      "\n",
      "    accuracy                           0.97        30\n",
      "   macro avg       0.97      0.97      0.97        30\n",
      "weighted avg       0.97      0.97      0.97        30\n",
      "\n",
      "              precision    recall  f1-score   support\n",
      "\n",
      "           0       1.00      1.00      1.00        10\n",
      "           1       0.91      1.00      0.95        10\n",
      "           2       1.00      0.90      0.95        10\n",
      "\n",
      "    accuracy                           0.97        30\n",
      "   macro avg       0.97      0.97      0.97        30\n",
      "weighted avg       0.97      0.97      0.97        30\n",
      "\n",
      "              precision    recall  f1-score   support\n",
      "\n",
      "           0       1.00      1.00      1.00        10\n",
      "           1       0.91      1.00      0.95        10\n",
      "           2       1.00      0.90      0.95        10\n",
      "\n",
      "    accuracy                           0.97        30\n",
      "   macro avg       0.97      0.97      0.97        30\n",
      "weighted avg       0.97      0.97      0.97        30\n",
      "\n",
      "              precision    recall  f1-score   support\n",
      "\n",
      "           0       1.00      1.00      1.00        10\n",
      "           1       0.91      1.00      0.95        10\n",
      "           2       1.00      0.90      0.95        10\n",
      "\n",
      "    accuracy                           0.97        30\n",
      "   macro avg       0.97      0.97      0.97        30\n",
      "weighted avg       0.97      0.97      0.97        30\n",
      "\n",
      "              precision    recall  f1-score   support\n",
      "\n",
      "           0       1.00      1.00      1.00        10\n",
      "           1       0.91      1.00      0.95        10\n",
      "           2       1.00      0.90      0.95        10\n",
      "\n",
      "    accuracy                           0.97        30\n",
      "   macro avg       0.97      0.97      0.97        30\n",
      "weighted avg       0.97      0.97      0.97        30\n",
      "\n",
      "              precision    recall  f1-score   support\n",
      "\n",
      "           0       1.00      1.00      1.00        10\n",
      "           1       0.91      1.00      0.95        10\n",
      "           2       1.00      0.90      0.95        10\n",
      "\n",
      "    accuracy                           0.97        30\n",
      "   macro avg       0.97      0.97      0.97        30\n",
      "weighted avg       0.97      0.97      0.97        30\n",
      "\n"
     ]
    }
   ],
   "source": [
    "#Using Lime to interpret the results of model\n",
    "#from lime import lime_text\n",
    "from sklearn.pipeline import make_pipeline\n",
    "from sklearn.metrics import balanced_accuracy_score, mean_squared_error\n",
    "#import lime.lime_tabular\n",
    "\n",
    "for key,value in fs.items():\n",
    "    model3 = RandomForestClassifier(n_estimators=300, random_state=99)\n",
    "    from sklearn.metrics import classification_report\n",
    "    model3.fit(X_train[value], y_train)\n",
    "    print(classification_report(y_test, model3.predict(X_test[value])))\n",
    "    score_val = balanced_accuracy_score(y_test, model3.predict(X_test[value]))\n",
    "    time_to_fit.loc[(time_to_fit['Feature_Engineering_Technique']==key), 'Mean_Test_Accuracy'] = score_val\n",
    "    #print(\"Lime Feature Importance : \"+key)\n",
    "    #explainer = lime.lime_tabular.LimeTabularExplainer(X_train[value].values, feature_names=X_train[value].columns, class_names=[0, 1], mode='classification')\n",
    "    #exp = explainer.explain_instance(X_test[value].values[1], model3.predict_proba, num_features=len(X_train[value].columns))\n",
    "    #exp.show_in_notebook(show_table=True, show_all=False)"
   ]
  },
  {
   "cell_type": "code",
   "execution_count": 38,
   "metadata": {},
   "outputs": [],
   "source": [
    "time_to_fit['Dataset'] = \"Iris\"\n",
    "time_to_fit['Type'] = \"Multi Classification\"\n",
    "time_to_fit['Metric'] = \"balanced accuracy\""
   ]
  },
  {
   "cell_type": "code",
   "execution_count": 39,
   "metadata": {},
   "outputs": [
    {
     "data": {
      "text/html": [
       "<div>\n",
       "<style scoped>\n",
       "    .dataframe tbody tr th:only-of-type {\n",
       "        vertical-align: middle;\n",
       "    }\n",
       "\n",
       "    .dataframe tbody tr th {\n",
       "        vertical-align: top;\n",
       "    }\n",
       "\n",
       "    .dataframe thead th {\n",
       "        text-align: right;\n",
       "    }\n",
       "</style>\n",
       "<table border=\"1\" class=\"dataframe\">\n",
       "  <thead>\n",
       "    <tr style=\"text-align: right;\">\n",
       "      <th></th>\n",
       "      <th>Feature_Engineering_Technique</th>\n",
       "      <th>Start_Time</th>\n",
       "      <th>End_Time</th>\n",
       "      <th>Time_to_fit</th>\n",
       "      <th>Mean_CV_Accuracy</th>\n",
       "      <th>Mean_Test_Accuracy</th>\n",
       "      <th>Dataset</th>\n",
       "      <th>Type</th>\n",
       "      <th>Metric</th>\n",
       "    </tr>\n",
       "  </thead>\n",
       "  <tbody>\n",
       "    <tr>\n",
       "      <th>0</th>\n",
       "      <td>FeatureWiz</td>\n",
       "      <td>1.643493e+09</td>\n",
       "      <td>1.643493e+09</td>\n",
       "      <td>1.070410</td>\n",
       "      <td>0.916667</td>\n",
       "      <td>0.900000</td>\n",
       "      <td>Iris</td>\n",
       "      <td>Multi Classification</td>\n",
       "      <td>balanced accuracy</td>\n",
       "    </tr>\n",
       "    <tr>\n",
       "      <th>1</th>\n",
       "      <td>Autofeat</td>\n",
       "      <td>1.643493e+09</td>\n",
       "      <td>1.643493e+09</td>\n",
       "      <td>0.748070</td>\n",
       "      <td>0.908333</td>\n",
       "      <td>0.933333</td>\n",
       "      <td>Iris</td>\n",
       "      <td>Multi Classification</td>\n",
       "      <td>balanced accuracy</td>\n",
       "    </tr>\n",
       "    <tr>\n",
       "      <th>2</th>\n",
       "      <td>FeatureEngine</td>\n",
       "      <td>1.643493e+09</td>\n",
       "      <td>1.643493e+09</td>\n",
       "      <td>0.203684</td>\n",
       "      <td>0.900000</td>\n",
       "      <td>0.900000</td>\n",
       "      <td>Iris</td>\n",
       "      <td>Multi Classification</td>\n",
       "      <td>balanced accuracy</td>\n",
       "    </tr>\n",
       "    <tr>\n",
       "      <th>3</th>\n",
       "      <td>PyImpetus</td>\n",
       "      <td>1.643493e+09</td>\n",
       "      <td>1.643493e+09</td>\n",
       "      <td>13.471862</td>\n",
       "      <td>0.950000</td>\n",
       "      <td>0.966667</td>\n",
       "      <td>Iris</td>\n",
       "      <td>Multi Classification</td>\n",
       "      <td>balanced accuracy</td>\n",
       "    </tr>\n",
       "    <tr>\n",
       "      <th>4</th>\n",
       "      <td>EvolutionaryFS</td>\n",
       "      <td>1.643493e+09</td>\n",
       "      <td>1.643493e+09</td>\n",
       "      <td>61.549723</td>\n",
       "      <td>0.958333</td>\n",
       "      <td>0.966667</td>\n",
       "      <td>Iris</td>\n",
       "      <td>Multi Classification</td>\n",
       "      <td>balanced accuracy</td>\n",
       "    </tr>\n",
       "    <tr>\n",
       "      <th>5</th>\n",
       "      <td>Zoof</td>\n",
       "      <td>1.643493e+09</td>\n",
       "      <td>1.643493e+09</td>\n",
       "      <td>61.549723</td>\n",
       "      <td>0.950000</td>\n",
       "      <td>0.966667</td>\n",
       "      <td>Iris</td>\n",
       "      <td>Multi Classification</td>\n",
       "      <td>balanced accuracy</td>\n",
       "    </tr>\n",
       "    <tr>\n",
       "      <th>6</th>\n",
       "      <td>Genetic OPT</td>\n",
       "      <td>1.643493e+09</td>\n",
       "      <td>1.643493e+09</td>\n",
       "      <td>22.003150</td>\n",
       "      <td>0.958333</td>\n",
       "      <td>0.966667</td>\n",
       "      <td>Iris</td>\n",
       "      <td>Multi Classification</td>\n",
       "      <td>balanced accuracy</td>\n",
       "    </tr>\n",
       "    <tr>\n",
       "      <th>7</th>\n",
       "      <td>BorutaPy</td>\n",
       "      <td>1.643493e+09</td>\n",
       "      <td>1.643493e+09</td>\n",
       "      <td>2.852785</td>\n",
       "      <td>0.950000</td>\n",
       "      <td>0.966667</td>\n",
       "      <td>Iris</td>\n",
       "      <td>Multi Classification</td>\n",
       "      <td>balanced accuracy</td>\n",
       "    </tr>\n",
       "    <tr>\n",
       "      <th>8</th>\n",
       "      <td>BorutaShap</td>\n",
       "      <td>1.643493e+09</td>\n",
       "      <td>1.643493e+09</td>\n",
       "      <td>17.724970</td>\n",
       "      <td>0.950000</td>\n",
       "      <td>0.966667</td>\n",
       "      <td>Iris</td>\n",
       "      <td>Multi Classification</td>\n",
       "      <td>balanced accuracy</td>\n",
       "    </tr>\n",
       "  </tbody>\n",
       "</table>\n",
       "</div>"
      ],
      "text/plain": [
       "  Feature_Engineering_Technique    Start_Time      End_Time  Time_to_fit  \\\n",
       "0                    FeatureWiz  1.643493e+09  1.643493e+09     1.070410   \n",
       "1                      Autofeat  1.643493e+09  1.643493e+09     0.748070   \n",
       "2                 FeatureEngine  1.643493e+09  1.643493e+09     0.203684   \n",
       "3                     PyImpetus  1.643493e+09  1.643493e+09    13.471862   \n",
       "4                EvolutionaryFS  1.643493e+09  1.643493e+09    61.549723   \n",
       "5                          Zoof  1.643493e+09  1.643493e+09    61.549723   \n",
       "6                   Genetic OPT  1.643493e+09  1.643493e+09    22.003150   \n",
       "7                      BorutaPy  1.643493e+09  1.643493e+09     2.852785   \n",
       "8                    BorutaShap  1.643493e+09  1.643493e+09    17.724970   \n",
       "\n",
       "   Mean_CV_Accuracy  Mean_Test_Accuracy Dataset                  Type  \\\n",
       "0          0.916667            0.900000    Iris  Multi Classification   \n",
       "1          0.908333            0.933333    Iris  Multi Classification   \n",
       "2          0.900000            0.900000    Iris  Multi Classification   \n",
       "3          0.950000            0.966667    Iris  Multi Classification   \n",
       "4          0.958333            0.966667    Iris  Multi Classification   \n",
       "5          0.950000            0.966667    Iris  Multi Classification   \n",
       "6          0.958333            0.966667    Iris  Multi Classification   \n",
       "7          0.950000            0.966667    Iris  Multi Classification   \n",
       "8          0.950000            0.966667    Iris  Multi Classification   \n",
       "\n",
       "              Metric  \n",
       "0  balanced accuracy  \n",
       "1  balanced accuracy  \n",
       "2  balanced accuracy  \n",
       "3  balanced accuracy  \n",
       "4  balanced accuracy  \n",
       "5  balanced accuracy  \n",
       "6  balanced accuracy  \n",
       "7  balanced accuracy  \n",
       "8  balanced accuracy  "
      ]
     },
     "execution_count": 39,
     "metadata": {},
     "output_type": "execute_result"
    }
   ],
   "source": [
    "time_to_fit"
   ]
  },
  {
   "cell_type": "markdown",
   "metadata": {},
   "source": [
    "# This is another way to know how well feature selection works"
   ]
  },
  {
   "cell_type": "markdown",
   "metadata": {},
   "source": [
    "notes : Class imbalance - PyImpetus"
   ]
  }
 ],
 "metadata": {
  "kernelspec": {
   "display_name": "Python 3 (ipykernel)",
   "language": "python",
   "name": "python3"
  },
  "language_info": {
   "codemirror_mode": {
    "name": "ipython",
    "version": 3
   },
   "file_extension": ".py",
   "mimetype": "text/x-python",
   "name": "python",
   "nbconvert_exporter": "python",
   "pygments_lexer": "ipython3",
   "version": "3.7.4"
  }
 },
 "nbformat": 4,
 "nbformat_minor": 2
}
