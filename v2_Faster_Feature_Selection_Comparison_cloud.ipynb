{
 "cells": [
  {
   "cell_type": "markdown",
   "metadata": {},
   "source": [
    "# Here is a simpler process"
   ]
  },
  {
   "cell_type": "code",
   "execution_count": 1,
   "metadata": {},
   "outputs": [
    {
     "name": "stdout",
     "output_type": "stream",
     "text": [
      "3.7.4\n",
      "scipy:1.7.3\n"
     ]
    }
   ],
   "source": [
    "from platform import python_version\n",
    "import autokeras as ak\n",
    "import datetime as dt\n",
    "from sklearn.linear_model import LinearRegression\n",
    "import pandas as pd\n",
    "from sklearn.metrics import f1_score\n",
    "print(python_version())\n",
    "import scipy\n",
    "print('scipy:'+scipy.__version__)\n",
    "from sklearn.ensemble import RandomForestRegressor\n",
    "import matplotlib.pyplot as plt\n",
    "from sklearn.preprocessing import MinMaxScaler\n",
    "import numpy as np\n",
    "from sklearn.metrics import log_loss\n",
    "import time\n",
    "import xgboost"
   ]
  },
  {
   "cell_type": "code",
   "execution_count": 2,
   "metadata": {},
   "outputs": [
    {
     "data": {
      "text/plain": [
       "'C:\\\\Users\\\\shaun'"
      ]
     },
     "execution_count": 2,
     "metadata": {},
     "output_type": "execute_result"
    }
   ],
   "source": [
    "import os\n",
    "\n",
    "os.getcwd()"
   ]
  },
  {
   "cell_type": "markdown",
   "metadata": {},
   "source": [
    "# Read the file"
   ]
  },
  {
   "cell_type": "code",
   "execution_count": 3,
   "metadata": {},
   "outputs": [
    {
     "name": "stdout",
     "output_type": "stream",
     "text": [
      "(108, 10)\n"
     ]
    },
    {
     "data": {
      "text/html": [
       "<div>\n",
       "<style scoped>\n",
       "    .dataframe tbody tr th:only-of-type {\n",
       "        vertical-align: middle;\n",
       "    }\n",
       "\n",
       "    .dataframe tbody tr th {\n",
       "        vertical-align: top;\n",
       "    }\n",
       "\n",
       "    .dataframe thead th {\n",
       "        text-align: right;\n",
       "    }\n",
       "</style>\n",
       "<table border=\"1\" class=\"dataframe\">\n",
       "  <thead>\n",
       "    <tr style=\"text-align: right;\">\n",
       "      <th></th>\n",
       "      <th>NC</th>\n",
       "      <th>SC</th>\n",
       "      <th>NWC</th>\n",
       "      <th>Target</th>\n",
       "      <th>seeded_S</th>\n",
       "      <th>seeded_U</th>\n",
       "      <th>season_AUTUMN</th>\n",
       "      <th>season_SPRING</th>\n",
       "      <th>season_SUMMER</th>\n",
       "      <th>season_WINTER</th>\n",
       "    </tr>\n",
       "  </thead>\n",
       "  <tbody>\n",
       "    <tr>\n",
       "      <th>0</th>\n",
       "      <td>1.65</td>\n",
       "      <td>1.80</td>\n",
       "      <td>3.33</td>\n",
       "      <td>1.69</td>\n",
       "      <td>1</td>\n",
       "      <td>0</td>\n",
       "      <td>1</td>\n",
       "      <td>0</td>\n",
       "      <td>0</td>\n",
       "      <td>0</td>\n",
       "    </tr>\n",
       "    <tr>\n",
       "      <th>1</th>\n",
       "      <td>1.09</td>\n",
       "      <td>0.79</td>\n",
       "      <td>1.59</td>\n",
       "      <td>0.74</td>\n",
       "      <td>0</td>\n",
       "      <td>1</td>\n",
       "      <td>1</td>\n",
       "      <td>0</td>\n",
       "      <td>0</td>\n",
       "      <td>0</td>\n",
       "    </tr>\n",
       "    <tr>\n",
       "      <th>2</th>\n",
       "      <td>2.39</td>\n",
       "      <td>0.36</td>\n",
       "      <td>2.06</td>\n",
       "      <td>0.81</td>\n",
       "      <td>1</td>\n",
       "      <td>0</td>\n",
       "      <td>0</td>\n",
       "      <td>0</td>\n",
       "      <td>0</td>\n",
       "      <td>1</td>\n",
       "    </tr>\n",
       "    <tr>\n",
       "      <th>3</th>\n",
       "      <td>2.96</td>\n",
       "      <td>1.27</td>\n",
       "      <td>4.05</td>\n",
       "      <td>1.44</td>\n",
       "      <td>0</td>\n",
       "      <td>1</td>\n",
       "      <td>0</td>\n",
       "      <td>0</td>\n",
       "      <td>0</td>\n",
       "      <td>1</td>\n",
       "    </tr>\n",
       "    <tr>\n",
       "      <th>4</th>\n",
       "      <td>4.16</td>\n",
       "      <td>2.16</td>\n",
       "      <td>6.00</td>\n",
       "      <td>2.48</td>\n",
       "      <td>1</td>\n",
       "      <td>0</td>\n",
       "      <td>0</td>\n",
       "      <td>0</td>\n",
       "      <td>0</td>\n",
       "      <td>1</td>\n",
       "    </tr>\n",
       "  </tbody>\n",
       "</table>\n",
       "</div>"
      ],
      "text/plain": [
       "     NC    SC   NWC  Target  seeded_S  seeded_U  season_AUTUMN  season_SPRING  \\\n",
       "0  1.65  1.80  3.33    1.69         1         0              1              0   \n",
       "1  1.09  0.79  1.59    0.74         0         1              1              0   \n",
       "2  2.39  0.36  2.06    0.81         1         0              0              0   \n",
       "3  2.96  1.27  4.05    1.44         0         1              0              0   \n",
       "4  4.16  2.16  6.00    2.48         1         0              0              0   \n",
       "\n",
       "   season_SUMMER  season_WINTER  \n",
       "0              0              0  \n",
       "1              0              0  \n",
       "2              0              1  \n",
       "3              0              1  \n",
       "4              0              1  "
      ]
     },
     "execution_count": 3,
     "metadata": {},
     "output_type": "execute_result"
    }
   ],
   "source": [
    "datapath = r\"C:\\Users\\shaun\\OneDrive\\Desktop\\Feature_Engineering_Project\\cloud.csv\"\n",
    "#datapath = './'\n",
    "#filename = 'ionosphere.csv'\n",
    "df = pd.read_csv(datapath)\n",
    "print(df.shape)\n",
    "df.head()"
   ]
  },
  {
   "cell_type": "code",
   "execution_count": 4,
   "metadata": {},
   "outputs": [],
   "source": [
    "target = 'Target'"
   ]
  },
  {
   "cell_type": "code",
   "execution_count": 5,
   "metadata": {},
   "outputs": [],
   "source": [
    "#Extract list of numeric columns\n",
    "cols = ['NC','SC','NWC']"
   ]
  },
  {
   "cell_type": "code",
   "execution_count": 6,
   "metadata": {},
   "outputs": [
    {
     "data": {
      "text/plain": [
       "<AxesSubplot:>"
      ]
     },
     "execution_count": 6,
     "metadata": {},
     "output_type": "execute_result"
    },
    {
     "data": {
      "image/png": "[encoded data removed]",
      "text/plain": [
       "<Figure size 432x288 with 1 Axes>"
      ]
     },
     "metadata": {
      "needs_background": "light"
     },
     "output_type": "display_data"
    }
   ],
   "source": [
    "df[target].hist()"
   ]
  },
  {
   "cell_type": "code",
   "execution_count": 7,
   "metadata": {},
   "outputs": [],
   "source": [
    "#from sklearn.preprocessing import LabelEncoder\n",
    "#lb_make = LabelEncoder()\n",
    "#df[target] = lb_make.fit_transform(df[target])\n",
    "#df[[target]].head(1)"
   ]
  },
  {
   "cell_type": "markdown",
   "metadata": {},
   "source": [
    "# Import each tool you are evaluating here"
   ]
  },
  {
   "cell_type": "markdown",
   "metadata": {},
   "source": [
    "Importing PyImpetus, Eli5, EvolutionaryFS, autofeat ; To Include More from https://www.opensourceagenda.com/tags/feature-selection?page=2"
   ]
  },
  {
   "cell_type": "code",
   "execution_count": 8,
   "metadata": {},
   "outputs": [
    {
     "name": "stdout",
     "output_type": "stream",
     "text": [
      "Imported DASK version = 0.0.91. nrows=None uses all rows. Set nrows=1000 to randomly sample fewer rows.\n",
      "output = featurewiz(dataname, target, corr_limit=0.70, verbose=2, sep=',', \n",
      "\t\theader=0, test_data='',feature_engg='', category_encoders='',\n",
      "\t\tdask_xgboost_flag=False, nrows=None)\n",
      "Create new features via 'feature_engg' flag : ['interactions','groupby','target']\n",
      "                                \n"
     ]
    }
   ],
   "source": [
    "from PyImpetus import PPIMBR\n",
    "#import eli5\n",
    "#from eli5.sklearn import PermutationImportance\n",
    "from sklearn.svm import SVC\n",
    "from sklearn.feature_selection import SelectFromModel\n",
    "from EvolutionaryFS import GeneticAlgorithmFS\n",
    "from zoofs import ParticleSwarmOptimization\n",
    "from sklearn.metrics import mean_squared_error\n",
    "\n",
    "import featurewiz as fwiz\n",
    "from featurewiz import FeatureWiz\n",
    "\n",
    "from autofeat import FeatureSelector\n",
    "\n",
    "#from autofeat import AutoFeatRegressor"
   ]
  },
  {
   "cell_type": "code",
   "execution_count": 9,
   "metadata": {},
   "outputs": [],
   "source": [
    "import featurewiz as fwiz"
   ]
  },
  {
   "cell_type": "markdown",
   "metadata": {},
   "source": [
    "# Define the dataset and target here"
   ]
  },
  {
   "cell_type": "code",
   "execution_count": 10,
   "metadata": {},
   "outputs": [
    {
     "data": {
      "text/plain": [
       "9"
      ]
     },
     "execution_count": 10,
     "metadata": {},
     "output_type": "execute_result"
    }
   ],
   "source": [
    "preds = [x for x in list(df) if x not in [target]]\n",
    "len(preds)"
   ]
  },
  {
   "cell_type": "code",
   "execution_count": 11,
   "metadata": {},
   "outputs": [
    {
     "name": "stdout",
     "output_type": "stream",
     "text": [
      "(108, 9) (108,)\n"
     ]
    }
   ],
   "source": [
    "X = df[preds]\n",
    "y = df[target]\n",
    "print(X.shape, y.shape)"
   ]
  },
  {
   "cell_type": "code",
   "execution_count": 12,
   "metadata": {},
   "outputs": [
    {
     "data": {
      "text/plain": [
       "0      1.69\n",
       "1      0.74\n",
       "2      0.81\n",
       "3      1.44\n",
       "4      2.48\n",
       "       ... \n",
       "103    1.36\n",
       "104    1.17\n",
       "105    2.37\n",
       "106    0.02\n",
       "107    0.92\n",
       "Name: Target, Length: 108, dtype: float64"
      ]
     },
     "execution_count": 12,
     "metadata": {},
     "output_type": "execute_result"
    }
   ],
   "source": [
    "y "
   ]
  },
  {
   "cell_type": "code",
   "execution_count": 13,
   "metadata": {},
   "outputs": [
    {
     "name": "stdout",
     "output_type": "stream",
     "text": [
      "(86, 9) (22, 9)\n"
     ]
    }
   ],
   "source": [
    "##get train and test data\n",
    "from sklearn.model_selection import train_test_split\n",
    "X_train, X_test, y_train, y_test = train_test_split(X, y, test_size=0.20, random_state=1)\n",
    "print(X_train.shape, X_test.shape)"
   ]
  },
  {
   "cell_type": "code",
   "execution_count": 14,
   "metadata": {},
   "outputs": [
    {
     "data": {
      "text/html": [
       "<div>\n",
       "<style scoped>\n",
       "    .dataframe tbody tr th:only-of-type {\n",
       "        vertical-align: middle;\n",
       "    }\n",
       "\n",
       "    .dataframe tbody tr th {\n",
       "        vertical-align: top;\n",
       "    }\n",
       "\n",
       "    .dataframe thead th {\n",
       "        text-align: right;\n",
       "    }\n",
       "</style>\n",
       "<table border=\"1\" class=\"dataframe\">\n",
       "  <thead>\n",
       "    <tr style=\"text-align: right;\">\n",
       "      <th></th>\n",
       "      <th>NC</th>\n",
       "      <th>SC</th>\n",
       "      <th>NWC</th>\n",
       "      <th>seeded_S</th>\n",
       "      <th>seeded_U</th>\n",
       "      <th>season_AUTUMN</th>\n",
       "      <th>season_SPRING</th>\n",
       "      <th>season_SUMMER</th>\n",
       "      <th>season_WINTER</th>\n",
       "    </tr>\n",
       "  </thead>\n",
       "  <tbody>\n",
       "    <tr>\n",
       "      <th>59</th>\n",
       "      <td>4.44</td>\n",
       "      <td>1.05</td>\n",
       "      <td>3.59</td>\n",
       "      <td>0</td>\n",
       "      <td>1</td>\n",
       "      <td>1</td>\n",
       "      <td>0</td>\n",
       "      <td>0</td>\n",
       "      <td>0</td>\n",
       "    </tr>\n",
       "    <tr>\n",
       "      <th>86</th>\n",
       "      <td>1.44</td>\n",
       "      <td>3.14</td>\n",
       "      <td>0.86</td>\n",
       "      <td>1</td>\n",
       "      <td>0</td>\n",
       "      <td>1</td>\n",
       "      <td>0</td>\n",
       "      <td>0</td>\n",
       "      <td>0</td>\n",
       "    </tr>\n",
       "    <tr>\n",
       "      <th>33</th>\n",
       "      <td>1.46</td>\n",
       "      <td>1.48</td>\n",
       "      <td>0.40</td>\n",
       "      <td>1</td>\n",
       "      <td>0</td>\n",
       "      <td>0</td>\n",
       "      <td>0</td>\n",
       "      <td>0</td>\n",
       "      <td>1</td>\n",
       "    </tr>\n",
       "    <tr>\n",
       "      <th>35</th>\n",
       "      <td>0.66</td>\n",
       "      <td>0.73</td>\n",
       "      <td>0.91</td>\n",
       "      <td>0</td>\n",
       "      <td>1</td>\n",
       "      <td>0</td>\n",
       "      <td>1</td>\n",
       "      <td>0</td>\n",
       "      <td>0</td>\n",
       "    </tr>\n",
       "    <tr>\n",
       "      <th>46</th>\n",
       "      <td>0.72</td>\n",
       "      <td>0.99</td>\n",
       "      <td>0.98</td>\n",
       "      <td>0</td>\n",
       "      <td>1</td>\n",
       "      <td>0</td>\n",
       "      <td>1</td>\n",
       "      <td>0</td>\n",
       "      <td>0</td>\n",
       "    </tr>\n",
       "    <tr>\n",
       "      <th>...</th>\n",
       "      <td>...</td>\n",
       "      <td>...</td>\n",
       "      <td>...</td>\n",
       "      <td>...</td>\n",
       "      <td>...</td>\n",
       "      <td>...</td>\n",
       "      <td>...</td>\n",
       "      <td>...</td>\n",
       "      <td>...</td>\n",
       "    </tr>\n",
       "    <tr>\n",
       "      <th>75</th>\n",
       "      <td>2.12</td>\n",
       "      <td>2.77</td>\n",
       "      <td>4.44</td>\n",
       "      <td>1</td>\n",
       "      <td>0</td>\n",
       "      <td>0</td>\n",
       "      <td>1</td>\n",
       "      <td>0</td>\n",
       "      <td>0</td>\n",
       "    </tr>\n",
       "    <tr>\n",
       "      <th>9</th>\n",
       "      <td>2.76</td>\n",
       "      <td>3.10</td>\n",
       "      <td>5.06</td>\n",
       "      <td>1</td>\n",
       "      <td>0</td>\n",
       "      <td>0</td>\n",
       "      <td>1</td>\n",
       "      <td>0</td>\n",
       "      <td>0</td>\n",
       "    </tr>\n",
       "    <tr>\n",
       "      <th>72</th>\n",
       "      <td>2.14</td>\n",
       "      <td>1.00</td>\n",
       "      <td>4.39</td>\n",
       "      <td>0</td>\n",
       "      <td>1</td>\n",
       "      <td>0</td>\n",
       "      <td>1</td>\n",
       "      <td>0</td>\n",
       "      <td>0</td>\n",
       "    </tr>\n",
       "    <tr>\n",
       "      <th>12</th>\n",
       "      <td>0.24</td>\n",
       "      <td>0.44</td>\n",
       "      <td>0.94</td>\n",
       "      <td>1</td>\n",
       "      <td>0</td>\n",
       "      <td>0</td>\n",
       "      <td>1</td>\n",
       "      <td>0</td>\n",
       "      <td>0</td>\n",
       "    </tr>\n",
       "    <tr>\n",
       "      <th>37</th>\n",
       "      <td>3.27</td>\n",
       "      <td>2.68</td>\n",
       "      <td>3.60</td>\n",
       "      <td>0</td>\n",
       "      <td>1</td>\n",
       "      <td>0</td>\n",
       "      <td>1</td>\n",
       "      <td>0</td>\n",
       "      <td>0</td>\n",
       "    </tr>\n",
       "  </tbody>\n",
       "</table>\n",
       "<p>86 rows × 9 columns</p>\n",
       "</div>"
      ],
      "text/plain": [
       "      NC    SC   NWC  seeded_S  seeded_U  season_AUTUMN  season_SPRING  \\\n",
       "59  4.44  1.05  3.59         0         1              1              0   \n",
       "86  1.44  3.14  0.86         1         0              1              0   \n",
       "33  1.46  1.48  0.40         1         0              0              0   \n",
       "35  0.66  0.73  0.91         0         1              0              1   \n",
       "46  0.72  0.99  0.98         0         1              0              1   \n",
       "..   ...   ...   ...       ...       ...            ...            ...   \n",
       "75  2.12  2.77  4.44         1         0              0              1   \n",
       "9   2.76  3.10  5.06         1         0              0              1   \n",
       "72  2.14  1.00  4.39         0         1              0              1   \n",
       "12  0.24  0.44  0.94         1         0              0              1   \n",
       "37  3.27  2.68  3.60         0         1              0              1   \n",
       "\n",
       "    season_SUMMER  season_WINTER  \n",
       "59              0              0  \n",
       "86              0              0  \n",
       "33              0              1  \n",
       "35              0              0  \n",
       "46              0              0  \n",
       "..            ...            ...  \n",
       "75              0              0  \n",
       "9               0              0  \n",
       "72              0              0  \n",
       "12              0              0  \n",
       "37              0              0  \n",
       "\n",
       "[86 rows x 9 columns]"
      ]
     },
     "execution_count": 14,
     "metadata": {},
     "output_type": "execute_result"
    }
   ],
   "source": [
    "X_train"
   ]
  },
  {
   "cell_type": "code",
   "execution_count": 15,
   "metadata": {},
   "outputs": [
    {
     "data": {
      "text/plain": [
       "(0, 0)"
      ]
     },
     "execution_count": 15,
     "metadata": {},
     "output_type": "execute_result"
    }
   ],
   "source": [
    "#Find categorical columns and object columns to transform into numeric: \n",
    "cat_columns = list(X.select_dtypes(['category']).columns)\n",
    "obj_columns = list(X.select_dtypes(['object']).columns)\n",
    "len(cat_columns), len(obj_columns)"
   ]
  },
  {
   "cell_type": "code",
   "execution_count": 16,
   "metadata": {},
   "outputs": [],
   "source": [
    "#Category+Object Transforms -> You must always fit_transform train while only doing transform for test\n",
    "from sklearn.preprocessing import LabelEncoder\n",
    "if len(cat_columns+obj_columns):\n",
    "    for each_cat in cat_columns+obj_columns:\n",
    "        LB = LabelEncoder()\n",
    "        X_train[each_cat] = LB.fit_transform(X_train[each_cat])\n",
    "        X_test[each_cat] = LB.transform(X_test[each_cat])\n",
    "        print(each_cat+' completed transform')"
   ]
  },
  {
   "cell_type": "code",
   "execution_count": 17,
   "metadata": {},
   "outputs": [
    {
     "name": "stdout",
     "output_type": "stream",
     "text": [
      "completed Min Max Scaling\n"
     ]
    }
   ],
   "source": [
    "#MinMax Scale Features -> You must always fit_transform train while only doing transform for test\n",
    "for each_col in cols:\n",
    "    scaler = MinMaxScaler(feature_range = (0,1))\n",
    "    X_train[each_col] = scaler.fit_transform(X_train[each_col].values.reshape(-1,1))\n",
    "    X_test[each_col] = scaler.transform(X_test[each_col].values.reshape(-1,1))\n",
    "print('completed Min Max Scaling')"
   ]
  },
  {
   "cell_type": "code",
   "execution_count": 18,
   "metadata": {},
   "outputs": [
    {
     "data": {
      "text/html": [
       "<div>\n",
       "<style scoped>\n",
       "    .dataframe tbody tr th:only-of-type {\n",
       "        vertical-align: middle;\n",
       "    }\n",
       "\n",
       "    .dataframe tbody tr th {\n",
       "        vertical-align: top;\n",
       "    }\n",
       "\n",
       "    .dataframe thead th {\n",
       "        text-align: right;\n",
       "    }\n",
       "</style>\n",
       "<table border=\"1\" class=\"dataframe\">\n",
       "  <thead>\n",
       "    <tr style=\"text-align: right;\">\n",
       "      <th></th>\n",
       "      <th>NC</th>\n",
       "      <th>SC</th>\n",
       "      <th>NWC</th>\n",
       "      <th>seeded_S</th>\n",
       "      <th>seeded_U</th>\n",
       "      <th>season_AUTUMN</th>\n",
       "      <th>season_SPRING</th>\n",
       "      <th>season_SUMMER</th>\n",
       "      <th>season_WINTER</th>\n",
       "    </tr>\n",
       "  </thead>\n",
       "  <tbody>\n",
       "    <tr>\n",
       "      <th>59</th>\n",
       "      <td>0.471338</td>\n",
       "      <td>0.2575</td>\n",
       "      <td>0.455128</td>\n",
       "      <td>0</td>\n",
       "      <td>1</td>\n",
       "      <td>1</td>\n",
       "      <td>0</td>\n",
       "      <td>0</td>\n",
       "      <td>0</td>\n",
       "    </tr>\n",
       "    <tr>\n",
       "      <th>86</th>\n",
       "      <td>0.152866</td>\n",
       "      <td>0.7800</td>\n",
       "      <td>0.105128</td>\n",
       "      <td>1</td>\n",
       "      <td>0</td>\n",
       "      <td>1</td>\n",
       "      <td>0</td>\n",
       "      <td>0</td>\n",
       "      <td>0</td>\n",
       "    </tr>\n",
       "    <tr>\n",
       "      <th>33</th>\n",
       "      <td>0.154989</td>\n",
       "      <td>0.3650</td>\n",
       "      <td>0.046154</td>\n",
       "      <td>1</td>\n",
       "      <td>0</td>\n",
       "      <td>0</td>\n",
       "      <td>0</td>\n",
       "      <td>0</td>\n",
       "      <td>1</td>\n",
       "    </tr>\n",
       "    <tr>\n",
       "      <th>35</th>\n",
       "      <td>0.070064</td>\n",
       "      <td>0.1775</td>\n",
       "      <td>0.111538</td>\n",
       "      <td>0</td>\n",
       "      <td>1</td>\n",
       "      <td>0</td>\n",
       "      <td>1</td>\n",
       "      <td>0</td>\n",
       "      <td>0</td>\n",
       "    </tr>\n",
       "    <tr>\n",
       "      <th>46</th>\n",
       "      <td>0.076433</td>\n",
       "      <td>0.2425</td>\n",
       "      <td>0.120513</td>\n",
       "      <td>0</td>\n",
       "      <td>1</td>\n",
       "      <td>0</td>\n",
       "      <td>1</td>\n",
       "      <td>0</td>\n",
       "      <td>0</td>\n",
       "    </tr>\n",
       "  </tbody>\n",
       "</table>\n",
       "</div>"
      ],
      "text/plain": [
       "          NC      SC       NWC  seeded_S  seeded_U  season_AUTUMN  \\\n",
       "59  0.471338  0.2575  0.455128         0         1              1   \n",
       "86  0.152866  0.7800  0.105128         1         0              1   \n",
       "33  0.154989  0.3650  0.046154         1         0              0   \n",
       "35  0.070064  0.1775  0.111538         0         1              0   \n",
       "46  0.076433  0.2425  0.120513         0         1              0   \n",
       "\n",
       "    season_SPRING  season_SUMMER  season_WINTER  \n",
       "59              0              0              0  \n",
       "86              0              0              0  \n",
       "33              0              0              1  \n",
       "35              1              0              0  \n",
       "46              1              0              0  "
      ]
     },
     "execution_count": 18,
     "metadata": {},
     "output_type": "execute_result"
    }
   ],
   "source": [
    "X_train.head()"
   ]
  },
  {
   "cell_type": "markdown",
   "metadata": {},
   "source": [
    "### Since The Tool is not allowed to look at test data, you must only use X_train and y_train for the Tool"
   ]
  },
  {
   "cell_type": "code",
   "execution_count": 19,
   "metadata": {},
   "outputs": [
    {
     "name": "stdout",
     "output_type": "stream",
     "text": [
      "(86, 10)\n"
     ]
    }
   ],
   "source": [
    "train = pd.concat([X_train,y_train],axis=1)\n",
    "print(train.shape)"
   ]
  },
  {
   "cell_type": "code",
   "execution_count": 20,
   "metadata": {},
   "outputs": [
    {
     "name": "stdout",
     "output_type": "stream",
     "text": [
      "(22, 10)\n"
     ]
    }
   ],
   "source": [
    "test = pd.concat([X_test,y_test],axis=1)\n",
    "print(test.shape)"
   ]
  },
  {
   "cell_type": "code",
   "execution_count": 21,
   "metadata": {},
   "outputs": [
    {
     "data": {
      "text/html": [
       "<div>\n",
       "<style scoped>\n",
       "    .dataframe tbody tr th:only-of-type {\n",
       "        vertical-align: middle;\n",
       "    }\n",
       "\n",
       "    .dataframe tbody tr th {\n",
       "        vertical-align: top;\n",
       "    }\n",
       "\n",
       "    .dataframe thead th {\n",
       "        text-align: right;\n",
       "    }\n",
       "</style>\n",
       "<table border=\"1\" class=\"dataframe\">\n",
       "  <thead>\n",
       "    <tr style=\"text-align: right;\">\n",
       "      <th></th>\n",
       "      <th>Feature_Engineering_Technique</th>\n",
       "      <th>Start_Time</th>\n",
       "      <th>End_Time</th>\n",
       "      <th>Time_to_fit</th>\n",
       "    </tr>\n",
       "  </thead>\n",
       "  <tbody>\n",
       "  </tbody>\n",
       "</table>\n",
       "</div>"
      ],
      "text/plain": [
       "Empty DataFrame\n",
       "Columns: [Feature_Engineering_Technique, Start_Time, End_Time, Time_to_fit]\n",
       "Index: []"
      ]
     },
     "execution_count": 21,
     "metadata": {},
     "output_type": "execute_result"
    }
   ],
   "source": [
    "time_to_fit = pd.DataFrame(columns=['Feature_Engineering_Technique','Start_Time','End_Time','Time_to_fit'])\n",
    "time_to_fit.head()"
   ]
  },
  {
   "cell_type": "code",
   "execution_count": 22,
   "metadata": {
    "scrolled": true
   },
   "outputs": [
    {
     "name": "stdout",
     "output_type": "stream",
     "text": [
      "############################################################################################\n",
      "############       F A S T   F E A T U R E  E N G G    A N D    S E L E C T I O N ! ########\n",
      "# Be judicious with featurewiz. Don't use it to create too many un-interpretable features! #\n",
      "############################################################################################\n",
      "Skipping feature engineering since no feature_engg input...\n",
      "Skipping category encoding since no category encoders specified in input...\n",
      "Loading train data...\n",
      "    Shape of your Data Set loaded: (86, 10)\n",
      "    Caution: We will try to reduce the memory usage of dataframe from 0.01 MB\n",
      "    Memory usage after optimization is: 0.00 MB\n",
      "        decreased by 75.0%\n",
      "     Loaded. Shape = (86, 10)\n",
      "No test data filename given...\n",
      "############## C L A S S I F Y I N G  V A R I A B L E S  ####################\n",
      "Classifying variables in data set...\n",
      "    9 Predictors classified...\n",
      "        No variables removed since no ID or low-information variables found in data set\n",
      "No GPU active on this device\n",
      "    Tuning XGBoost using CPU hyper-parameters. This will take time...\n",
      "Removing 0 columns from further processing since ID or low information variables\n",
      "    columns removed: []\n",
      "    After removing redundant variables from further processing, features left = 9\n",
      "#### Single_Label Regression Feature Selection Started ####\n",
      "Searching for highly correlated variables from 9 variables using SULOV method\n",
      "#####  SULOV : Searching for Uncorrelated List Of Variables (takes time...) ############\n",
      "There are no null values in dataset.\n",
      "    Caution: We will try to reduce the memory usage of dataframe from 0.00 MB\n",
      "    Memory usage after optimization is: 0.00 MB\n",
      "        decreased by 0.0%\n",
      "    Removing (2) highly correlated variables:\n",
      "    ['NC', 'seeded_S']\n",
      "    Following (7) vars selected: ['SC', 'season_AUTUMN', 'season_SPRING', 'season_SUMMER', 'season_WINTER', 'NWC', 'seeded_U']\n"
     ]
    },
    {
     "data": {
      "image/png": "[encoded data removed]",
      "text/plain": [
       "<Figure size 1080x360 with 1 Axes>"
      ]
     },
     "metadata": {},
     "output_type": "display_data"
    },
    {
     "name": "stdout",
     "output_type": "stream",
     "text": [
      "Time taken for SULOV method = 0 seconds\n",
      "    Adding 0 categorical variables to reduced numeric variables  of 7\n",
      "############## F E A T U R E   S E L E C T I O N  ####################\n",
      "    using regular XGBoost\n",
      "Train and Test loaded into Dask dataframes successfully after feature_engg completed\n",
      "Current number of predictors = 7 \n",
      "XGBoost version: 1.5.1\n",
      "Number of booster rounds = 100\n",
      "        using 7 variables...\n",
      "            Time taken for regular XGBoost feature selection = 0 seconds\n",
      "        using 5 variables...\n",
      "            Time taken for regular XGBoost feature selection = 0 seconds\n",
      "        using 3 variables...\n",
      "            Time taken for regular XGBoost feature selection = 0 seconds\n",
      "        using 1 variables...\n",
      "            Time taken for regular XGBoost feature selection = 0 seconds\n"
     ]
    },
    {
     "data": {
      "image/png": "[encoded data removed]",
      "text/plain": [
       "<Figure size 720x720 with 4 Axes>"
      ]
     },
     "metadata": {
      "needs_background": "light"
     },
     "output_type": "display_data"
    },
    {
     "name": "stdout",
     "output_type": "stream",
     "text": [
      "            Total time taken for XGBoost feature selection = 1 seconds\n",
      "    ID variables are always selected so that rows can be identified. But they are not important!\n",
      "Selected 7 important features:\n",
      "['SC', 'NWC', 'season_SUMMER', 'season_SPRING', 'season_WINTER', 'season_AUTUMN', 'seeded_U']\n",
      "    Time taken = 1 seconds\n",
      "Returning list of 7 important features and dataframe.\n",
      "    Time taken to create entire pipeline = 1 second(s)\n"
     ]
    },
    {
     "data": {
      "text/html": [
       "<div>\n",
       "<style scoped>\n",
       "    .dataframe tbody tr th:only-of-type {\n",
       "        vertical-align: middle;\n",
       "    }\n",
       "\n",
       "    .dataframe tbody tr th {\n",
       "        vertical-align: top;\n",
       "    }\n",
       "\n",
       "    .dataframe thead th {\n",
       "        text-align: right;\n",
       "    }\n",
       "</style>\n",
       "<table border=\"1\" class=\"dataframe\">\n",
       "  <thead>\n",
       "    <tr style=\"text-align: right;\">\n",
       "      <th></th>\n",
       "      <th>Feature_Engineering_Technique</th>\n",
       "      <th>Start_Time</th>\n",
       "      <th>End_Time</th>\n",
       "      <th>Time_to_fit</th>\n",
       "    </tr>\n",
       "  </thead>\n",
       "  <tbody>\n",
       "    <tr>\n",
       "      <th>0</th>\n",
       "      <td>FeatureWiz</td>\n",
       "      <td>1.643561e+09</td>\n",
       "      <td>1.643561e+09</td>\n",
       "      <td>1.237196</td>\n",
       "    </tr>\n",
       "  </tbody>\n",
       "</table>\n",
       "</div>"
      ],
      "text/plain": [
       "  Feature_Engineering_Technique    Start_Time      End_Time  Time_to_fit\n",
       "0                    FeatureWiz  1.643561e+09  1.643561e+09     1.237196"
      ]
     },
     "execution_count": 22,
     "metadata": {},
     "output_type": "execute_result"
    }
   ],
   "source": [
    "###################################################FeatureWiz#############################################################\n",
    "### Now run it through featurewiz - remember featurewiz does not look at test data only modifies for numeric\n",
    "start_featurewiz = time.time()\n",
    "\n",
    "features = FeatureWiz(corr_limit=0.70, verbose=2, sep=',', header=0, feature_engg='', category_encoders='',dask_xgboost_flag=False, nrows=None)\n",
    "X_train_selected = features.fit_transform(X_train,y_train)\n",
    "end_featurewiz = time.time()\n",
    "diff = end_featurewiz - start_featurewiz\n",
    "best_columns_featurewiz = features.features\n",
    "len(best_columns_featurewiz)\n",
    "time_to_fit = time_to_fit.append({'Feature_Engineering_Technique':'FeatureWiz','Start_Time':start_featurewiz,'End_Time':end_featurewiz,'Time_to_fit':diff} , ignore_index=True)\n",
    "time_to_fit.head()"
   ]
  },
  {
   "cell_type": "code",
   "execution_count": 23,
   "metadata": {},
   "outputs": [
    {
     "name": "stdout",
     "output_type": "stream",
     "text": [
      "[featsel] Scaling data...done.\n",
      "[featsel] Feature selection run 1/5\n",
      "[featsel] Feature selection run 2/5\n",
      "[featsel] Feature selection run 3/5\n",
      "[featsel] Feature selection run 4/5\n",
      "[featsel] Feature selection run 5/5\n",
      "[featsel] 4 features after 5 feature selection runs\n",
      "[featsel] 4 features after correlation filtering\n",
      "[featsel] 4 features after noise filtering\n"
     ]
    },
    {
     "data": {
      "text/html": [
       "<div>\n",
       "<style scoped>\n",
       "    .dataframe tbody tr th:only-of-type {\n",
       "        vertical-align: middle;\n",
       "    }\n",
       "\n",
       "    .dataframe tbody tr th {\n",
       "        vertical-align: top;\n",
       "    }\n",
       "\n",
       "    .dataframe thead th {\n",
       "        text-align: right;\n",
       "    }\n",
       "</style>\n",
       "<table border=\"1\" class=\"dataframe\">\n",
       "  <thead>\n",
       "    <tr style=\"text-align: right;\">\n",
       "      <th></th>\n",
       "      <th>Feature_Engineering_Technique</th>\n",
       "      <th>Start_Time</th>\n",
       "      <th>End_Time</th>\n",
       "      <th>Time_to_fit</th>\n",
       "    </tr>\n",
       "  </thead>\n",
       "  <tbody>\n",
       "    <tr>\n",
       "      <th>0</th>\n",
       "      <td>FeatureWiz</td>\n",
       "      <td>1.643561e+09</td>\n",
       "      <td>1.643561e+09</td>\n",
       "      <td>1.237196</td>\n",
       "    </tr>\n",
       "    <tr>\n",
       "      <th>1</th>\n",
       "      <td>Autofeat</td>\n",
       "      <td>1.643561e+09</td>\n",
       "      <td>1.643561e+09</td>\n",
       "      <td>3.429242</td>\n",
       "    </tr>\n",
       "  </tbody>\n",
       "</table>\n",
       "</div>"
      ],
      "text/plain": [
       "  Feature_Engineering_Technique    Start_Time      End_Time  Time_to_fit\n",
       "0                    FeatureWiz  1.643561e+09  1.643561e+09     1.237196\n",
       "1                      Autofeat  1.643561e+09  1.643561e+09     3.429242"
      ]
     },
     "execution_count": 23,
     "metadata": {},
     "output_type": "execute_result"
    }
   ],
   "source": [
    "#################Autofeat#########################\n",
    "\n",
    "start_autofeat = time.time()\n",
    "fsel = FeatureSelector(verbose=1)\n",
    "new_X = fsel.fit_transform(X_train, y_train)\n",
    "end_autofeat = time.time()\n",
    "diff = end_autofeat - start_autofeat\n",
    "best_columns_autofeat = list(new_X.columns)\n",
    "time_to_fit = time_to_fit.append({'Feature_Engineering_Technique':'Autofeat','Start_Time':start_autofeat,'End_Time':end_autofeat,'Time_to_fit':diff} , ignore_index=True)\n",
    "time_to_fit.head()"
   ]
  },
  {
   "cell_type": "code",
   "execution_count": 25,
   "metadata": {},
   "outputs": [
    {
     "name": "stdout",
     "output_type": "stream",
     "text": [
      "Number of original variables:  9\n",
      "Number of variables after selection:  7\n"
     ]
    },
    {
     "data": {
      "text/html": [
       "<div>\n",
       "<style scoped>\n",
       "    .dataframe tbody tr th:only-of-type {\n",
       "        vertical-align: middle;\n",
       "    }\n",
       "\n",
       "    .dataframe tbody tr th {\n",
       "        vertical-align: top;\n",
       "    }\n",
       "\n",
       "    .dataframe thead th {\n",
       "        text-align: right;\n",
       "    }\n",
       "</style>\n",
       "<table border=\"1\" class=\"dataframe\">\n",
       "  <thead>\n",
       "    <tr style=\"text-align: right;\">\n",
       "      <th></th>\n",
       "      <th>Feature_Engineering_Technique</th>\n",
       "      <th>Start_Time</th>\n",
       "      <th>End_Time</th>\n",
       "      <th>Time_to_fit</th>\n",
       "    </tr>\n",
       "  </thead>\n",
       "  <tbody>\n",
       "    <tr>\n",
       "      <th>0</th>\n",
       "      <td>FeatureWiz</td>\n",
       "      <td>1.643561e+09</td>\n",
       "      <td>1.643561e+09</td>\n",
       "      <td>1.237196</td>\n",
       "    </tr>\n",
       "    <tr>\n",
       "      <th>1</th>\n",
       "      <td>Autofeat</td>\n",
       "      <td>1.643561e+09</td>\n",
       "      <td>1.643561e+09</td>\n",
       "      <td>3.429242</td>\n",
       "    </tr>\n",
       "    <tr>\n",
       "      <th>2</th>\n",
       "      <td>FeatureEngine</td>\n",
       "      <td>1.643561e+09</td>\n",
       "      <td>1.643561e+09</td>\n",
       "      <td>0.184613</td>\n",
       "    </tr>\n",
       "  </tbody>\n",
       "</table>\n",
       "</div>"
      ],
      "text/plain": [
       "  Feature_Engineering_Technique    Start_Time      End_Time  Time_to_fit\n",
       "0                    FeatureWiz  1.643561e+09  1.643561e+09     1.237196\n",
       "1                      Autofeat  1.643561e+09  1.643561e+09     3.429242\n",
       "2                 FeatureEngine  1.643561e+09  1.643561e+09     0.184613"
      ]
     },
     "execution_count": 25,
     "metadata": {},
     "output_type": "execute_result"
    }
   ],
   "source": [
    "##############FeatureEngine############\n",
    "from sklearn.pipeline import Pipeline\n",
    "from feature_engine.selection import (\n",
    "    DropDuplicateFeatures,\n",
    "    DropConstantFeatures,\n",
    "    DropDuplicateFeatures,\n",
    "    DropCorrelatedFeatures,\n",
    "    SmartCorrelatedSelection,\n",
    "    SelectByShuffling,\n",
    "    SelectBySingleFeaturePerformance,\n",
    "    RecursiveFeatureElimination,\n",
    ")\n",
    "\n",
    "pipe = Pipeline([\n",
    "    ('constant', DropConstantFeatures(tol=0.998)), # drops constand and quasi-constant altogether\n",
    "    ('duplicated', DropDuplicateFeatures()), # drops duplicates\n",
    "    ('correlation', SmartCorrelatedSelection( # drops correlated\n",
    "        threshold=0.8,\n",
    "        selection_method=\"model_performance\",\n",
    "        estimator=RandomForestRegressor(n_estimators=10, random_state=1),\n",
    "    )),\n",
    "])\n",
    "\n",
    "# find features to remove\n",
    "\n",
    "start_fe = time.time()\n",
    "pipe.fit(X_train, y_train)\n",
    "end_fe = time.time()\n",
    "\n",
    "diff = end_fe - start_fe\n",
    "\n",
    "print('Number of original variables: ', X_train.shape[1])\n",
    "\n",
    "X_train_fe = pipe.transform(X_train)\n",
    "\n",
    "print('Number of variables after selection: ', X_train_fe.shape[1])\n",
    "\n",
    "best_columns_fe = list(X_train_fe.columns)\n",
    "time_to_fit = time_to_fit.append({'Feature_Engineering_Technique':'FeatureEngine','Start_Time':start_fe,'End_Time':end_fe,'Time_to_fit':diff} , ignore_index=True)\n",
    "time_to_fit.head()"
   ]
  },
  {
   "cell_type": "code",
   "execution_count": 26,
   "metadata": {},
   "outputs": [
    {
     "name": "stderr",
     "output_type": "stream",
     "text": [
      "[Parallel(n_jobs=-1)]: Using backend LokyBackend with 8 concurrent workers.\n",
      "[Parallel(n_jobs=-1)]: Done   4 out of   9 | elapsed:    6.1s remaining:    7.6s\n",
      "[Parallel(n_jobs=-1)]: Done   9 out of   9 | elapsed:    6.3s remaining:    0.0s\n",
      "[Parallel(n_jobs=-1)]: Done   9 out of   9 | elapsed:    6.3s finished\n",
      "[Parallel(n_jobs=-1)]: Using backend LokyBackend with 8 concurrent workers.\n",
      "[Parallel(n_jobs=-1)]: Done  16 out of  20 | elapsed:    0.0s remaining:    0.0s\n",
      "[Parallel(n_jobs=-1)]: Done  20 out of  20 | elapsed:    0.0s finished\n",
      "[Parallel(n_jobs=-1)]: Using backend LokyBackend with 8 concurrent workers.\n",
      "[Parallel(n_jobs=-1)]: Done  16 out of  20 | elapsed:    0.0s remaining:    0.0s\n",
      "[Parallel(n_jobs=-1)]: Done  20 out of  20 | elapsed:    0.0s finished\n",
      "[Parallel(n_jobs=-1)]: Using backend LokyBackend with 8 concurrent workers.\n",
      "[Parallel(n_jobs=-1)]: Done  16 out of  20 | elapsed:    0.0s remaining:    0.0s\n",
      "[Parallel(n_jobs=-1)]: Done  20 out of  20 | elapsed:    0.0s finished\n",
      "[Parallel(n_jobs=-1)]: Using backend LokyBackend with 8 concurrent workers.\n",
      "[Parallel(n_jobs=-1)]: Done  16 out of  20 | elapsed:    0.0s remaining:    0.0s\n"
     ]
    },
    {
     "name": "stdout",
     "output_type": "stream",
     "text": [
      "Feature importance:  [13.862943611198906, 13.862943611198906, 5.301276066817349]\n"
     ]
    },
    {
     "name": "stderr",
     "output_type": "stream",
     "text": [
      "[Parallel(n_jobs=-1)]: Done  20 out of  20 | elapsed:    0.0s finished\n"
     ]
    },
    {
     "data": {
      "image/png": "[encoded data removed]",
      "text/plain": [
       "<Figure size 432x288 with 1 Axes>"
      ]
     },
     "metadata": {
      "needs_background": "light"
     },
     "output_type": "display_data"
    },
    {
     "data": {
      "text/html": [
       "<div>\n",
       "<style scoped>\n",
       "    .dataframe tbody tr th:only-of-type {\n",
       "        vertical-align: middle;\n",
       "    }\n",
       "\n",
       "    .dataframe tbody tr th {\n",
       "        vertical-align: top;\n",
       "    }\n",
       "\n",
       "    .dataframe thead th {\n",
       "        text-align: right;\n",
       "    }\n",
       "</style>\n",
       "<table border=\"1\" class=\"dataframe\">\n",
       "  <thead>\n",
       "    <tr style=\"text-align: right;\">\n",
       "      <th></th>\n",
       "      <th>Feature_Engineering_Technique</th>\n",
       "      <th>Start_Time</th>\n",
       "      <th>End_Time</th>\n",
       "      <th>Time_to_fit</th>\n",
       "    </tr>\n",
       "  </thead>\n",
       "  <tbody>\n",
       "    <tr>\n",
       "      <th>0</th>\n",
       "      <td>FeatureWiz</td>\n",
       "      <td>1.643561e+09</td>\n",
       "      <td>1.643561e+09</td>\n",
       "      <td>1.237196</td>\n",
       "    </tr>\n",
       "    <tr>\n",
       "      <th>1</th>\n",
       "      <td>Autofeat</td>\n",
       "      <td>1.643561e+09</td>\n",
       "      <td>1.643561e+09</td>\n",
       "      <td>3.429242</td>\n",
       "    </tr>\n",
       "    <tr>\n",
       "      <th>2</th>\n",
       "      <td>FeatureEngine</td>\n",
       "      <td>1.643561e+09</td>\n",
       "      <td>1.643561e+09</td>\n",
       "      <td>0.184613</td>\n",
       "    </tr>\n",
       "    <tr>\n",
       "      <th>3</th>\n",
       "      <td>PyImpetus</td>\n",
       "      <td>1.643561e+09</td>\n",
       "      <td>1.643561e+09</td>\n",
       "      <td>6.672727</td>\n",
       "    </tr>\n",
       "  </tbody>\n",
       "</table>\n",
       "</div>"
      ],
      "text/plain": [
       "  Feature_Engineering_Technique    Start_Time      End_Time  Time_to_fit\n",
       "0                    FeatureWiz  1.643561e+09  1.643561e+09     1.237196\n",
       "1                      Autofeat  1.643561e+09  1.643561e+09     3.429242\n",
       "2                 FeatureEngine  1.643561e+09  1.643561e+09     0.184613\n",
       "3                     PyImpetus  1.643561e+09  1.643561e+09     6.672727"
      ]
     },
     "execution_count": 26,
     "metadata": {},
     "output_type": "execute_result"
    }
   ],
   "source": [
    "####################################################PyImpetus#####################################################\n",
    "start_pyimpetus = time.time()\n",
    "model = PPIMBR(random_state=27, cv=0, num_simul=20, simul_size=0.2, sig_test_type=\"non-parametric\", verbose=2, p_val_thresh=0.05)\n",
    "# Fit this above object on the train part and transform the train dataset into selected feature subset\n",
    "# NOTE: x_train has to be a dataframe and y_train has to be a numpy array\n",
    "x_train = model.fit_transform(X_train, y_train.values)\n",
    "# Transform the test set as well\n",
    "# Check out the scores of each feature. The scores are in order of the selected feature list\n",
    "# NOTE: You can use these scores ina feature selection ensemble\n",
    "print(\"Feature importance: \", model.feat_imp_scores)\n",
    "# Plot the feature importance scores\n",
    "model.feature_importance()\n",
    "best_columns_pyimpetus = list(x_train.columns)\n",
    "end_pyimpetus = time.time()\n",
    "diff = end_pyimpetus - start_pyimpetus\n",
    "len(x_train.columns)\n",
    "# Convert the data into numpy arrays\n",
    "#x_train, x_test = x_train.values, x_test.values\n",
    "time_to_fit = time_to_fit.append({'Feature_Engineering_Technique':'PyImpetus','Start_Time':start_pyimpetus,'End_Time':end_pyimpetus,'Time_to_fit':diff} , ignore_index=True)\n",
    "time_to_fit.head()"
   ]
  },
  {
   "cell_type": "markdown",
   "metadata": {},
   "source": [
    "#######################################################Eli5##############################################################\n",
    "\n",
    "sel = SelectFromModel(\n",
    "    PermutationImportance(SVC(), cv=5),\n",
    "    threshold=0.05,\n",
    ").fit(X_train, y_train)\n",
    "x_train = sel.transform(X_train)\n",
    "best_columns_eli5 = x_train.columns\n",
    "\n",
    "TypeError: check_cv() takes from 0 to 2 positional arguments but 3 were given"
   ]
  },
  {
   "cell_type": "markdown",
   "metadata": {},
   "source": [
    "Time To Generate Features "
   ]
  },
  {
   "cell_type": "code",
   "execution_count": 27,
   "metadata": {},
   "outputs": [
    {
     "data": {
      "text/html": [
       "<div>\n",
       "<style scoped>\n",
       "    .dataframe tbody tr th:only-of-type {\n",
       "        vertical-align: middle;\n",
       "    }\n",
       "\n",
       "    .dataframe tbody tr th {\n",
       "        vertical-align: top;\n",
       "    }\n",
       "\n",
       "    .dataframe thead th {\n",
       "        text-align: right;\n",
       "    }\n",
       "</style>\n",
       "<table border=\"1\" class=\"dataframe\">\n",
       "  <thead>\n",
       "    <tr style=\"text-align: right;\">\n",
       "      <th></th>\n",
       "      <th>Feature_Engineering_Technique</th>\n",
       "      <th>Start_Time</th>\n",
       "      <th>End_Time</th>\n",
       "      <th>Time_to_fit</th>\n",
       "    </tr>\n",
       "  </thead>\n",
       "  <tbody>\n",
       "    <tr>\n",
       "      <th>0</th>\n",
       "      <td>FeatureWiz</td>\n",
       "      <td>1.643561e+09</td>\n",
       "      <td>1.643561e+09</td>\n",
       "      <td>1.237196</td>\n",
       "    </tr>\n",
       "    <tr>\n",
       "      <th>1</th>\n",
       "      <td>Autofeat</td>\n",
       "      <td>1.643561e+09</td>\n",
       "      <td>1.643561e+09</td>\n",
       "      <td>3.429242</td>\n",
       "    </tr>\n",
       "    <tr>\n",
       "      <th>2</th>\n",
       "      <td>FeatureEngine</td>\n",
       "      <td>1.643561e+09</td>\n",
       "      <td>1.643561e+09</td>\n",
       "      <td>0.184613</td>\n",
       "    </tr>\n",
       "    <tr>\n",
       "      <th>3</th>\n",
       "      <td>PyImpetus</td>\n",
       "      <td>1.643561e+09</td>\n",
       "      <td>1.643561e+09</td>\n",
       "      <td>6.672727</td>\n",
       "    </tr>\n",
       "  </tbody>\n",
       "</table>\n",
       "</div>"
      ],
      "text/plain": [
       "  Feature_Engineering_Technique    Start_Time      End_Time  Time_to_fit\n",
       "0                    FeatureWiz  1.643561e+09  1.643561e+09     1.237196\n",
       "1                      Autofeat  1.643561e+09  1.643561e+09     3.429242\n",
       "2                 FeatureEngine  1.643561e+09  1.643561e+09     0.184613\n",
       "3                     PyImpetus  1.643561e+09  1.643561e+09     6.672727"
      ]
     },
     "execution_count": 27,
     "metadata": {},
     "output_type": "execute_result"
    }
   ],
   "source": [
    "time_to_fit.head()"
   ]
  },
  {
   "cell_type": "code",
   "execution_count": 28,
   "metadata": {},
   "outputs": [
    {
     "name": "stdout",
     "output_type": "stream",
     "text": [
      "================= Best performance for generation 0 : 0.07241783966523486 =================\n",
      "================= Best performance for generation 1 : 0.07547887415218792 =================\n",
      "================= Best performance for generation 2 : 0.07547887415218792 =================\n",
      "================= Best performance for generation 3 : 0.07547887415218792 =================\n",
      "================= Best performance for generation 4 : 0.07241783966523486 =================\n",
      "================= Best performance for generation 5 : 0.07241783966523486 =================\n",
      "================= Best performance for generation 6 : 0.07241783966523486 =================\n",
      "================= Best performance for generation 7 : 0.07241783966523486 =================\n",
      "================= Best performance for generation 8 : 0.07241783966523486 =================\n",
      "================= Best performance for generation 9 : 0.07241783966523486 =================\n",
      "================= Best performance for generation 10 : 0.07241783966523486 =================\n",
      "================= Best performance for generation 11 : 0.07241783966523486 =================\n",
      "================= Best performance for generation 12 : 0.07241783966523486 =================\n",
      "================= Best performance for generation 13 : 0.07241783966523486 =================\n",
      "================= Best performance for generation 14 : 0.07241783966523486 =================\n",
      "================= Best performance for generation 15 : 0.07241783966523486 =================\n",
      "================= Best performance for generation 16 : 0.07241783966523486 =================\n",
      "================= Best performance for generation 17 : 0.07241783966523486 =================\n",
      "================= Best performance for generation 18 : 0.07241783966523486 =================\n",
      "================= Best performance for generation 19 : 0.07241783966523486 =================\n",
      "================= Best performance for generation 20 : 0.07241783966523486 =================\n",
      "================= Best performance for generation 21 : 0.07241783966523486 =================\n",
      "================= Best performance for generation 22 : 0.07241783966523486 =================\n",
      "================= Best performance for generation 23 : 0.07241783966523486 =================\n",
      "================= Best performance for generation 24 : 0.07241783966523486 =================\n",
      "================= Best performance for generation 25 : 0.07241783966523486 =================\n",
      "================= Best performance for generation 26 : 0.07241783966523486 =================\n",
      "================= Best performance for generation 27 : 0.07241783966523486 =================\n",
      "================= Best performance for generation 28 : 0.07241783966523486 =================\n",
      "================= Best performance for generation 29 : 0.07241783966523486 =================\n",
      "================= Best performance for generation 30 : 0.07241783966523486 =================\n",
      "================= Best performance for generation 31 : 0.07241783966523486 =================\n",
      "================= Best performance for generation 32 : 0.07241783966523486 =================\n",
      "================= Best performance for generation 33 : 0.07241783966523486 =================\n",
      "================= Best performance for generation 34 : 0.07241783966523486 =================\n",
      "================= Best performance for generation 35 : 0.07241783966523486 =================\n",
      "================= Best performance for generation 36 : 0.07241783966523486 =================\n",
      "================= Best performance for generation 37 : 0.07241783966523486 =================\n",
      "================= Best performance for generation 38 : 0.07241783966523486 =================\n",
      "================= Best performance for generation 39 : 0.07241783966523486 =================\n",
      "================= Best performance for generation 40 : 0.07241783966523486 =================\n",
      "================= Best performance for generation 41 : 0.07241783966523486 =================\n",
      "================= Best performance for generation 42 : 0.07241783966523486 =================\n",
      "================= Best performance for generation 43 : 0.07241783966523486 =================\n",
      "================= Best performance for generation 44 : 0.07241783966523486 =================\n",
      "================= Best performance for generation 45 : 0.07241783966523486 =================\n",
      "================= Best performance for generation 46 : 0.07241783966523486 =================\n",
      "================= Best performance for generation 47 : 0.07241783966523486 =================\n",
      "================= Best performance for generation 48 : 0.07241783966523486 =================\n",
      "================= Best performance for generation 49 : 0.07241783966523486 =================\n",
      "================= Best performance for generation 50 : 0.07241783966523486 =================\n",
      "================= Best performance for generation 51 : 0.07241783966523486 =================\n",
      "================= Best performance for generation 52 : 0.07241783966523486 =================\n",
      "================= Best performance for generation 53 : 0.07241783966523486 =================\n",
      "================= Best performance for generation 54 : 0.07241783966523486 =================\n",
      "================= Best performance for generation 55 : 0.07241783966523486 =================\n",
      "================= Best performance for generation 56 : 0.07241783966523486 =================\n",
      "================= Best performance for generation 57 : 0.07241783966523486 =================\n",
      "================= Best performance for generation 58 : 0.07241783966523486 =================\n",
      "================= Best performance for generation 59 : 0.07241783966523486 =================\n",
      "================= Best performance for generation 60 : 0.07334460639785556 =================\n",
      "================= Best performance for generation 61 : 0.07334460639785556 =================\n",
      "================= Best performance for generation 62 : 0.07241783966523486 =================\n",
      "================= Best performance for generation 63 : 0.07241783966523486 =================\n",
      "================= Best performance for generation 64 : 0.07241783966523486 =================\n",
      "================= Best performance for generation 65 : 0.07241783966523486 =================\n",
      "================= Best performance for generation 66 : 0.07241783966523486 =================\n",
      "================= Best performance for generation 67 : 0.07241783966523486 =================\n",
      "================= Best performance for generation 68 : 0.07241783966523486 =================\n",
      "================= Best performance for generation 69 : 0.07241783966523486 =================\n",
      "================= Best performance for generation 70 : 0.07241783966523486 =================\n",
      "================= Best performance for generation 71 : 0.07241783966523486 =================\n",
      "================= Best performance for generation 72 : 0.07241783966523486 =================\n",
      "================= Best performance for generation 73 : 0.07241783966523486 =================\n",
      "================= Best performance for generation 74 : 0.07241783966523486 =================\n",
      "================= Best performance for generation 75 : 0.07241783966523486 =================\n",
      "================= Best performance for generation 76 : 0.07241783966523486 =================\n",
      "================= Best performance for generation 77 : 0.07241783966523486 =================\n",
      "================= Best performance for generation 78 : 0.07241783966523486 =================\n",
      "================= Best performance for generation 79 : 0.07241783966523486 =================\n",
      "================= Best performance for generation 80 : 0.07241783966523486 =================\n",
      "================= Best performance for generation 81 : 0.07241783966523486 =================\n",
      "================= Best performance for generation 82 : 0.07241783966523486 =================\n",
      "================= Best performance for generation 83 : 0.07241783966523486 =================\n",
      "================= Best performance for generation 84 : 0.07241783966523486 =================\n",
      "================= Best performance for generation 85 : 0.07241783966523486 =================\n",
      "================= Best performance for generation 86 : 0.07241783966523486 =================\n",
      "================= Best performance for generation 87 : 0.07241783966523486 =================\n",
      "================= Best performance for generation 88 : 0.07241783966523486 =================\n",
      "================= Best performance for generation 89 : 0.07241783966523486 =================\n",
      "================= Best performance for generation 90 : 0.07241783966523486 =================\n",
      "================= Best performance for generation 91 : 0.07241783966523486 =================\n",
      "================= Best performance for generation 92 : 0.07241783966523486 =================\n",
      "================= Best performance for generation 93 : 0.07241783966523486 =================\n",
      "================= Best performance for generation 94 : 0.07241783966523486 =================\n",
      "================= Best performance for generation 95 : 0.07241783966523486 =================\n",
      "================= Best performance for generation 96 : 0.07241783966523486 =================\n",
      "================= Best performance for generation 97 : 0.07241783966523486 =================\n",
      "================= Best performance for generation 98 : 0.07241783966523486 =================\n",
      "================= Best performance for generation 99 : 0.07241783966523486 =================\n",
      "================= Best result: 0.07241783966523486 =================\n",
      "================= Execution time in minutes: 1.0 =================\n"
     ]
    },
    {
     "data": {
      "text/html": [
       "<div>\n",
       "<style scoped>\n",
       "    .dataframe tbody tr th:only-of-type {\n",
       "        vertical-align: middle;\n",
       "    }\n",
       "\n",
       "    .dataframe tbody tr th {\n",
       "        vertical-align: top;\n",
       "    }\n",
       "\n",
       "    .dataframe thead th {\n",
       "        text-align: right;\n",
       "    }\n",
       "</style>\n",
       "<table border=\"1\" class=\"dataframe\">\n",
       "  <thead>\n",
       "    <tr style=\"text-align: right;\">\n",
       "      <th></th>\n",
       "      <th>Feature_Engineering_Technique</th>\n",
       "      <th>Start_Time</th>\n",
       "      <th>End_Time</th>\n",
       "      <th>Time_to_fit</th>\n",
       "    </tr>\n",
       "  </thead>\n",
       "  <tbody>\n",
       "    <tr>\n",
       "      <th>0</th>\n",
       "      <td>FeatureWiz</td>\n",
       "      <td>1.643561e+09</td>\n",
       "      <td>1.643561e+09</td>\n",
       "      <td>1.237196</td>\n",
       "    </tr>\n",
       "    <tr>\n",
       "      <th>1</th>\n",
       "      <td>Autofeat</td>\n",
       "      <td>1.643561e+09</td>\n",
       "      <td>1.643561e+09</td>\n",
       "      <td>3.429242</td>\n",
       "    </tr>\n",
       "    <tr>\n",
       "      <th>2</th>\n",
       "      <td>FeatureEngine</td>\n",
       "      <td>1.643561e+09</td>\n",
       "      <td>1.643561e+09</td>\n",
       "      <td>0.184613</td>\n",
       "    </tr>\n",
       "    <tr>\n",
       "      <th>3</th>\n",
       "      <td>PyImpetus</td>\n",
       "      <td>1.643561e+09</td>\n",
       "      <td>1.643561e+09</td>\n",
       "      <td>6.672727</td>\n",
       "    </tr>\n",
       "    <tr>\n",
       "      <th>4</th>\n",
       "      <td>EvolutionaryFS</td>\n",
       "      <td>1.643561e+09</td>\n",
       "      <td>1.643561e+09</td>\n",
       "      <td>82.700662</td>\n",
       "    </tr>\n",
       "  </tbody>\n",
       "</table>\n",
       "</div>"
      ],
      "text/plain": [
       "  Feature_Engineering_Technique    Start_Time      End_Time  Time_to_fit\n",
       "0                    FeatureWiz  1.643561e+09  1.643561e+09     1.237196\n",
       "1                      Autofeat  1.643561e+09  1.643561e+09     3.429242\n",
       "2                 FeatureEngine  1.643561e+09  1.643561e+09     0.184613\n",
       "3                     PyImpetus  1.643561e+09  1.643561e+09     6.672727\n",
       "4                EvolutionaryFS  1.643561e+09  1.643561e+09    82.700662"
      ]
     },
     "execution_count": 28,
     "metadata": {},
     "output_type": "execute_result"
    }
   ],
   "source": [
    "#############################################EvolutionaryFS#############################################\n",
    "##get train and test data\n",
    "#data_dict={0:{'x_train':X_train,'y_train':y_train,'x_test':X_test,'y_test':y_test}}\n",
    "#columns_list=list(X.columns)\n",
    "\n",
    "#start_evolutionaryfs = time.time()\n",
    "#model_object=LinearRegression(n_jobs=-1)\n",
    "#evoObj=GeneticAlgorithmFS(model=model_object,data_dict=data_dict,cost_function=f1_score,average='micro',cost_function_improvement='increase',columns_list=columns_list,generations=20,population=30,prob_crossover=0.9,prob_mutation=0.1,run_time=60000)\n",
    "#best_columns_EvolutionaryFS=evoObj.GetBestFeatures()\n",
    "#end_evolutionaryfs = time.time()\n",
    "#diff = end_evolutionaryfs - start_evolutionaryfs\n",
    "#len(best_columns_EvolutionaryFS)\n",
    "#time_to_fit = time_to_fit.append({'Feature_Engineering_Technique':'EvolutionaryFS','Start_Time':start_evolutionaryfs,'End_Time':end_evolutionaryfs,'Time_to_fit': diff} , ignore_index=True)\n",
    "#time_to_fit.head()\n",
    "\n",
    "data_dict={0:{'x_train':X_train,'y_train':y_train,'x_test':X_test,'y_test':y_test}}\n",
    "columns_list=list(X.columns)\n",
    "\n",
    "start_evolutionaryfs = time.time()\n",
    "#model_object=LinearRegression(n_jobs=-1)\n",
    "model_object=LinearRegression(n_jobs=-1)\n",
    "evoObj=GeneticAlgorithmFS(model=model_object,data_dict=data_dict,cost_function=mean_squared_error,average='',cost_function_improvement='decrease',columns_list=columns_list,generations=100,population=50,prob_crossover=0.9,prob_mutation=0.1,run_time=60000)\n",
    "best_columns_EvolutionaryFS=evoObj.GetBestFeatures()\n",
    "end_evolutionaryfs = time.time()\n",
    "diff = end_evolutionaryfs - start_evolutionaryfs\n",
    "len(best_columns_EvolutionaryFS)\n",
    "time_to_fit = time_to_fit.append({'Feature_Engineering_Technique':'EvolutionaryFS','Start_Time':start_evolutionaryfs,'End_Time':end_evolutionaryfs,'Time_to_fit': diff} , ignore_index=True)\n",
    "time_to_fit.head()"
   ]
  },
  {
   "cell_type": "code",
   "execution_count": 29,
   "metadata": {},
   "outputs": [
    {
     "name": "stdout",
     "output_type": "stream",
     "text": [
      "\t\t Best value of metric across iteration \t Best value of metric across population  \n",
      "Iteration 0 \t 0.2912671432452733 \t\t\t\t\t 0.2912671432452733 \n",
      "Iteration 1 \t 0.28793075391982687 \t\t\t\t\t 0.28793075391982687 \n",
      "Iteration 2 \t 0.28904249104692953 \t\t\t\t\t 0.28793075391982687 \n",
      "Iteration 3 \t 0.28793075391982687 \t\t\t\t\t 0.28793075391982687 \n",
      "Iteration 4 \t 0.28793075391982687 \t\t\t\t\t 0.28793075391982687 \n",
      "Iteration 5 \t 0.28793075391982687 \t\t\t\t\t 0.28793075391982687 \n",
      "Iteration 6 \t 0.28793075391982687 \t\t\t\t\t 0.28793075391982687 \n",
      "Iteration 7 \t 0.28793075391982687 \t\t\t\t\t 0.28793075391982687 \n",
      "Iteration 8 \t 0.28793075391982687 \t\t\t\t\t 0.28793075391982687 \n",
      "Iteration 9 \t 0.28793075391982687 \t\t\t\t\t 0.28793075391982687 \n",
      "Iteration 10 \t 0.28793075391982687 \t\t\t\t\t 0.28793075391982687 \n",
      "Iteration 11 \t 0.28793075391982687 \t\t\t\t\t 0.28793075391982687 \n",
      "Iteration 12 \t 0.28793075391982687 \t\t\t\t\t 0.28793075391982687 \n",
      "Iteration 13 \t 0.28793075391982687 \t\t\t\t\t 0.28793075391982687 \n",
      "Iteration 14 \t 0.28793075391982687 \t\t\t\t\t 0.28793075391982687 \n",
      "Iteration 15 \t 0.28793075391982687 \t\t\t\t\t 0.28793075391982687 \n",
      "Iteration 16 \t 0.28793075391982687 \t\t\t\t\t 0.28793075391982687 \n",
      "Iteration 17 \t 0.28793075391982687 \t\t\t\t\t 0.28793075391982687 \n",
      "Iteration 18 \t 0.28793075391982687 \t\t\t\t\t 0.28793075391982687 \n",
      "Iteration 19 \t 0.28793075391982687 \t\t\t\t\t 0.28793075391982687 \n",
      "Iteration 20 \t 0.28793075391982687 \t\t\t\t\t 0.28793075391982687 \n",
      "Iteration 21 \t 0.28793075391982687 \t\t\t\t\t 0.28793075391982687 \n",
      "Iteration 22 \t 0.28793075391982687 \t\t\t\t\t 0.28793075391982687 \n",
      "Iteration 23 \t 0.28793075391982687 \t\t\t\t\t 0.28793075391982687 \n",
      "Iteration 24 \t 0.28793075391982687 \t\t\t\t\t 0.28793075391982687 \n"
     ]
    }
   ],
   "source": [
    "#########################################################Zoof##############################################\n",
    "# define your own objective function, make sure the function receives four parameters,\n",
    "#  fit your model and return the objective value ! \n",
    "def objective_function_topass(model,X_train, y_train, X_test, y_test):      \n",
    "    model.fit(X_train,y_train)  \n",
    "    P=mean_squared_error(y_test,model.predict(X_test))\n",
    "    return P\n",
    "    \n",
    "# create object of algorithm\n",
    "algo_object=ParticleSwarmOptimization(objective_function_topass,n_iteration=25,population_size=20,minimize=True)\n",
    "import lightgbm as lgb\n",
    "lgb_model = lgb.LGBMRegressor()                                       \n",
    "# fit the algorithm\n",
    "start_zoof = time.time()\n",
    "\n",
    "best_columns_zoof = algo_object.fit(lgb_model,X_train, y_train, X_train, y_train,verbose=True)\n",
    "\n",
    "end_zoof = time.time()\n",
    "diff = end_evolutionaryfs - start_evolutionaryfs\n",
    "\n",
    "time_to_fit = time_to_fit.append({'Feature_Engineering_Technique':'Zoof','Start_Time':start_zoof,'End_Time':end_zoof,'Time_to_fit': diff} , ignore_index=True)"
   ]
  },
  {
   "cell_type": "code",
   "execution_count": 30,
   "metadata": {},
   "outputs": [
    {
     "name": "stdout",
     "output_type": "stream",
     "text": [
      "gen\tnevals\tfitness\tfitness_std\tfitness_max\tfitness_min\n",
      "0  \t30    \tnan    \tnan        \tnan        \tnan        \n",
      "1  \t60    \tnan    \tnan        \tnan        \tnan        \n",
      "2  \t60    \tnan    \tnan        \tnan        \tnan        \n",
      "3  \t60    \tnan    \tnan        \tnan        \tnan        \n",
      "4  \t60    \tnan    \tnan        \tnan        \tnan        \n",
      "5  \t60    \tnan    \tnan        \tnan        \tnan        \n",
      "6  \t60    \t0.809491\t0.00465637 \t0.817582   \t0.797988   \n",
      "7  \t60    \t0.810692\t0.00531601 \t0.82127    \t0.802429   \n",
      "8  \t60    \t0.812281\t0.00476237 \t0.82127    \t0.805548   \n",
      "9  \t60    \t0.811679\t0.00483113 \t0.82127    \t0.803451   \n",
      "10 \t60    \t0.812209\t0.00527486 \t0.82127    \t0.797468   \n",
      "11 \t60    \t0.812669\t0.0048372  \t0.82127    \t0.797468   \n",
      "12 \t60    \t0.812003\t0.00633394 \t0.82127    \t0.7956     \n",
      "13 \t60    \t0.811612\t0.00499695 \t0.82127    \t0.799082   \n",
      "14 \t60    \t0.811345\t0.00447611 \t0.82127    \t0.801759   \n",
      "15 \t60    \t0.812071\t0.00584839 \t0.82127    \t0.800945   \n",
      "16 \t60    \t0.813511\t0.00524103 \t0.82127    \t0.798561   \n",
      "17 \t60    \t0.813771\t0.00422041 \t0.82127    \t0.80651    \n",
      "18 \t60    \t0.812985\t0.00541546 \t0.82127    \t0.799788   \n",
      "19 \t60    \t0.812959\t0.00651431 \t0.82127    \t0.79339    \n",
      "20 \t60    \t0.812176\t0.00573954 \t0.82127    \t0.801188   \n"
     ]
    }
   ],
   "source": [
    "###############################Sklearn Genetic Opt##########################################################\n",
    "\n",
    "import matplotlib.pyplot as plt\n",
    "from sklearn_genetic import GAFeatureSelectionCV\n",
    "from sklearn.model_selection import train_test_split, StratifiedKFold\n",
    "from sklearn.svm import SVC\n",
    "from sklearn.datasets import load_iris\n",
    "from sklearn.metrics import accuracy_score\n",
    "import numpy as np\n",
    "\n",
    "clf = RandomForestRegressor()\n",
    "\n",
    "evolved_estimator = GAFeatureSelectionCV(\n",
    "    estimator=clf,\n",
    "    scoring=\"r2\",\n",
    "    population_size=30,\n",
    "    generations=20,\n",
    "    n_jobs=-1)\n",
    "\n",
    "start_gopt = time.time()\n",
    "# Train and select the features\n",
    "evolved_estimator.fit(X_train, y_train)\n",
    "end_gopt = time.time()\n",
    "\n",
    "diff = end_gopt-start_gopt\n",
    "\n",
    "# Features selected by the algorithm\n",
    "best_columns_genetic_opt = list(evolved_estimator.best_features_)\n",
    "best_columns_genetic_opt = X_train.columns[best_columns_genetic_opt]\n",
    "\n",
    "time_to_fit = time_to_fit.append({'Feature_Engineering_Technique':'Genetic OPT','Start_Time':start_gopt,'End_Time':end_gopt,'Time_to_fit': diff} , ignore_index=True)"
   ]
  },
  {
   "cell_type": "code",
   "execution_count": 31,
   "metadata": {},
   "outputs": [
    {
     "data": {
      "text/plain": [
       "NC               float64\n",
       "SC               float64\n",
       "NWC              float64\n",
       "seeded_S           int64\n",
       "seeded_U           int64\n",
       "season_AUTUMN      int64\n",
       "season_SPRING      int64\n",
       "season_SUMMER      int64\n",
       "season_WINTER      int64\n",
       "dtype: object"
      ]
     },
     "execution_count": 31,
     "metadata": {},
     "output_type": "execute_result"
    }
   ],
   "source": [
    "X_train.dtypes"
   ]
  },
  {
   "cell_type": "code",
   "execution_count": 32,
   "metadata": {},
   "outputs": [
    {
     "name": "stdout",
     "output_type": "stream",
     "text": [
      "Iteration: \t1 / 100\n",
      "Confirmed: \t0\n",
      "Tentative: \t9\n",
      "Rejected: \t0\n",
      "Iteration: \t2 / 100\n",
      "Confirmed: \t0\n",
      "Tentative: \t9\n",
      "Rejected: \t0\n",
      "Iteration: \t3 / 100\n",
      "Confirmed: \t0\n",
      "Tentative: \t9\n",
      "Rejected: \t0\n",
      "Iteration: \t4 / 100\n",
      "Confirmed: \t0\n",
      "Tentative: \t9\n",
      "Rejected: \t0\n",
      "Iteration: \t5 / 100\n",
      "Confirmed: \t0\n",
      "Tentative: \t9\n",
      "Rejected: \t0\n",
      "Iteration: \t6 / 100\n",
      "Confirmed: \t0\n",
      "Tentative: \t9\n",
      "Rejected: \t0\n",
      "Iteration: \t7 / 100\n",
      "Confirmed: \t0\n",
      "Tentative: \t9\n",
      "Rejected: \t0\n",
      "Iteration: \t8 / 100\n",
      "Confirmed: \t3\n",
      "Tentative: \t0\n",
      "Rejected: \t6\n",
      "\n",
      "\n",
      "BorutaPy finished running.\n",
      "\n",
      "Iteration: \t9 / 100\n",
      "Confirmed: \t3\n",
      "Tentative: \t0\n",
      "Rejected: \t6\n"
     ]
    }
   ],
   "source": [
    "##################BorutaPy###################\n",
    "from boruta import BorutaPy\n",
    "\n",
    "# define random forest classifier, with utilising all cores and\n",
    "# sampling in proportion to y labels\n",
    "rf = RandomForestRegressor(n_jobs=-1, max_depth=5)\n",
    "\n",
    "# define Boruta feature selection method\n",
    "feat_selector = BorutaPy(rf, n_estimators='auto', verbose=2, random_state=1)\n",
    "\n",
    "start_bpy = time.time()\n",
    "feat_selector.fit(X_train.values, y_train)\n",
    "end_bpy = time.time()\n",
    "\n",
    "diff = end_bpy-start_bpy\n",
    "\n",
    "# check selected features - first 5 features are selected\n",
    "feat_selector.support_\n",
    "\n",
    "# check ranking of features\n",
    "feat_selector.ranking_\n",
    "\n",
    "best_columns_borutapy = list(X_train.loc[:,feat_selector.support_].columns)\n",
    "\n",
    "time_to_fit = time_to_fit.append({'Feature_Engineering_Technique':'BorutaPy','Start_Time':start_bpy,'End_Time':end_bpy,'Time_to_fit': diff} , ignore_index=True)"
   ]
  },
  {
   "cell_type": "code",
   "execution_count": 33,
   "metadata": {},
   "outputs": [
    {
     "data": {
      "application/vnd.jupyter.widget-view+json": {
       "model_id": "34e7876ffca54f2190bba9342bd073a9",
       "version_major": 2,
       "version_minor": 0
      },
      "text/plain": [
       "  0%|          | 0/100 [00:00<?, ?it/s]"
      ]
     },
     "metadata": {},
     "output_type": "display_data"
    },
    {
     "name": "stdout",
     "output_type": "stream",
     "text": [
      "3 attributes confirmed important: ['NC', 'SC', 'NWC']\n",
      "6 attributes confirmed unimportant: ['season_SUMMER', 'season_AUTUMN', 'seeded_U', 'season_SPRING', 'seeded_S', 'season_WINTER']\n",
      "0 tentative attributes remains: []\n"
     ]
    }
   ],
   "source": [
    "#################BorutaShap##################\n",
    "\n",
    "from BorutaShap import BorutaShap\n",
    "\n",
    "# define random forest classifier, with utilising all cores and\n",
    "# sampling in proportion to y labels\n",
    "Feature_Selector = BorutaShap(importance_measure='shap',\n",
    "                              classification=False)\n",
    "\n",
    "start_bshap = time.time()\n",
    "Feature_Selector.fit(X=X_train, y=y_train, n_trials=100, sample=False,train_or_test = 'test', normalize=True,verbose=True)\n",
    "end_bshap = time.time()\n",
    "\n",
    "diff = end_bshap-start_bshap\n",
    "\n",
    "# check selected features - first 5 features are selected\n",
    "subset = Feature_Selector.Subset()\n",
    "\n",
    "best_columns_borutashap = list(subset.columns)\n",
    "\n",
    "time_to_fit = time_to_fit.append({'Feature_Engineering_Technique':'BorutaShap','Start_Time':start_bshap,'End_Time':end_bshap,'Time_to_fit': diff} , ignore_index=True)"
   ]
  },
  {
   "cell_type": "code",
   "execution_count": null,
   "metadata": {},
   "outputs": [],
   "source": []
  },
  {
   "cell_type": "code",
   "execution_count": null,
   "metadata": {},
   "outputs": [],
   "source": []
  },
  {
   "cell_type": "code",
   "execution_count": 34,
   "metadata": {},
   "outputs": [],
   "source": [
    "#Create a dictionary of lists with feature engineering technique\n",
    "fs = {\"FeatureWiz\":best_columns_featurewiz,\"Autofeat\":best_columns_autofeat,\"FeatureEngine\":best_columns_fe,\"PyImpetus\":best_columns_pyimpetus,\"EvolutionaryFS\":best_columns_EvolutionaryFS,\"Zoof\":best_columns_zoof, \"Genetic OPT\":best_columns_genetic_opt, \"BorutaPy\":best_columns_borutapy, \"BorutaShap\":best_columns_borutashap}\n",
    "#fs"
   ]
  },
  {
   "cell_type": "markdown",
   "metadata": {},
   "source": [
    "# Here is an even simpler way to do multi fold cross validation\n",
    "## First set a baseline performance by including all features in model\n",
    "## Then compare that model to feature selection by EvolutionaryFS"
   ]
  },
  {
   "cell_type": "markdown",
   "metadata": {},
   "source": [
    "## The baseline model with all features yields a balanced accuracy score of 91.88%"
   ]
  },
  {
   "cell_type": "code",
   "execution_count": 35,
   "metadata": {},
   "outputs": [],
   "source": [
    "## You must set the randomstate for cross validation. Otherwise, scores will be totally random each time.\n",
    "from sklearn.model_selection import StratifiedKFold, KFold\n",
    "cv = KFold(n_splits=3,shuffle=True, random_state=99)\n",
    "#cv = KFold(n_splits=5,shuffle=False, random_state=99) ## Use this for Regression"
   ]
  },
  {
   "cell_type": "markdown",
   "metadata": {},
   "source": [
    "# We have to do the same transforms for X and y "
   ]
  },
  {
   "cell_type": "code",
   "execution_count": 36,
   "metadata": {},
   "outputs": [
    {
     "data": {
      "text/html": [
       "<div>\n",
       "<style scoped>\n",
       "    .dataframe tbody tr th:only-of-type {\n",
       "        vertical-align: middle;\n",
       "    }\n",
       "\n",
       "    .dataframe tbody tr th {\n",
       "        vertical-align: top;\n",
       "    }\n",
       "\n",
       "    .dataframe thead th {\n",
       "        text-align: right;\n",
       "    }\n",
       "</style>\n",
       "<table border=\"1\" class=\"dataframe\">\n",
       "  <thead>\n",
       "    <tr style=\"text-align: right;\">\n",
       "      <th></th>\n",
       "      <th>NC</th>\n",
       "      <th>SC</th>\n",
       "      <th>NWC</th>\n",
       "      <th>seeded_S</th>\n",
       "      <th>seeded_U</th>\n",
       "      <th>season_AUTUMN</th>\n",
       "      <th>season_SPRING</th>\n",
       "      <th>season_SUMMER</th>\n",
       "      <th>season_WINTER</th>\n",
       "    </tr>\n",
       "  </thead>\n",
       "  <tbody>\n",
       "    <tr>\n",
       "      <th>0</th>\n",
       "      <td>1.65</td>\n",
       "      <td>1.80</td>\n",
       "      <td>3.33</td>\n",
       "      <td>1</td>\n",
       "      <td>0</td>\n",
       "      <td>1</td>\n",
       "      <td>0</td>\n",
       "      <td>0</td>\n",
       "      <td>0</td>\n",
       "    </tr>\n",
       "    <tr>\n",
       "      <th>1</th>\n",
       "      <td>1.09</td>\n",
       "      <td>0.79</td>\n",
       "      <td>1.59</td>\n",
       "      <td>0</td>\n",
       "      <td>1</td>\n",
       "      <td>1</td>\n",
       "      <td>0</td>\n",
       "      <td>0</td>\n",
       "      <td>0</td>\n",
       "    </tr>\n",
       "    <tr>\n",
       "      <th>2</th>\n",
       "      <td>2.39</td>\n",
       "      <td>0.36</td>\n",
       "      <td>2.06</td>\n",
       "      <td>1</td>\n",
       "      <td>0</td>\n",
       "      <td>0</td>\n",
       "      <td>0</td>\n",
       "      <td>0</td>\n",
       "      <td>1</td>\n",
       "    </tr>\n",
       "    <tr>\n",
       "      <th>3</th>\n",
       "      <td>2.96</td>\n",
       "      <td>1.27</td>\n",
       "      <td>4.05</td>\n",
       "      <td>0</td>\n",
       "      <td>1</td>\n",
       "      <td>0</td>\n",
       "      <td>0</td>\n",
       "      <td>0</td>\n",
       "      <td>1</td>\n",
       "    </tr>\n",
       "    <tr>\n",
       "      <th>4</th>\n",
       "      <td>4.16</td>\n",
       "      <td>2.16</td>\n",
       "      <td>6.00</td>\n",
       "      <td>1</td>\n",
       "      <td>0</td>\n",
       "      <td>0</td>\n",
       "      <td>0</td>\n",
       "      <td>0</td>\n",
       "      <td>1</td>\n",
       "    </tr>\n",
       "  </tbody>\n",
       "</table>\n",
       "</div>"
      ],
      "text/plain": [
       "     NC    SC   NWC  seeded_S  seeded_U  season_AUTUMN  season_SPRING  \\\n",
       "0  1.65  1.80  3.33         1         0              1              0   \n",
       "1  1.09  0.79  1.59         0         1              1              0   \n",
       "2  2.39  0.36  2.06         1         0              0              0   \n",
       "3  2.96  1.27  4.05         0         1              0              0   \n",
       "4  4.16  2.16  6.00         1         0              0              0   \n",
       "\n",
       "   season_SUMMER  season_WINTER  \n",
       "0              0              0  \n",
       "1              0              0  \n",
       "2              0              1  \n",
       "3              0              1  \n",
       "4              0              1  "
      ]
     },
     "execution_count": 36,
     "metadata": {},
     "output_type": "execute_result"
    }
   ],
   "source": [
    "#Category+Object Transforms -> You must always fit_transform train while only doing transform for test\n",
    "if len(cat_columns+obj_columns):\n",
    "    for each_cat in cat_columns+obj_columns:\n",
    "        LB = LabelEncoder()\n",
    "        X[each_cat] = LB.fit_transform(X[each_cat])\n",
    "        print(each_cat+' completed X transform')\n",
    "X.head()"
   ]
  },
  {
   "cell_type": "code",
   "execution_count": 37,
   "metadata": {},
   "outputs": [
    {
     "name": "stdout",
     "output_type": "stream",
     "text": [
      "completed Min Max Scaling for X\n"
     ]
    }
   ],
   "source": [
    "#MinMax Scale Features -> You must always fit_transform train while only doing transform for test\n",
    "for each_col in cols:\n",
    "    scaler = MinMaxScaler(feature_range = (0,1))\n",
    "    X[each_col] = scaler.fit_transform(X[each_col].values.reshape(-1,1))\n",
    "print('completed Min Max Scaling for X')"
   ]
  },
  {
   "cell_type": "code",
   "execution_count": 38,
   "metadata": {},
   "outputs": [
    {
     "data": {
      "text/html": [
       "<div>\n",
       "<style scoped>\n",
       "    .dataframe tbody tr th:only-of-type {\n",
       "        vertical-align: middle;\n",
       "    }\n",
       "\n",
       "    .dataframe tbody tr th {\n",
       "        vertical-align: top;\n",
       "    }\n",
       "\n",
       "    .dataframe thead th {\n",
       "        text-align: right;\n",
       "    }\n",
       "</style>\n",
       "<table border=\"1\" class=\"dataframe\">\n",
       "  <thead>\n",
       "    <tr style=\"text-align: right;\">\n",
       "      <th></th>\n",
       "      <th>NC</th>\n",
       "      <th>SC</th>\n",
       "      <th>NWC</th>\n",
       "      <th>seeded_S</th>\n",
       "      <th>seeded_U</th>\n",
       "      <th>season_AUTUMN</th>\n",
       "      <th>season_SPRING</th>\n",
       "      <th>season_SUMMER</th>\n",
       "      <th>season_WINTER</th>\n",
       "    </tr>\n",
       "  </thead>\n",
       "  <tbody>\n",
       "    <tr>\n",
       "      <th>0</th>\n",
       "      <td>0.175159</td>\n",
       "      <td>0.4450</td>\n",
       "      <td>0.421795</td>\n",
       "      <td>1</td>\n",
       "      <td>0</td>\n",
       "      <td>1</td>\n",
       "      <td>0</td>\n",
       "      <td>0</td>\n",
       "      <td>0</td>\n",
       "    </tr>\n",
       "    <tr>\n",
       "      <th>1</th>\n",
       "      <td>0.115711</td>\n",
       "      <td>0.1925</td>\n",
       "      <td>0.198718</td>\n",
       "      <td>0</td>\n",
       "      <td>1</td>\n",
       "      <td>1</td>\n",
       "      <td>0</td>\n",
       "      <td>0</td>\n",
       "      <td>0</td>\n",
       "    </tr>\n",
       "    <tr>\n",
       "      <th>2</th>\n",
       "      <td>0.253715</td>\n",
       "      <td>0.0850</td>\n",
       "      <td>0.258974</td>\n",
       "      <td>1</td>\n",
       "      <td>0</td>\n",
       "      <td>0</td>\n",
       "      <td>0</td>\n",
       "      <td>0</td>\n",
       "      <td>1</td>\n",
       "    </tr>\n",
       "    <tr>\n",
       "      <th>3</th>\n",
       "      <td>0.314225</td>\n",
       "      <td>0.3125</td>\n",
       "      <td>0.514103</td>\n",
       "      <td>0</td>\n",
       "      <td>1</td>\n",
       "      <td>0</td>\n",
       "      <td>0</td>\n",
       "      <td>0</td>\n",
       "      <td>1</td>\n",
       "    </tr>\n",
       "    <tr>\n",
       "      <th>4</th>\n",
       "      <td>0.441614</td>\n",
       "      <td>0.5350</td>\n",
       "      <td>0.764103</td>\n",
       "      <td>1</td>\n",
       "      <td>0</td>\n",
       "      <td>0</td>\n",
       "      <td>0</td>\n",
       "      <td>0</td>\n",
       "      <td>1</td>\n",
       "    </tr>\n",
       "    <tr>\n",
       "      <th>5</th>\n",
       "      <td>0.292994</td>\n",
       "      <td>0.2125</td>\n",
       "      <td>0.529487</td>\n",
       "      <td>0</td>\n",
       "      <td>1</td>\n",
       "      <td>0</td>\n",
       "      <td>0</td>\n",
       "      <td>0</td>\n",
       "      <td>1</td>\n",
       "    </tr>\n",
       "    <tr>\n",
       "      <th>6</th>\n",
       "      <td>0.114650</td>\n",
       "      <td>0.2075</td>\n",
       "      <td>0.437179</td>\n",
       "      <td>0</td>\n",
       "      <td>1</td>\n",
       "      <td>0</td>\n",
       "      <td>0</td>\n",
       "      <td>0</td>\n",
       "      <td>1</td>\n",
       "    </tr>\n",
       "    <tr>\n",
       "      <th>7</th>\n",
       "      <td>0.027601</td>\n",
       "      <td>0.1125</td>\n",
       "      <td>0.110256</td>\n",
       "      <td>1</td>\n",
       "      <td>0</td>\n",
       "      <td>0</td>\n",
       "      <td>0</td>\n",
       "      <td>0</td>\n",
       "      <td>1</td>\n",
       "    </tr>\n",
       "    <tr>\n",
       "      <th>8</th>\n",
       "      <td>0.268577</td>\n",
       "      <td>0.2650</td>\n",
       "      <td>0.462821</td>\n",
       "      <td>0</td>\n",
       "      <td>1</td>\n",
       "      <td>0</td>\n",
       "      <td>1</td>\n",
       "      <td>0</td>\n",
       "      <td>0</td>\n",
       "    </tr>\n",
       "    <tr>\n",
       "      <th>9</th>\n",
       "      <td>0.292994</td>\n",
       "      <td>0.7700</td>\n",
       "      <td>0.643590</td>\n",
       "      <td>1</td>\n",
       "      <td>0</td>\n",
       "      <td>0</td>\n",
       "      <td>1</td>\n",
       "      <td>0</td>\n",
       "      <td>0</td>\n",
       "    </tr>\n",
       "  </tbody>\n",
       "</table>\n",
       "</div>"
      ],
      "text/plain": [
       "         NC      SC       NWC  seeded_S  seeded_U  season_AUTUMN  \\\n",
       "0  0.175159  0.4450  0.421795         1         0              1   \n",
       "1  0.115711  0.1925  0.198718         0         1              1   \n",
       "2  0.253715  0.0850  0.258974         1         0              0   \n",
       "3  0.314225  0.3125  0.514103         0         1              0   \n",
       "4  0.441614  0.5350  0.764103         1         0              0   \n",
       "5  0.292994  0.2125  0.529487         0         1              0   \n",
       "6  0.114650  0.2075  0.437179         0         1              0   \n",
       "7  0.027601  0.1125  0.110256         1         0              0   \n",
       "8  0.268577  0.2650  0.462821         0         1              0   \n",
       "9  0.292994  0.7700  0.643590         1         0              0   \n",
       "\n",
       "   season_SPRING  season_SUMMER  season_WINTER  \n",
       "0              0              0              0  \n",
       "1              0              0              0  \n",
       "2              0              0              1  \n",
       "3              0              0              1  \n",
       "4              0              0              1  \n",
       "5              0              0              1  \n",
       "6              0              0              1  \n",
       "7              0              0              1  \n",
       "8              1              0              0  \n",
       "9              1              0              0  "
      ]
     },
     "execution_count": 38,
     "metadata": {},
     "output_type": "execute_result"
    }
   ],
   "source": [
    "X.head(10)"
   ]
  },
  {
   "cell_type": "markdown",
   "metadata": {},
   "source": [
    "# Using all features in dataset, this is the baseline score"
   ]
  },
  {
   "cell_type": "code",
   "execution_count": 39,
   "metadata": {},
   "outputs": [
    {
     "name": "stdout",
     "output_type": "stream",
     "text": [
      "[-0.76702778 -0.38591304 -0.18333154]\n",
      "Mean Score for all features = -0.4454241203820537\n"
     ]
    }
   ],
   "source": [
    "from xgboost import XGBRegressor\n",
    "model1 = XGBRegressor(n_estimators=1000, max_depth=7, eta=0.1, subsample=0.7, colsample_bytree=0.8,random_state=99)\n",
    "\n",
    "from sklearn.model_selection import cross_val_score\n",
    "scores = cross_val_score(estimator=model1, X=X, y=y, scoring='neg_mean_squared_error', cv=cv)\n",
    "print(scores)\n",
    "print('Mean Score for all features = %s' %scores.mean())"
   ]
  },
  {
   "cell_type": "markdown",
   "metadata": {},
   "source": [
    "##  Here we run Cross Validation and get accuracy metrics for each technique"
   ]
  },
  {
   "cell_type": "code",
   "execution_count": 40,
   "metadata": {},
   "outputs": [
    {
     "name": "stdout",
     "output_type": "stream",
     "text": [
      "[-0.31824359 -0.39688885 -0.58754943]\n",
      "Mean Score for FeatureWiz = -0.43422728722565546\n",
      "[-0.1457094  -0.16955673 -0.33134841]\n",
      "Mean Score for Autofeat = -0.21553817758753238\n",
      "[-0.13935168 -0.2047098  -0.39432143]\n",
      "Mean Score for FeatureEngine = -0.2461276349203728\n",
      "[-0.16032805 -0.19771003 -0.52299342]\n",
      "Mean Score for PyImpetus = -0.2936771656034688\n",
      "[-0.15592442 -0.18182024 -0.37763711]\n",
      "Mean Score for EvolutionaryFS = -0.2384605915406366\n",
      "[-0.15272556 -0.180981   -0.61690756]\n",
      "Mean Score for Zoof = -0.3168713733361627\n",
      "[-0.16032805 -0.19771003 -0.52299342]\n",
      "Mean Score for Genetic OPT = -0.2936771656034688\n",
      "[-0.12568729 -0.1832863  -0.60717311]\n",
      "Mean Score for BorutaPy = -0.30538223228573047\n",
      "[-0.12568729 -0.1832863  -0.60717311]\n",
      "Mean Score for BorutaShap = -0.30538223228573047\n"
     ]
    },
    {
     "data": {
      "text/html": [
       "<div>\n",
       "<style scoped>\n",
       "    .dataframe tbody tr th:only-of-type {\n",
       "        vertical-align: middle;\n",
       "    }\n",
       "\n",
       "    .dataframe tbody tr th {\n",
       "        vertical-align: top;\n",
       "    }\n",
       "\n",
       "    .dataframe thead th {\n",
       "        text-align: right;\n",
       "    }\n",
       "</style>\n",
       "<table border=\"1\" class=\"dataframe\">\n",
       "  <thead>\n",
       "    <tr style=\"text-align: right;\">\n",
       "      <th></th>\n",
       "      <th>Feature_Engineering_Technique</th>\n",
       "      <th>Start_Time</th>\n",
       "      <th>End_Time</th>\n",
       "      <th>Time_to_fit</th>\n",
       "      <th>Mean_CV_Accuracy</th>\n",
       "    </tr>\n",
       "  </thead>\n",
       "  <tbody>\n",
       "    <tr>\n",
       "      <th>0</th>\n",
       "      <td>FeatureWiz</td>\n",
       "      <td>1.643561e+09</td>\n",
       "      <td>1.643561e+09</td>\n",
       "      <td>1.237196</td>\n",
       "      <td>-0.434227</td>\n",
       "    </tr>\n",
       "    <tr>\n",
       "      <th>1</th>\n",
       "      <td>Autofeat</td>\n",
       "      <td>1.643561e+09</td>\n",
       "      <td>1.643561e+09</td>\n",
       "      <td>3.429242</td>\n",
       "      <td>-0.215538</td>\n",
       "    </tr>\n",
       "    <tr>\n",
       "      <th>2</th>\n",
       "      <td>FeatureEngine</td>\n",
       "      <td>1.643561e+09</td>\n",
       "      <td>1.643561e+09</td>\n",
       "      <td>0.184613</td>\n",
       "      <td>-0.246128</td>\n",
       "    </tr>\n",
       "    <tr>\n",
       "      <th>3</th>\n",
       "      <td>PyImpetus</td>\n",
       "      <td>1.643561e+09</td>\n",
       "      <td>1.643561e+09</td>\n",
       "      <td>6.672727</td>\n",
       "      <td>-0.293677</td>\n",
       "    </tr>\n",
       "    <tr>\n",
       "      <th>4</th>\n",
       "      <td>EvolutionaryFS</td>\n",
       "      <td>1.643561e+09</td>\n",
       "      <td>1.643561e+09</td>\n",
       "      <td>82.700662</td>\n",
       "      <td>-0.238461</td>\n",
       "    </tr>\n",
       "  </tbody>\n",
       "</table>\n",
       "</div>"
      ],
      "text/plain": [
       "  Feature_Engineering_Technique    Start_Time      End_Time  Time_to_fit  \\\n",
       "0                    FeatureWiz  1.643561e+09  1.643561e+09     1.237196   \n",
       "1                      Autofeat  1.643561e+09  1.643561e+09     3.429242   \n",
       "2                 FeatureEngine  1.643561e+09  1.643561e+09     0.184613   \n",
       "3                     PyImpetus  1.643561e+09  1.643561e+09     6.672727   \n",
       "4                EvolutionaryFS  1.643561e+09  1.643561e+09    82.700662   \n",
       "\n",
       "   Mean_CV_Accuracy  \n",
       "0         -0.434227  \n",
       "1         -0.215538  \n",
       "2         -0.246128  \n",
       "3         -0.293677  \n",
       "4         -0.238461  "
      ]
     },
     "execution_count": 40,
     "metadata": {},
     "output_type": "execute_result"
    }
   ],
   "source": [
    "performance = pd.DataFrame(columns=['Start_Time','End_Time','Run_Time','Accuracy_Score','Model','Feature_Engineering_Technique'])\n",
    "cv = KFold(n_splits=3,shuffle=True, random_state=99)\n",
    "for key,value in fs.items():\n",
    "    start = time.time()\n",
    "    model2 = XGBRegressor(n_estimators=1000, max_depth=7, eta=0.1, subsample=0.7, colsample_bytree=0.8,random_state=99)\n",
    "    from sklearn.model_selection import cross_val_score\n",
    "    scores = cross_val_score(estimator=model2, X=X_train[value], y=y_train, scoring='neg_mean_squared_error', cv=cv, n_jobs=-1)\n",
    "    end = time.time()\n",
    "    diff = (end-start)\n",
    "    print(scores)\n",
    "    print('Mean Score for %s = %s' %(key, scores.mean()))\n",
    "    performance = performance.append({'Start_Time':start,'End_Time':end,'Run_Time':diff,'Accuracy_Score':scores.mean(),'Model':'RandomForest','Feature_Engineering_Technique':key} , ignore_index=True)\n",
    "    time_to_fit.loc[(time_to_fit['Feature_Engineering_Technique']==key), 'Mean_CV_Accuracy'] = scores.mean()\n",
    "time_to_fit.head()"
   ]
  },
  {
   "cell_type": "markdown",
   "metadata": {},
   "source": [
    "## You must finally train a model on X_train and test it on X_test using selected features"
   ]
  },
  {
   "cell_type": "code",
   "execution_count": 41,
   "metadata": {},
   "outputs": [],
   "source": [
    "#Using Lime to interpret the results of model\n",
    "#from lime import lime_text\n",
    "from sklearn.pipeline import make_pipeline\n",
    "from sklearn.metrics import balanced_accuracy_score, mean_squared_error\n",
    "#import lime.lime_tabular\n",
    "\n",
    "for key,value in fs.items():\n",
    "    model3 = XGBRegressor(n_estimators=1000, max_depth=7, eta=0.1, subsample=0.7, colsample_bytree=0.8,random_state=99)\n",
    "    from sklearn.metrics import classification_report\n",
    "    model3.fit(X_train[value], y_train)\n",
    "    #print(classification_report(y_test, model3.predict(X_test[value])))\n",
    "    score_val = -mean_squared_error(y_test, model3.predict(X_test[value]))\n",
    "    time_to_fit.loc[(time_to_fit['Feature_Engineering_Technique']==key), 'Mean_Test_Accuracy'] = score_val\n",
    "    #print(\"Lime Feature Importance : \"+key)\n",
    "    #explainer = lime.lime_tabular.LimeTabularExplainer(X_train[value].values, feature_names=X_train[value].columns, class_names=[0, 1], mode='classification')\n",
    "    #exp = explainer.explain_instance(X_test[value].values[1], model3.predict_proba, num_features=len(X_train[value].columns))\n",
    "    #exp.show_in_notebook(show_table=True, show_all=False)"
   ]
  },
  {
   "cell_type": "code",
   "execution_count": 42,
   "metadata": {},
   "outputs": [],
   "source": [
    "time_to_fit['Mean_CV_Accuracy'] = time_to_fit['Mean_CV_Accuracy'].abs()\n",
    "time_to_fit['Mean_Test_Accuracy'] = time_to_fit['Mean_Test_Accuracy'].abs()\n",
    "time_to_fit['Dataset'] = \"Cloud\"\n",
    "time_to_fit['Type'] = \"Regression\"\n",
    "time_to_fit['Metric'] = \"Mean Squared Error\""
   ]
  },
  {
   "cell_type": "code",
   "execution_count": 43,
   "metadata": {},
   "outputs": [
    {
     "data": {
      "text/html": [
       "<div>\n",
       "<style scoped>\n",
       "    .dataframe tbody tr th:only-of-type {\n",
       "        vertical-align: middle;\n",
       "    }\n",
       "\n",
       "    .dataframe tbody tr th {\n",
       "        vertical-align: top;\n",
       "    }\n",
       "\n",
       "    .dataframe thead th {\n",
       "        text-align: right;\n",
       "    }\n",
       "</style>\n",
       "<table border=\"1\" class=\"dataframe\">\n",
       "  <thead>\n",
       "    <tr style=\"text-align: right;\">\n",
       "      <th></th>\n",
       "      <th>Feature_Engineering_Technique</th>\n",
       "      <th>Start_Time</th>\n",
       "      <th>End_Time</th>\n",
       "      <th>Time_to_fit</th>\n",
       "      <th>Mean_CV_Accuracy</th>\n",
       "      <th>Mean_Test_Accuracy</th>\n",
       "      <th>Dataset</th>\n",
       "      <th>Type</th>\n",
       "      <th>Metric</th>\n",
       "    </tr>\n",
       "  </thead>\n",
       "  <tbody>\n",
       "    <tr>\n",
       "      <th>0</th>\n",
       "      <td>FeatureWiz</td>\n",
       "      <td>1.643561e+09</td>\n",
       "      <td>1.643561e+09</td>\n",
       "      <td>1.237196</td>\n",
       "      <td>0.434227</td>\n",
       "      <td>0.132885</td>\n",
       "      <td>Cloud</td>\n",
       "      <td>Regression</td>\n",
       "      <td>Mean Squared Error</td>\n",
       "    </tr>\n",
       "    <tr>\n",
       "      <th>1</th>\n",
       "      <td>Autofeat</td>\n",
       "      <td>1.643561e+09</td>\n",
       "      <td>1.643561e+09</td>\n",
       "      <td>3.429242</td>\n",
       "      <td>0.215538</td>\n",
       "      <td>0.064755</td>\n",
       "      <td>Cloud</td>\n",
       "      <td>Regression</td>\n",
       "      <td>Mean Squared Error</td>\n",
       "    </tr>\n",
       "    <tr>\n",
       "      <th>2</th>\n",
       "      <td>FeatureEngine</td>\n",
       "      <td>1.643561e+09</td>\n",
       "      <td>1.643561e+09</td>\n",
       "      <td>0.184613</td>\n",
       "      <td>0.246128</td>\n",
       "      <td>0.072799</td>\n",
       "      <td>Cloud</td>\n",
       "      <td>Regression</td>\n",
       "      <td>Mean Squared Error</td>\n",
       "    </tr>\n",
       "    <tr>\n",
       "      <th>3</th>\n",
       "      <td>PyImpetus</td>\n",
       "      <td>1.643561e+09</td>\n",
       "      <td>1.643561e+09</td>\n",
       "      <td>6.672727</td>\n",
       "      <td>0.293677</td>\n",
       "      <td>0.075237</td>\n",
       "      <td>Cloud</td>\n",
       "      <td>Regression</td>\n",
       "      <td>Mean Squared Error</td>\n",
       "    </tr>\n",
       "    <tr>\n",
       "      <th>4</th>\n",
       "      <td>EvolutionaryFS</td>\n",
       "      <td>1.643561e+09</td>\n",
       "      <td>1.643561e+09</td>\n",
       "      <td>82.700662</td>\n",
       "      <td>0.238461</td>\n",
       "      <td>0.077260</td>\n",
       "      <td>Cloud</td>\n",
       "      <td>Regression</td>\n",
       "      <td>Mean Squared Error</td>\n",
       "    </tr>\n",
       "    <tr>\n",
       "      <th>5</th>\n",
       "      <td>Zoof</td>\n",
       "      <td>1.643561e+09</td>\n",
       "      <td>1.643561e+09</td>\n",
       "      <td>82.700662</td>\n",
       "      <td>0.316871</td>\n",
       "      <td>0.064643</td>\n",
       "      <td>Cloud</td>\n",
       "      <td>Regression</td>\n",
       "      <td>Mean Squared Error</td>\n",
       "    </tr>\n",
       "    <tr>\n",
       "      <th>6</th>\n",
       "      <td>Genetic OPT</td>\n",
       "      <td>1.643561e+09</td>\n",
       "      <td>1.643561e+09</td>\n",
       "      <td>282.773785</td>\n",
       "      <td>0.293677</td>\n",
       "      <td>0.075237</td>\n",
       "      <td>Cloud</td>\n",
       "      <td>Regression</td>\n",
       "      <td>Mean Squared Error</td>\n",
       "    </tr>\n",
       "    <tr>\n",
       "      <th>7</th>\n",
       "      <td>BorutaPy</td>\n",
       "      <td>1.643561e+09</td>\n",
       "      <td>1.643561e+09</td>\n",
       "      <td>2.169509</td>\n",
       "      <td>0.305382</td>\n",
       "      <td>0.080579</td>\n",
       "      <td>Cloud</td>\n",
       "      <td>Regression</td>\n",
       "      <td>Mean Squared Error</td>\n",
       "    </tr>\n",
       "    <tr>\n",
       "      <th>8</th>\n",
       "      <td>BorutaShap</td>\n",
       "      <td>1.643561e+09</td>\n",
       "      <td>1.643561e+09</td>\n",
       "      <td>22.918483</td>\n",
       "      <td>0.305382</td>\n",
       "      <td>0.080579</td>\n",
       "      <td>Cloud</td>\n",
       "      <td>Regression</td>\n",
       "      <td>Mean Squared Error</td>\n",
       "    </tr>\n",
       "  </tbody>\n",
       "</table>\n",
       "</div>"
      ],
      "text/plain": [
       "  Feature_Engineering_Technique    Start_Time      End_Time  Time_to_fit  \\\n",
       "0                    FeatureWiz  1.643561e+09  1.643561e+09     1.237196   \n",
       "1                      Autofeat  1.643561e+09  1.643561e+09     3.429242   \n",
       "2                 FeatureEngine  1.643561e+09  1.643561e+09     0.184613   \n",
       "3                     PyImpetus  1.643561e+09  1.643561e+09     6.672727   \n",
       "4                EvolutionaryFS  1.643561e+09  1.643561e+09    82.700662   \n",
       "5                          Zoof  1.643561e+09  1.643561e+09    82.700662   \n",
       "6                   Genetic OPT  1.643561e+09  1.643561e+09   282.773785   \n",
       "7                      BorutaPy  1.643561e+09  1.643561e+09     2.169509   \n",
       "8                    BorutaShap  1.643561e+09  1.643561e+09    22.918483   \n",
       "\n",
       "   Mean_CV_Accuracy  Mean_Test_Accuracy Dataset        Type  \\\n",
       "0          0.434227            0.132885   Cloud  Regression   \n",
       "1          0.215538            0.064755   Cloud  Regression   \n",
       "2          0.246128            0.072799   Cloud  Regression   \n",
       "3          0.293677            0.075237   Cloud  Regression   \n",
       "4          0.238461            0.077260   Cloud  Regression   \n",
       "5          0.316871            0.064643   Cloud  Regression   \n",
       "6          0.293677            0.075237   Cloud  Regression   \n",
       "7          0.305382            0.080579   Cloud  Regression   \n",
       "8          0.305382            0.080579   Cloud  Regression   \n",
       "\n",
       "               Metric  \n",
       "0  Mean Squared Error  \n",
       "1  Mean Squared Error  \n",
       "2  Mean Squared Error  \n",
       "3  Mean Squared Error  \n",
       "4  Mean Squared Error  \n",
       "5  Mean Squared Error  \n",
       "6  Mean Squared Error  \n",
       "7  Mean Squared Error  \n",
       "8  Mean Squared Error  "
      ]
     },
     "execution_count": 43,
     "metadata": {},
     "output_type": "execute_result"
    }
   ],
   "source": [
    "time_to_fit"
   ]
  },
  {
   "cell_type": "markdown",
   "metadata": {},
   "source": [
    "# This is another way to know how well feature selection works"
   ]
  },
  {
   "cell_type": "markdown",
   "metadata": {},
   "source": [
    "notes : Class imbalance - PyImpetus"
   ]
  }
 ],
 "metadata": {
  "kernelspec": {
   "display_name": "Python 3 (ipykernel)",
   "language": "python",
   "name": "python3"
  },
  "language_info": {
   "codemirror_mode": {
    "name": "ipython",
    "version": 3
   },
   "file_extension": ".py",
   "mimetype": "text/x-python",
   "name": "python",
   "nbconvert_exporter": "python",
   "pygments_lexer": "ipython3",
   "version": "3.7.4"
  }
 },
 "nbformat": 4,
 "nbformat_minor": 2
}
