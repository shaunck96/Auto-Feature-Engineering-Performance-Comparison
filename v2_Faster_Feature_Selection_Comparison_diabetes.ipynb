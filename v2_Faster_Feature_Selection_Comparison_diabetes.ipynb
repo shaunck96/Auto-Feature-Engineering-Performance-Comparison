{
 "cells": [
  {
   "cell_type": "markdown",
   "metadata": {},
   "source": [
    "# Here is a simpler process"
   ]
  },
  {
   "cell_type": "code",
   "execution_count": 1,
   "metadata": {},
   "outputs": [
    {
     "name": "stdout",
     "output_type": "stream",
     "text": [
      "3.7.4\n",
      "scipy:1.7.3\n"
     ]
    }
   ],
   "source": [
    "from platform import python_version\n",
    "import autokeras as ak\n",
    "import datetime as dt\n",
    "from sklearn.linear_model import LogisticRegression\n",
    "import pandas as pd\n",
    "from sklearn.metrics import f1_score\n",
    "print(python_version())\n",
    "import scipy\n",
    "print('scipy:'+scipy.__version__)\n",
    "from sklearn.ensemble import RandomForestClassifier\n",
    "import matplotlib.pyplot as plt\n",
    "from sklearn.preprocessing import MinMaxScaler\n",
    "import numpy as np\n",
    "from sklearn.metrics import log_loss\n",
    "import time"
   ]
  },
  {
   "cell_type": "code",
   "execution_count": 2,
   "metadata": {},
   "outputs": [
    {
     "data": {
      "text/plain": [
       "'C:\\\\Users\\\\shaun'"
      ]
     },
     "execution_count": 2,
     "metadata": {},
     "output_type": "execute_result"
    }
   ],
   "source": [
    "import os\n",
    "\n",
    "os.getcwd()"
   ]
  },
  {
   "cell_type": "markdown",
   "metadata": {},
   "source": [
    "# Read the file"
   ]
  },
  {
   "cell_type": "code",
   "execution_count": 3,
   "metadata": {},
   "outputs": [
    {
     "name": "stdout",
     "output_type": "stream",
     "text": [
      "(768, 9)\n"
     ]
    },
    {
     "data": {
      "text/html": [
       "<div>\n",
       "<style scoped>\n",
       "    .dataframe tbody tr th:only-of-type {\n",
       "        vertical-align: middle;\n",
       "    }\n",
       "\n",
       "    .dataframe tbody tr th {\n",
       "        vertical-align: top;\n",
       "    }\n",
       "\n",
       "    .dataframe thead th {\n",
       "        text-align: right;\n",
       "    }\n",
       "</style>\n",
       "<table border=\"1\" class=\"dataframe\">\n",
       "  <thead>\n",
       "    <tr style=\"text-align: right;\">\n",
       "      <th></th>\n",
       "      <th>Pregnancies</th>\n",
       "      <th>Glucose</th>\n",
       "      <th>BloodPressure</th>\n",
       "      <th>SkinThickness</th>\n",
       "      <th>Insulin</th>\n",
       "      <th>BMI</th>\n",
       "      <th>DiabetesPedigreeFunction</th>\n",
       "      <th>Age</th>\n",
       "      <th>Target</th>\n",
       "    </tr>\n",
       "  </thead>\n",
       "  <tbody>\n",
       "    <tr>\n",
       "      <th>0</th>\n",
       "      <td>6</td>\n",
       "      <td>148</td>\n",
       "      <td>72</td>\n",
       "      <td>35</td>\n",
       "      <td>0</td>\n",
       "      <td>33.6</td>\n",
       "      <td>0.627</td>\n",
       "      <td>50</td>\n",
       "      <td>1</td>\n",
       "    </tr>\n",
       "    <tr>\n",
       "      <th>1</th>\n",
       "      <td>1</td>\n",
       "      <td>85</td>\n",
       "      <td>66</td>\n",
       "      <td>29</td>\n",
       "      <td>0</td>\n",
       "      <td>26.6</td>\n",
       "      <td>0.351</td>\n",
       "      <td>31</td>\n",
       "      <td>0</td>\n",
       "    </tr>\n",
       "    <tr>\n",
       "      <th>2</th>\n",
       "      <td>8</td>\n",
       "      <td>183</td>\n",
       "      <td>64</td>\n",
       "      <td>0</td>\n",
       "      <td>0</td>\n",
       "      <td>23.3</td>\n",
       "      <td>0.672</td>\n",
       "      <td>32</td>\n",
       "      <td>1</td>\n",
       "    </tr>\n",
       "    <tr>\n",
       "      <th>3</th>\n",
       "      <td>1</td>\n",
       "      <td>89</td>\n",
       "      <td>66</td>\n",
       "      <td>23</td>\n",
       "      <td>94</td>\n",
       "      <td>28.1</td>\n",
       "      <td>0.167</td>\n",
       "      <td>21</td>\n",
       "      <td>0</td>\n",
       "    </tr>\n",
       "    <tr>\n",
       "      <th>4</th>\n",
       "      <td>0</td>\n",
       "      <td>137</td>\n",
       "      <td>40</td>\n",
       "      <td>35</td>\n",
       "      <td>168</td>\n",
       "      <td>43.1</td>\n",
       "      <td>2.288</td>\n",
       "      <td>33</td>\n",
       "      <td>1</td>\n",
       "    </tr>\n",
       "  </tbody>\n",
       "</table>\n",
       "</div>"
      ],
      "text/plain": [
       "   Pregnancies  Glucose  BloodPressure  SkinThickness  Insulin   BMI  \\\n",
       "0            6      148             72             35        0  33.6   \n",
       "1            1       85             66             29        0  26.6   \n",
       "2            8      183             64              0        0  23.3   \n",
       "3            1       89             66             23       94  28.1   \n",
       "4            0      137             40             35      168  43.1   \n",
       "\n",
       "   DiabetesPedigreeFunction  Age  Target  \n",
       "0                     0.627   50       1  \n",
       "1                     0.351   31       0  \n",
       "2                     0.672   32       1  \n",
       "3                     0.167   21       0  \n",
       "4                     2.288   33       1  "
      ]
     },
     "execution_count": 3,
     "metadata": {},
     "output_type": "execute_result"
    }
   ],
   "source": [
    "datapath = r\"C:\\Users\\shaun\\OneDrive\\Desktop\\Feature_Engineering_Project\\diabetes.csv\"\n",
    "#datapath = './'\n",
    "#filename = 'ionosphere.csv'\n",
    "df = pd.read_csv(datapath)\n",
    "print(df.shape)\n",
    "df.head()"
   ]
  },
  {
   "cell_type": "code",
   "execution_count": 4,
   "metadata": {},
   "outputs": [],
   "source": [
    "target = 'Target'"
   ]
  },
  {
   "cell_type": "code",
   "execution_count": 5,
   "metadata": {},
   "outputs": [],
   "source": [
    "#Extract list of numeric columns\n",
    "cols = df.select_dtypes([np.number]).columns\n",
    "cols = list(cols)\n",
    "cols.remove('Target')"
   ]
  },
  {
   "cell_type": "code",
   "execution_count": 6,
   "metadata": {},
   "outputs": [
    {
     "data": {
      "text/plain": [
       "<AxesSubplot:>"
      ]
     },
     "execution_count": 6,
     "metadata": {},
     "output_type": "execute_result"
    },
    {
     "data": {
      "image/png": "[encoded data removed]",
      "text/plain": [
       "<Figure size 432x288 with 1 Axes>"
      ]
     },
     "metadata": {
      "needs_background": "light"
     },
     "output_type": "display_data"
    }
   ],
   "source": [
    "df[target].hist()"
   ]
  },
  {
   "cell_type": "code",
   "execution_count": 7,
   "metadata": {},
   "outputs": [
    {
     "data": {
      "text/html": [
       "<div>\n",
       "<style scoped>\n",
       "    .dataframe tbody tr th:only-of-type {\n",
       "        vertical-align: middle;\n",
       "    }\n",
       "\n",
       "    .dataframe tbody tr th {\n",
       "        vertical-align: top;\n",
       "    }\n",
       "\n",
       "    .dataframe thead th {\n",
       "        text-align: right;\n",
       "    }\n",
       "</style>\n",
       "<table border=\"1\" class=\"dataframe\">\n",
       "  <thead>\n",
       "    <tr style=\"text-align: right;\">\n",
       "      <th></th>\n",
       "      <th>Target</th>\n",
       "    </tr>\n",
       "  </thead>\n",
       "  <tbody>\n",
       "    <tr>\n",
       "      <th>0</th>\n",
       "      <td>1</td>\n",
       "    </tr>\n",
       "  </tbody>\n",
       "</table>\n",
       "</div>"
      ],
      "text/plain": [
       "   Target\n",
       "0       1"
      ]
     },
     "execution_count": 7,
     "metadata": {},
     "output_type": "execute_result"
    }
   ],
   "source": [
    "from sklearn.preprocessing import LabelEncoder\n",
    "lb_make = LabelEncoder()\n",
    "df[target] = lb_make.fit_transform(df[target])\n",
    "df[[target]].head(1)"
   ]
  },
  {
   "cell_type": "markdown",
   "metadata": {},
   "source": [
    "# Import each tool you are evaluating here"
   ]
  },
  {
   "cell_type": "markdown",
   "metadata": {},
   "source": [
    "Importing PyImpetus, Eli5, EvolutionaryFS, autofeat ; To Include More from https://www.opensourceagenda.com/tags/feature-selection?page=2"
   ]
  },
  {
   "cell_type": "code",
   "execution_count": 8,
   "metadata": {},
   "outputs": [
    {
     "name": "stdout",
     "output_type": "stream",
     "text": [
      "Imported DASK version = 0.0.90. nrows=None uses all rows. Set nrows=1000 to randomly sample fewer rows.\n",
      "output = featurewiz(dataname, target, corr_limit=0.70, verbose=2, sep=',', \n",
      "\t\theader=0, test_data='',feature_engg='', category_encoders='',\n",
      "\t\tdask_xgboost_flag=False, nrows=None)\n",
      "Create new features via 'feature_engg' flag : ['interactions','groupby','target']\n",
      "                                \n"
     ]
    }
   ],
   "source": [
    "from PyImpetus import PPIMBC\n",
    "#import eli5\n",
    "#from eli5.sklearn import PermutationImportance\n",
    "from sklearn.svm import SVC\n",
    "from sklearn.feature_selection import SelectFromModel\n",
    "from EvolutionaryFS import GeneticAlgorithmFS\n",
    "from zoofs import ParticleSwarmOptimization\n",
    "\n",
    "import featurewiz as fwiz\n",
    "from featurewiz import FeatureWiz\n",
    "\n",
    "from autofeat import FeatureSelector\n",
    "\n",
    "#from autofeat import AutoFeatRegressor"
   ]
  },
  {
   "cell_type": "markdown",
   "metadata": {},
   "source": [
    "# Define the dataset and target here"
   ]
  },
  {
   "cell_type": "code",
   "execution_count": 9,
   "metadata": {},
   "outputs": [
    {
     "data": {
      "text/plain": [
       "8"
      ]
     },
     "execution_count": 9,
     "metadata": {},
     "output_type": "execute_result"
    }
   ],
   "source": [
    "preds = [x for x in list(df) if x not in [target]]\n",
    "len(preds)"
   ]
  },
  {
   "cell_type": "code",
   "execution_count": 10,
   "metadata": {},
   "outputs": [
    {
     "name": "stdout",
     "output_type": "stream",
     "text": [
      "(768, 8) (768,)\n"
     ]
    }
   ],
   "source": [
    "X = df[preds]\n",
    "y = df[target]\n",
    "print(X.shape, y.shape)"
   ]
  },
  {
   "cell_type": "code",
   "execution_count": 11,
   "metadata": {},
   "outputs": [
    {
     "name": "stdout",
     "output_type": "stream",
     "text": [
      "(614, 8) (154, 8)\n"
     ]
    }
   ],
   "source": [
    "##get train and test data\n",
    "from sklearn.model_selection import train_test_split\n",
    "X_train, X_test, y_train, y_test = train_test_split(X, y, test_size=0.20, random_state=1,\n",
    "                                                    stratify=y)\n",
    "print(X_train.shape, X_test.shape)"
   ]
  },
  {
   "cell_type": "code",
   "execution_count": 12,
   "metadata": {},
   "outputs": [
    {
     "data": {
      "text/html": [
       "<div>\n",
       "<style scoped>\n",
       "    .dataframe tbody tr th:only-of-type {\n",
       "        vertical-align: middle;\n",
       "    }\n",
       "\n",
       "    .dataframe tbody tr th {\n",
       "        vertical-align: top;\n",
       "    }\n",
       "\n",
       "    .dataframe thead th {\n",
       "        text-align: right;\n",
       "    }\n",
       "</style>\n",
       "<table border=\"1\" class=\"dataframe\">\n",
       "  <thead>\n",
       "    <tr style=\"text-align: right;\">\n",
       "      <th></th>\n",
       "      <th>Pregnancies</th>\n",
       "      <th>Glucose</th>\n",
       "      <th>BloodPressure</th>\n",
       "      <th>SkinThickness</th>\n",
       "      <th>Insulin</th>\n",
       "      <th>BMI</th>\n",
       "      <th>DiabetesPedigreeFunction</th>\n",
       "      <th>Age</th>\n",
       "    </tr>\n",
       "  </thead>\n",
       "  <tbody>\n",
       "    <tr>\n",
       "      <th>678</th>\n",
       "      <td>3</td>\n",
       "      <td>121</td>\n",
       "      <td>52</td>\n",
       "      <td>0</td>\n",
       "      <td>0</td>\n",
       "      <td>36.0</td>\n",
       "      <td>0.127</td>\n",
       "      <td>25</td>\n",
       "    </tr>\n",
       "    <tr>\n",
       "      <th>53</th>\n",
       "      <td>8</td>\n",
       "      <td>176</td>\n",
       "      <td>90</td>\n",
       "      <td>34</td>\n",
       "      <td>300</td>\n",
       "      <td>33.7</td>\n",
       "      <td>0.467</td>\n",
       "      <td>58</td>\n",
       "    </tr>\n",
       "    <tr>\n",
       "      <th>665</th>\n",
       "      <td>1</td>\n",
       "      <td>112</td>\n",
       "      <td>80</td>\n",
       "      <td>45</td>\n",
       "      <td>132</td>\n",
       "      <td>34.8</td>\n",
       "      <td>0.217</td>\n",
       "      <td>24</td>\n",
       "    </tr>\n",
       "    <tr>\n",
       "      <th>219</th>\n",
       "      <td>5</td>\n",
       "      <td>112</td>\n",
       "      <td>66</td>\n",
       "      <td>0</td>\n",
       "      <td>0</td>\n",
       "      <td>37.8</td>\n",
       "      <td>0.261</td>\n",
       "      <td>41</td>\n",
       "    </tr>\n",
       "    <tr>\n",
       "      <th>720</th>\n",
       "      <td>4</td>\n",
       "      <td>83</td>\n",
       "      <td>86</td>\n",
       "      <td>19</td>\n",
       "      <td>0</td>\n",
       "      <td>29.3</td>\n",
       "      <td>0.317</td>\n",
       "      <td>34</td>\n",
       "    </tr>\n",
       "    <tr>\n",
       "      <th>...</th>\n",
       "      <td>...</td>\n",
       "      <td>...</td>\n",
       "      <td>...</td>\n",
       "      <td>...</td>\n",
       "      <td>...</td>\n",
       "      <td>...</td>\n",
       "      <td>...</td>\n",
       "      <td>...</td>\n",
       "    </tr>\n",
       "    <tr>\n",
       "      <th>88</th>\n",
       "      <td>15</td>\n",
       "      <td>136</td>\n",
       "      <td>70</td>\n",
       "      <td>32</td>\n",
       "      <td>110</td>\n",
       "      <td>37.1</td>\n",
       "      <td>0.153</td>\n",
       "      <td>43</td>\n",
       "    </tr>\n",
       "    <tr>\n",
       "      <th>137</th>\n",
       "      <td>0</td>\n",
       "      <td>93</td>\n",
       "      <td>60</td>\n",
       "      <td>25</td>\n",
       "      <td>92</td>\n",
       "      <td>28.7</td>\n",
       "      <td>0.532</td>\n",
       "      <td>22</td>\n",
       "    </tr>\n",
       "    <tr>\n",
       "      <th>645</th>\n",
       "      <td>2</td>\n",
       "      <td>157</td>\n",
       "      <td>74</td>\n",
       "      <td>35</td>\n",
       "      <td>440</td>\n",
       "      <td>39.4</td>\n",
       "      <td>0.134</td>\n",
       "      <td>30</td>\n",
       "    </tr>\n",
       "    <tr>\n",
       "      <th>308</th>\n",
       "      <td>0</td>\n",
       "      <td>128</td>\n",
       "      <td>68</td>\n",
       "      <td>19</td>\n",
       "      <td>180</td>\n",
       "      <td>30.5</td>\n",
       "      <td>1.391</td>\n",
       "      <td>25</td>\n",
       "    </tr>\n",
       "    <tr>\n",
       "      <th>332</th>\n",
       "      <td>1</td>\n",
       "      <td>180</td>\n",
       "      <td>0</td>\n",
       "      <td>0</td>\n",
       "      <td>0</td>\n",
       "      <td>43.3</td>\n",
       "      <td>0.282</td>\n",
       "      <td>41</td>\n",
       "    </tr>\n",
       "  </tbody>\n",
       "</table>\n",
       "<p>614 rows × 8 columns</p>\n",
       "</div>"
      ],
      "text/plain": [
       "     Pregnancies  Glucose  BloodPressure  SkinThickness  Insulin   BMI  \\\n",
       "678            3      121             52              0        0  36.0   \n",
       "53             8      176             90             34      300  33.7   \n",
       "665            1      112             80             45      132  34.8   \n",
       "219            5      112             66              0        0  37.8   \n",
       "720            4       83             86             19        0  29.3   \n",
       "..           ...      ...            ...            ...      ...   ...   \n",
       "88            15      136             70             32      110  37.1   \n",
       "137            0       93             60             25       92  28.7   \n",
       "645            2      157             74             35      440  39.4   \n",
       "308            0      128             68             19      180  30.5   \n",
       "332            1      180              0              0        0  43.3   \n",
       "\n",
       "     DiabetesPedigreeFunction  Age  \n",
       "678                     0.127   25  \n",
       "53                      0.467   58  \n",
       "665                     0.217   24  \n",
       "219                     0.261   41  \n",
       "720                     0.317   34  \n",
       "..                        ...  ...  \n",
       "88                      0.153   43  \n",
       "137                     0.532   22  \n",
       "645                     0.134   30  \n",
       "308                     1.391   25  \n",
       "332                     0.282   41  \n",
       "\n",
       "[614 rows x 8 columns]"
      ]
     },
     "execution_count": 12,
     "metadata": {},
     "output_type": "execute_result"
    }
   ],
   "source": [
    "X_train"
   ]
  },
  {
   "cell_type": "code",
   "execution_count": 13,
   "metadata": {},
   "outputs": [
    {
     "data": {
      "text/plain": [
       "(0, 0)"
      ]
     },
     "execution_count": 13,
     "metadata": {},
     "output_type": "execute_result"
    }
   ],
   "source": [
    "#Find categorical columns and object columns to transform into numeric: \n",
    "cat_columns = list(X.select_dtypes(['category']).columns)\n",
    "obj_columns = list(X.select_dtypes(['object']).columns)\n",
    "len(cat_columns), len(obj_columns)"
   ]
  },
  {
   "cell_type": "code",
   "execution_count": 14,
   "metadata": {},
   "outputs": [],
   "source": [
    "#Category+Object Transforms -> You must always fit_transform train while only doing transform for test\n",
    "if len(cat_columns+obj_columns):\n",
    "    for each_cat in cat_columns+obj_columns:\n",
    "        LB = LabelEncoder()\n",
    "        X_train[each_cat] = LB.fit_transform(X_train[each_cat])\n",
    "        X_test[each_cat] = LB.transform(X_test[each_cat])\n",
    "        print(each_cat+' completed transform')"
   ]
  },
  {
   "cell_type": "code",
   "execution_count": 15,
   "metadata": {},
   "outputs": [
    {
     "name": "stdout",
     "output_type": "stream",
     "text": [
      "completed Min Max Scaling\n"
     ]
    }
   ],
   "source": [
    "#MinMax Scale Features -> You must always fit_transform train while only doing transform for test\n",
    "for each_col in cols:\n",
    "    scaler = MinMaxScaler(feature_range = (1,100))\n",
    "    X_train[each_col] = scaler.fit_transform(X_train[each_col].values.reshape(-1,1))\n",
    "    X_test[each_col] = scaler.transform(X_test[each_col].values.reshape(-1,1))\n",
    "print('completed Min Max Scaling')"
   ]
  },
  {
   "cell_type": "code",
   "execution_count": 16,
   "metadata": {},
   "outputs": [
    {
     "data": {
      "text/html": [
       "<div>\n",
       "<style scoped>\n",
       "    .dataframe tbody tr th:only-of-type {\n",
       "        vertical-align: middle;\n",
       "    }\n",
       "\n",
       "    .dataframe tbody tr th {\n",
       "        vertical-align: top;\n",
       "    }\n",
       "\n",
       "    .dataframe thead th {\n",
       "        text-align: right;\n",
       "    }\n",
       "</style>\n",
       "<table border=\"1\" class=\"dataframe\">\n",
       "  <thead>\n",
       "    <tr style=\"text-align: right;\">\n",
       "      <th></th>\n",
       "      <th>Pregnancies</th>\n",
       "      <th>Glucose</th>\n",
       "      <th>BloodPressure</th>\n",
       "      <th>SkinThickness</th>\n",
       "      <th>Insulin</th>\n",
       "      <th>BMI</th>\n",
       "      <th>DiabetesPedigreeFunction</th>\n",
       "      <th>Age</th>\n",
       "    </tr>\n",
       "  </thead>\n",
       "  <tbody>\n",
       "    <tr>\n",
       "      <th>678</th>\n",
       "      <td>18.470588</td>\n",
       "      <td>61.195980</td>\n",
       "      <td>47.8</td>\n",
       "      <td>1.0</td>\n",
       "      <td>1.000000</td>\n",
       "      <td>54.114754</td>\n",
       "      <td>2.822346</td>\n",
       "      <td>7.60</td>\n",
       "    </tr>\n",
       "    <tr>\n",
       "      <th>53</th>\n",
       "      <td>47.588235</td>\n",
       "      <td>88.557789</td>\n",
       "      <td>82.0</td>\n",
       "      <td>35.0</td>\n",
       "      <td>44.676471</td>\n",
       "      <td>50.721311</td>\n",
       "      <td>17.231592</td>\n",
       "      <td>62.05</td>\n",
       "    </tr>\n",
       "    <tr>\n",
       "      <th>665</th>\n",
       "      <td>6.823529</td>\n",
       "      <td>56.718593</td>\n",
       "      <td>73.0</td>\n",
       "      <td>46.0</td>\n",
       "      <td>20.217647</td>\n",
       "      <td>52.344262</td>\n",
       "      <td>6.636558</td>\n",
       "      <td>5.95</td>\n",
       "    </tr>\n",
       "    <tr>\n",
       "      <th>219</th>\n",
       "      <td>30.117647</td>\n",
       "      <td>56.718593</td>\n",
       "      <td>60.4</td>\n",
       "      <td>1.0</td>\n",
       "      <td>1.000000</td>\n",
       "      <td>56.770492</td>\n",
       "      <td>8.501284</td>\n",
       "      <td>34.00</td>\n",
       "    </tr>\n",
       "    <tr>\n",
       "      <th>720</th>\n",
       "      <td>24.294118</td>\n",
       "      <td>42.291457</td>\n",
       "      <td>78.4</td>\n",
       "      <td>20.0</td>\n",
       "      <td>1.000000</td>\n",
       "      <td>44.229508</td>\n",
       "      <td>10.874572</td>\n",
       "      <td>22.45</td>\n",
       "    </tr>\n",
       "  </tbody>\n",
       "</table>\n",
       "</div>"
      ],
      "text/plain": [
       "     Pregnancies    Glucose  BloodPressure  SkinThickness    Insulin  \\\n",
       "678    18.470588  61.195980           47.8            1.0   1.000000   \n",
       "53     47.588235  88.557789           82.0           35.0  44.676471   \n",
       "665     6.823529  56.718593           73.0           46.0  20.217647   \n",
       "219    30.117647  56.718593           60.4            1.0   1.000000   \n",
       "720    24.294118  42.291457           78.4           20.0   1.000000   \n",
       "\n",
       "           BMI  DiabetesPedigreeFunction    Age  \n",
       "678  54.114754                  2.822346   7.60  \n",
       "53   50.721311                 17.231592  62.05  \n",
       "665  52.344262                  6.636558   5.95  \n",
       "219  56.770492                  8.501284  34.00  \n",
       "720  44.229508                 10.874572  22.45  "
      ]
     },
     "execution_count": 16,
     "metadata": {},
     "output_type": "execute_result"
    }
   ],
   "source": [
    "X_train.head()"
   ]
  },
  {
   "cell_type": "markdown",
   "metadata": {},
   "source": [
    "### Since The Tool is not allowed to look at test data, you must only use X_train and y_train for the Tool"
   ]
  },
  {
   "cell_type": "code",
   "execution_count": 17,
   "metadata": {},
   "outputs": [
    {
     "name": "stdout",
     "output_type": "stream",
     "text": [
      "(614, 9)\n"
     ]
    }
   ],
   "source": [
    "train = pd.concat([X_train,y_train],axis=1)\n",
    "print(train.shape)"
   ]
  },
  {
   "cell_type": "code",
   "execution_count": 18,
   "metadata": {},
   "outputs": [
    {
     "name": "stdout",
     "output_type": "stream",
     "text": [
      "(154, 9)\n"
     ]
    }
   ],
   "source": [
    "test = pd.concat([X_test,y_test],axis=1)\n",
    "print(test.shape)"
   ]
  },
  {
   "cell_type": "code",
   "execution_count": 19,
   "metadata": {},
   "outputs": [
    {
     "data": {
      "text/html": [
       "<div>\n",
       "<style scoped>\n",
       "    .dataframe tbody tr th:only-of-type {\n",
       "        vertical-align: middle;\n",
       "    }\n",
       "\n",
       "    .dataframe tbody tr th {\n",
       "        vertical-align: top;\n",
       "    }\n",
       "\n",
       "    .dataframe thead th {\n",
       "        text-align: right;\n",
       "    }\n",
       "</style>\n",
       "<table border=\"1\" class=\"dataframe\">\n",
       "  <thead>\n",
       "    <tr style=\"text-align: right;\">\n",
       "      <th></th>\n",
       "      <th>Feature_Engineering_Technique</th>\n",
       "      <th>Start_Time</th>\n",
       "      <th>End_Time</th>\n",
       "      <th>Time_to_fit</th>\n",
       "    </tr>\n",
       "  </thead>\n",
       "  <tbody>\n",
       "  </tbody>\n",
       "</table>\n",
       "</div>"
      ],
      "text/plain": [
       "Empty DataFrame\n",
       "Columns: [Feature_Engineering_Technique, Start_Time, End_Time, Time_to_fit]\n",
       "Index: []"
      ]
     },
     "execution_count": 19,
     "metadata": {},
     "output_type": "execute_result"
    }
   ],
   "source": [
    "time_to_fit = pd.DataFrame(columns=['Feature_Engineering_Technique','Start_Time','End_Time','Time_to_fit'])\n",
    "time_to_fit.head()"
   ]
  },
  {
   "cell_type": "code",
   "execution_count": 20,
   "metadata": {
    "scrolled": true
   },
   "outputs": [
    {
     "name": "stdout",
     "output_type": "stream",
     "text": [
      "############################################################################################\n",
      "############       F A S T   F E A T U R E  E N G G    A N D    S E L E C T I O N ! ########\n",
      "# Be judicious with featurewiz. Don't use it to create too many un-interpretable features! #\n",
      "############################################################################################\n",
      "Skipping feature engineering since no feature_engg input...\n",
      "Skipping category encoding since no category encoders specified in input...\n",
      "Loading train data...\n",
      "    Shape of your Data Set loaded: (614, 9)\n",
      "    Caution: We will try to reduce the memory usage of dataframe from 0.05 MB\n",
      "    Memory usage after optimization is: 0.01 MB\n",
      "        decreased by 68.8%\n",
      "     Loaded. Shape = (614, 9)\n",
      "No test data filename given...\n",
      "############## C L A S S I F Y I N G  V A R I A B L E S  ####################\n",
      "Classifying variables in data set...\n",
      "    8 Predictors classified...\n",
      "        No variables removed since no ID or low-information variables found in data set\n",
      "No GPU active on this device\n",
      "    Tuning XGBoost using CPU hyper-parameters. This will take time...\n",
      "Removing 0 columns from further processing since ID or low information variables\n",
      "    columns removed: []\n",
      "    After removing redundant variables from further processing, features left = 8\n",
      "#### Single_Label Binary_Classification Feature Selection Started ####\n",
      "Searching for highly correlated variables from 8 variables using SULOV method\n",
      "#####  SULOV : Searching for Uncorrelated List Of Variables (takes time...) ############\n",
      "    No highly correlated variables in data set to remove. All selected...\n",
      "Time taken for SULOV method = 0 seconds\n",
      "    Adding 0 categorical variables to reduced numeric variables  of 8\n",
      "############## F E A T U R E   S E L E C T I O N  ####################\n",
      "    using regular XGBoost\n",
      "Train and Test loaded into Dask dataframes successfully after feature_engg completed\n",
      "Current number of predictors = 8 \n",
      "XGBoost version: 1.5.1\n",
      "Number of booster rounds = 100\n",
      "        using 8 variables...\n",
      "            Time taken for regular XGBoost feature selection = 0 seconds\n",
      "        using 6 variables...\n",
      "            Time taken for regular XGBoost feature selection = 0 seconds\n",
      "        using 4 variables...\n",
      "            Time taken for regular XGBoost feature selection = 0 seconds\n",
      "        using 2 variables...\n",
      "            Time taken for regular XGBoost feature selection = 0 seconds\n"
     ]
    },
    {
     "data": {
      "image/png": "[encoded data removed]",
      "text/plain": [
       "<Figure size 720x720 with 4 Axes>"
      ]
     },
     "metadata": {
      "needs_background": "light"
     },
     "output_type": "display_data"
    },
    {
     "name": "stdout",
     "output_type": "stream",
     "text": [
      "            Total time taken for XGBoost feature selection = 1 seconds\n",
      "    ID variables are always selected so that rows can be identified. But they are not important!\n",
      "Selected 8 important features:\n",
      "['Glucose', 'BMI', 'Age', 'Insulin', 'BloodPressure', 'DiabetesPedigreeFunction', 'SkinThickness', 'Pregnancies']\n",
      "    Time taken = 1 seconds\n",
      "Returning list of 8 important features and dataframe.\n",
      "    Time taken to create entire pipeline = 1 second(s)\n"
     ]
    },
    {
     "data": {
      "text/html": [
       "<div>\n",
       "<style scoped>\n",
       "    .dataframe tbody tr th:only-of-type {\n",
       "        vertical-align: middle;\n",
       "    }\n",
       "\n",
       "    .dataframe tbody tr th {\n",
       "        vertical-align: top;\n",
       "    }\n",
       "\n",
       "    .dataframe thead th {\n",
       "        text-align: right;\n",
       "    }\n",
       "</style>\n",
       "<table border=\"1\" class=\"dataframe\">\n",
       "  <thead>\n",
       "    <tr style=\"text-align: right;\">\n",
       "      <th></th>\n",
       "      <th>Feature_Engineering_Technique</th>\n",
       "      <th>Start_Time</th>\n",
       "      <th>End_Time</th>\n",
       "      <th>Time_to_fit</th>\n",
       "    </tr>\n",
       "  </thead>\n",
       "  <tbody>\n",
       "    <tr>\n",
       "      <th>0</th>\n",
       "      <td>FeatureWiz</td>\n",
       "      <td>1.643555e+09</td>\n",
       "      <td>1.643555e+09</td>\n",
       "      <td>0.770684</td>\n",
       "    </tr>\n",
       "  </tbody>\n",
       "</table>\n",
       "</div>"
      ],
      "text/plain": [
       "  Feature_Engineering_Technique    Start_Time      End_Time  Time_to_fit\n",
       "0                    FeatureWiz  1.643555e+09  1.643555e+09     0.770684"
      ]
     },
     "execution_count": 20,
     "metadata": {},
     "output_type": "execute_result"
    }
   ],
   "source": [
    "###################################################FeatureWiz#############################################################\n",
    "### Now run it through featurewiz - remember featurewiz does not look at test data only modifies for numeric\n",
    "start_featurewiz = time.time()\n",
    "\n",
    "features = FeatureWiz(corr_limit=0.70, verbose=2, sep=',', header=0, feature_engg='', category_encoders='',dask_xgboost_flag=False, nrows=None)\n",
    "X_train_selected = features.fit_transform(X_train,y_train)\n",
    "end_featurewiz = time.time()\n",
    "diff = end_featurewiz - start_featurewiz\n",
    "best_columns_featurewiz = features.features\n",
    "len(best_columns_featurewiz)\n",
    "time_to_fit = time_to_fit.append({'Feature_Engineering_Technique':'FeatureWiz','Start_Time':start_featurewiz,'End_Time':end_featurewiz,'Time_to_fit':diff} , ignore_index=True)\n",
    "time_to_fit.head()"
   ]
  },
  {
   "cell_type": "code",
   "execution_count": 21,
   "metadata": {},
   "outputs": [
    {
     "name": "stdout",
     "output_type": "stream",
     "text": [
      "[featsel] Scaling data...done.\n",
      "[featsel] Feature selection run 1/5\n",
      "[featsel] Feature selection run 2/5\n",
      "[featsel] Feature selection run 3/5\n",
      "[featsel] Feature selection run 4/5\n",
      "[featsel] Feature selection run 5/5\n",
      "[featsel] 6 features after 5 feature selection runs\n",
      "[featsel] 6 features after correlation filtering\n",
      "[featsel] 6 features after noise filtering\n"
     ]
    },
    {
     "data": {
      "text/html": [
       "<div>\n",
       "<style scoped>\n",
       "    .dataframe tbody tr th:only-of-type {\n",
       "        vertical-align: middle;\n",
       "    }\n",
       "\n",
       "    .dataframe tbody tr th {\n",
       "        vertical-align: top;\n",
       "    }\n",
       "\n",
       "    .dataframe thead th {\n",
       "        text-align: right;\n",
       "    }\n",
       "</style>\n",
       "<table border=\"1\" class=\"dataframe\">\n",
       "  <thead>\n",
       "    <tr style=\"text-align: right;\">\n",
       "      <th></th>\n",
       "      <th>Feature_Engineering_Technique</th>\n",
       "      <th>Start_Time</th>\n",
       "      <th>End_Time</th>\n",
       "      <th>Time_to_fit</th>\n",
       "    </tr>\n",
       "  </thead>\n",
       "  <tbody>\n",
       "    <tr>\n",
       "      <th>0</th>\n",
       "      <td>FeatureWiz</td>\n",
       "      <td>1.643555e+09</td>\n",
       "      <td>1.643555e+09</td>\n",
       "      <td>0.770684</td>\n",
       "    </tr>\n",
       "    <tr>\n",
       "      <th>1</th>\n",
       "      <td>Autofeat</td>\n",
       "      <td>1.643555e+09</td>\n",
       "      <td>1.643555e+09</td>\n",
       "      <td>0.591444</td>\n",
       "    </tr>\n",
       "  </tbody>\n",
       "</table>\n",
       "</div>"
      ],
      "text/plain": [
       "  Feature_Engineering_Technique    Start_Time      End_Time  Time_to_fit\n",
       "0                    FeatureWiz  1.643555e+09  1.643555e+09     0.770684\n",
       "1                      Autofeat  1.643555e+09  1.643555e+09     0.591444"
      ]
     },
     "execution_count": 21,
     "metadata": {},
     "output_type": "execute_result"
    }
   ],
   "source": [
    "#################Autofeat#########################\n",
    "\n",
    "start_autofeat = time.time()\n",
    "fsel = FeatureSelector(verbose=1)\n",
    "new_X = fsel.fit_transform(X_train, y_train)\n",
    "end_autofeat = time.time()\n",
    "diff = end_autofeat - start_autofeat\n",
    "best_columns_autofeat = list(new_X.columns)\n",
    "time_to_fit = time_to_fit.append({'Feature_Engineering_Technique':'Autofeat','Start_Time':start_autofeat,'End_Time':end_autofeat,'Time_to_fit':diff} , ignore_index=True)\n",
    "time_to_fit.head()"
   ]
  },
  {
   "cell_type": "code",
   "execution_count": 22,
   "metadata": {},
   "outputs": [
    {
     "name": "stdout",
     "output_type": "stream",
     "text": [
      "Number of original variables:  8\n",
      "Number of variables after selection:  8\n"
     ]
    },
    {
     "data": {
      "text/html": [
       "<div>\n",
       "<style scoped>\n",
       "    .dataframe tbody tr th:only-of-type {\n",
       "        vertical-align: middle;\n",
       "    }\n",
       "\n",
       "    .dataframe tbody tr th {\n",
       "        vertical-align: top;\n",
       "    }\n",
       "\n",
       "    .dataframe thead th {\n",
       "        text-align: right;\n",
       "    }\n",
       "</style>\n",
       "<table border=\"1\" class=\"dataframe\">\n",
       "  <thead>\n",
       "    <tr style=\"text-align: right;\">\n",
       "      <th></th>\n",
       "      <th>Feature_Engineering_Technique</th>\n",
       "      <th>Start_Time</th>\n",
       "      <th>End_Time</th>\n",
       "      <th>Time_to_fit</th>\n",
       "    </tr>\n",
       "  </thead>\n",
       "  <tbody>\n",
       "    <tr>\n",
       "      <th>0</th>\n",
       "      <td>FeatureWiz</td>\n",
       "      <td>1.643555e+09</td>\n",
       "      <td>1.643555e+09</td>\n",
       "      <td>0.770684</td>\n",
       "    </tr>\n",
       "    <tr>\n",
       "      <th>1</th>\n",
       "      <td>Autofeat</td>\n",
       "      <td>1.643555e+09</td>\n",
       "      <td>1.643555e+09</td>\n",
       "      <td>0.591444</td>\n",
       "    </tr>\n",
       "    <tr>\n",
       "      <th>2</th>\n",
       "      <td>FeatureEngine</td>\n",
       "      <td>1.643555e+09</td>\n",
       "      <td>1.643555e+09</td>\n",
       "      <td>0.008044</td>\n",
       "    </tr>\n",
       "  </tbody>\n",
       "</table>\n",
       "</div>"
      ],
      "text/plain": [
       "  Feature_Engineering_Technique    Start_Time      End_Time  Time_to_fit\n",
       "0                    FeatureWiz  1.643555e+09  1.643555e+09     0.770684\n",
       "1                      Autofeat  1.643555e+09  1.643555e+09     0.591444\n",
       "2                 FeatureEngine  1.643555e+09  1.643555e+09     0.008044"
      ]
     },
     "execution_count": 22,
     "metadata": {},
     "output_type": "execute_result"
    }
   ],
   "source": [
    "##############FeatureEngine############\n",
    "from sklearn.pipeline import Pipeline\n",
    "from feature_engine.selection import (\n",
    "    DropDuplicateFeatures,\n",
    "    DropConstantFeatures,\n",
    "    DropDuplicateFeatures,\n",
    "    DropCorrelatedFeatures,\n",
    "    SmartCorrelatedSelection,\n",
    "    SelectByShuffling,\n",
    "    SelectBySingleFeaturePerformance,\n",
    "    RecursiveFeatureElimination,\n",
    ")\n",
    "\n",
    "pipe = Pipeline([\n",
    "    ('constant', DropConstantFeatures(tol=0.998)), # drops constand and quasi-constant altogether\n",
    "    ('duplicated', DropDuplicateFeatures()), # drops duplicates\n",
    "    ('correlation', SmartCorrelatedSelection( # drops correlated\n",
    "        threshold=0.8,\n",
    "        selection_method=\"model_performance\",\n",
    "        estimator=RandomForestClassifier(n_estimators=10, random_state=1),\n",
    "    )),\n",
    "])\n",
    "\n",
    "# find features to remove\n",
    "\n",
    "start_fe = time.time()\n",
    "pipe.fit(X_train, y_train)\n",
    "end_fe = time.time()\n",
    "\n",
    "diff = end_fe - start_fe\n",
    "\n",
    "print('Number of original variables: ', X_train.shape[1])\n",
    "\n",
    "X_train_fe = pipe.transform(X_train)\n",
    "\n",
    "print('Number of variables after selection: ', X_train_fe.shape[1])\n",
    "\n",
    "best_columns_fe = list(X_train_fe.columns)\n",
    "time_to_fit = time_to_fit.append({'Feature_Engineering_Technique':'FeatureEngine','Start_Time':start_fe,'End_Time':end_fe,'Time_to_fit':diff} , ignore_index=True)\n",
    "time_to_fit.head()"
   ]
  },
  {
   "cell_type": "code",
   "execution_count": 23,
   "metadata": {},
   "outputs": [
    {
     "name": "stderr",
     "output_type": "stream",
     "text": [
      "[Parallel(n_jobs=-1)]: Using backend LokyBackend with 8 concurrent workers.\n",
      "[Parallel(n_jobs=-1)]: Done   3 out of   8 | elapsed:    5.0s remaining:    8.4s\n",
      "[Parallel(n_jobs=-1)]: Done   8 out of   8 | elapsed:    5.1s remaining:    0.0s\n",
      "[Parallel(n_jobs=-1)]: Done   8 out of   8 | elapsed:    5.1s finished\n",
      "[Parallel(n_jobs=-1)]: Using backend LokyBackend with 8 concurrent workers.\n",
      "[Parallel(n_jobs=-1)]: Done  16 out of  20 | elapsed:    0.0s remaining:    0.0s\n",
      "[Parallel(n_jobs=-1)]: Done  20 out of  20 | elapsed:    0.0s finished\n",
      "[Parallel(n_jobs=-1)]: Using backend LokyBackend with 8 concurrent workers.\n",
      "[Parallel(n_jobs=-1)]: Done  16 out of  20 | elapsed:    0.0s remaining:    0.0s\n",
      "[Parallel(n_jobs=-1)]: Done  20 out of  20 | elapsed:    0.0s finished\n",
      "[Parallel(n_jobs=-1)]: Using backend LokyBackend with 8 concurrent workers.\n",
      "[Parallel(n_jobs=-1)]: Done  16 out of  20 | elapsed:    0.0s remaining:    0.0s\n",
      "[Parallel(n_jobs=-1)]: Done  20 out of  20 | elapsed:    0.0s finished\n",
      "[Parallel(n_jobs=-1)]: Using backend LokyBackend with 8 concurrent workers.\n",
      "[Parallel(n_jobs=-1)]: Done  16 out of  20 | elapsed:    0.0s remaining:    0.0s\n",
      "[Parallel(n_jobs=-1)]: Done  20 out of  20 | elapsed:    0.0s finished\n",
      "[Parallel(n_jobs=-1)]: Using backend LokyBackend with 8 concurrent workers.\n",
      "[Parallel(n_jobs=-1)]: Done  16 out of  20 | elapsed:    0.0s remaining:    0.0s\n",
      "[Parallel(n_jobs=-1)]: Done  20 out of  20 | elapsed:    0.0s finished\n",
      "[Parallel(n_jobs=-1)]: Using backend LokyBackend with 8 concurrent workers.\n",
      "[Parallel(n_jobs=-1)]: Done  16 out of  20 | elapsed:    0.0s remaining:    0.0s\n",
      "[Parallel(n_jobs=-1)]: Done  20 out of  20 | elapsed:    0.0s finished\n",
      "[Parallel(n_jobs=-1)]: Using backend LokyBackend with 8 concurrent workers.\n",
      "[Parallel(n_jobs=-1)]: Done  16 out of  20 | elapsed:    0.0s remaining:    0.0s\n",
      "[Parallel(n_jobs=-1)]: Done  20 out of  20 | elapsed:    0.0s finished\n"
     ]
    },
    {
     "name": "stdout",
     "output_type": "stream",
     "text": [
      "Feature importance:  [13.862943611198906, 13.862943611198906, 11.917033462143593, 11.223886281583647, 10.918504632032466, 4.318419333119523]\n"
     ]
    },
    {
     "data": {
      "image/png": "[encoded data removed]",
      "text/plain": [
       "<Figure size 432x288 with 1 Axes>"
      ]
     },
     "metadata": {
      "needs_background": "light"
     },
     "output_type": "display_data"
    },
    {
     "data": {
      "text/html": [
       "<div>\n",
       "<style scoped>\n",
       "    .dataframe tbody tr th:only-of-type {\n",
       "        vertical-align: middle;\n",
       "    }\n",
       "\n",
       "    .dataframe tbody tr th {\n",
       "        vertical-align: top;\n",
       "    }\n",
       "\n",
       "    .dataframe thead th {\n",
       "        text-align: right;\n",
       "    }\n",
       "</style>\n",
       "<table border=\"1\" class=\"dataframe\">\n",
       "  <thead>\n",
       "    <tr style=\"text-align: right;\">\n",
       "      <th></th>\n",
       "      <th>Feature_Engineering_Technique</th>\n",
       "      <th>Start_Time</th>\n",
       "      <th>End_Time</th>\n",
       "      <th>Time_to_fit</th>\n",
       "    </tr>\n",
       "  </thead>\n",
       "  <tbody>\n",
       "    <tr>\n",
       "      <th>0</th>\n",
       "      <td>FeatureWiz</td>\n",
       "      <td>1.643555e+09</td>\n",
       "      <td>1.643555e+09</td>\n",
       "      <td>0.770684</td>\n",
       "    </tr>\n",
       "    <tr>\n",
       "      <th>1</th>\n",
       "      <td>Autofeat</td>\n",
       "      <td>1.643555e+09</td>\n",
       "      <td>1.643555e+09</td>\n",
       "      <td>0.591444</td>\n",
       "    </tr>\n",
       "    <tr>\n",
       "      <th>2</th>\n",
       "      <td>FeatureEngine</td>\n",
       "      <td>1.643555e+09</td>\n",
       "      <td>1.643555e+09</td>\n",
       "      <td>0.008044</td>\n",
       "    </tr>\n",
       "    <tr>\n",
       "      <th>3</th>\n",
       "      <td>PyImpetus</td>\n",
       "      <td>1.643555e+09</td>\n",
       "      <td>1.643555e+09</td>\n",
       "      <td>5.804262</td>\n",
       "    </tr>\n",
       "  </tbody>\n",
       "</table>\n",
       "</div>"
      ],
      "text/plain": [
       "  Feature_Engineering_Technique    Start_Time      End_Time  Time_to_fit\n",
       "0                    FeatureWiz  1.643555e+09  1.643555e+09     0.770684\n",
       "1                      Autofeat  1.643555e+09  1.643555e+09     0.591444\n",
       "2                 FeatureEngine  1.643555e+09  1.643555e+09     0.008044\n",
       "3                     PyImpetus  1.643555e+09  1.643555e+09     5.804262"
      ]
     },
     "execution_count": 23,
     "metadata": {},
     "output_type": "execute_result"
    }
   ],
   "source": [
    "####################################################PyImpetus#####################################################\n",
    "start_pyimpetus = time.time()\n",
    "model = PPIMBC(LogisticRegression(random_state=27, max_iter=1000, class_weight=\"balanced\"), cv=0, num_simul=20, simul_type=0, simul_size=0.2, sig_test_type=\"non-parametric\", random_state=27, verbose=2, p_val_thresh=0.05)\n",
    "# Fit this above object on the train part and transform the train dataset into selected feature subset\n",
    "# NOTE: x_train has to be a dataframe and y_train has to be a numpy array\n",
    "x_train = model.fit_transform(X_train, y_train.values)\n",
    "# Transform the test set as well\n",
    "# Check out the scores of each feature. The scores are in order of the selected feature list\n",
    "# NOTE: You can use these scores ina feature selection ensemble\n",
    "print(\"Feature importance: \", model.feat_imp_scores)\n",
    "# Plot the feature importance scores\n",
    "model.feature_importance()\n",
    "best_columns_pyimpetus = list(x_train.columns)\n",
    "end_pyimpetus = time.time()\n",
    "diff = end_pyimpetus - start_pyimpetus\n",
    "len(x_train.columns)\n",
    "# Convert the data into numpy arrays\n",
    "#x_train, x_test = x_train.values, x_test.values\n",
    "time_to_fit = time_to_fit.append({'Feature_Engineering_Technique':'PyImpetus','Start_Time':start_pyimpetus,'End_Time':end_pyimpetus,'Time_to_fit':diff} , ignore_index=True)\n",
    "time_to_fit.head()"
   ]
  },
  {
   "cell_type": "markdown",
   "metadata": {},
   "source": [
    "#######################################################Eli5##############################################################\n",
    "\n",
    "sel = SelectFromModel(\n",
    "    PermutationImportance(SVC(), cv=5),\n",
    "    threshold=0.05,\n",
    ").fit(X_train, y_train)\n",
    "x_train = sel.transform(X_train)\n",
    "best_columns_eli5 = x_train.columns\n",
    "\n",
    "TypeError: check_cv() takes from 0 to 2 positional arguments but 3 were given"
   ]
  },
  {
   "cell_type": "markdown",
   "metadata": {},
   "source": [
    "Time To Generate Features "
   ]
  },
  {
   "cell_type": "code",
   "execution_count": 24,
   "metadata": {},
   "outputs": [
    {
     "data": {
      "text/html": [
       "<div>\n",
       "<style scoped>\n",
       "    .dataframe tbody tr th:only-of-type {\n",
       "        vertical-align: middle;\n",
       "    }\n",
       "\n",
       "    .dataframe tbody tr th {\n",
       "        vertical-align: top;\n",
       "    }\n",
       "\n",
       "    .dataframe thead th {\n",
       "        text-align: right;\n",
       "    }\n",
       "</style>\n",
       "<table border=\"1\" class=\"dataframe\">\n",
       "  <thead>\n",
       "    <tr style=\"text-align: right;\">\n",
       "      <th></th>\n",
       "      <th>Feature_Engineering_Technique</th>\n",
       "      <th>Start_Time</th>\n",
       "      <th>End_Time</th>\n",
       "      <th>Time_to_fit</th>\n",
       "    </tr>\n",
       "  </thead>\n",
       "  <tbody>\n",
       "    <tr>\n",
       "      <th>0</th>\n",
       "      <td>FeatureWiz</td>\n",
       "      <td>1.643555e+09</td>\n",
       "      <td>1.643555e+09</td>\n",
       "      <td>0.770684</td>\n",
       "    </tr>\n",
       "    <tr>\n",
       "      <th>1</th>\n",
       "      <td>Autofeat</td>\n",
       "      <td>1.643555e+09</td>\n",
       "      <td>1.643555e+09</td>\n",
       "      <td>0.591444</td>\n",
       "    </tr>\n",
       "    <tr>\n",
       "      <th>2</th>\n",
       "      <td>FeatureEngine</td>\n",
       "      <td>1.643555e+09</td>\n",
       "      <td>1.643555e+09</td>\n",
       "      <td>0.008044</td>\n",
       "    </tr>\n",
       "    <tr>\n",
       "      <th>3</th>\n",
       "      <td>PyImpetus</td>\n",
       "      <td>1.643555e+09</td>\n",
       "      <td>1.643555e+09</td>\n",
       "      <td>5.804262</td>\n",
       "    </tr>\n",
       "  </tbody>\n",
       "</table>\n",
       "</div>"
      ],
      "text/plain": [
       "  Feature_Engineering_Technique    Start_Time      End_Time  Time_to_fit\n",
       "0                    FeatureWiz  1.643555e+09  1.643555e+09     0.770684\n",
       "1                      Autofeat  1.643555e+09  1.643555e+09     0.591444\n",
       "2                 FeatureEngine  1.643555e+09  1.643555e+09     0.008044\n",
       "3                     PyImpetus  1.643555e+09  1.643555e+09     5.804262"
      ]
     },
     "execution_count": 24,
     "metadata": {},
     "output_type": "execute_result"
    }
   ],
   "source": [
    "time_to_fit.head()"
   ]
  },
  {
   "cell_type": "code",
   "execution_count": 25,
   "metadata": {},
   "outputs": [
    {
     "name": "stdout",
     "output_type": "stream",
     "text": [
      "================= Best performance for generation 0 : 0.7857142857142857 =================\n",
      "================= Best performance for generation 1 : 0.7727272727272727 =================\n",
      "================= Best performance for generation 2 : 0.7922077922077922 =================\n",
      "================= Best performance for generation 3 : 0.7922077922077922 =================\n",
      "================= Best performance for generation 4 : 0.7922077922077922 =================\n",
      "================= Best performance for generation 5 : 0.7922077922077922 =================\n",
      "================= Best performance for generation 6 : 0.7922077922077922 =================\n",
      "================= Best performance for generation 7 : 0.7922077922077922 =================\n",
      "================= Best performance for generation 8 : 0.7922077922077922 =================\n",
      "================= Best performance for generation 9 : 0.7922077922077922 =================\n",
      "================= Best performance for generation 10 : 0.7922077922077922 =================\n",
      "================= Best performance for generation 11 : 0.7922077922077922 =================\n",
      "================= Best performance for generation 12 : 0.7922077922077922 =================\n",
      "================= Best performance for generation 13 : 0.7922077922077922 =================\n",
      "================= Best performance for generation 14 : 0.7922077922077922 =================\n",
      "================= Best performance for generation 15 : 0.7922077922077922 =================\n",
      "================= Best performance for generation 16 : 0.7922077922077922 =================\n",
      "================= Best performance for generation 17 : 0.7922077922077922 =================\n",
      "================= Best performance for generation 18 : 0.7922077922077922 =================\n",
      "================= Best performance for generation 19 : 0.7922077922077922 =================\n",
      "================= Best result: 0.7922077922077922 =================\n",
      "================= Execution time in minutes: 0.0 =================\n"
     ]
    },
    {
     "data": {
      "text/html": [
       "<div>\n",
       "<style scoped>\n",
       "    .dataframe tbody tr th:only-of-type {\n",
       "        vertical-align: middle;\n",
       "    }\n",
       "\n",
       "    .dataframe tbody tr th {\n",
       "        vertical-align: top;\n",
       "    }\n",
       "\n",
       "    .dataframe thead th {\n",
       "        text-align: right;\n",
       "    }\n",
       "</style>\n",
       "<table border=\"1\" class=\"dataframe\">\n",
       "  <thead>\n",
       "    <tr style=\"text-align: right;\">\n",
       "      <th></th>\n",
       "      <th>Feature_Engineering_Technique</th>\n",
       "      <th>Start_Time</th>\n",
       "      <th>End_Time</th>\n",
       "      <th>Time_to_fit</th>\n",
       "    </tr>\n",
       "  </thead>\n",
       "  <tbody>\n",
       "    <tr>\n",
       "      <th>0</th>\n",
       "      <td>FeatureWiz</td>\n",
       "      <td>1.643555e+09</td>\n",
       "      <td>1.643555e+09</td>\n",
       "      <td>0.770684</td>\n",
       "    </tr>\n",
       "    <tr>\n",
       "      <th>1</th>\n",
       "      <td>Autofeat</td>\n",
       "      <td>1.643555e+09</td>\n",
       "      <td>1.643555e+09</td>\n",
       "      <td>0.591444</td>\n",
       "    </tr>\n",
       "    <tr>\n",
       "      <th>2</th>\n",
       "      <td>FeatureEngine</td>\n",
       "      <td>1.643555e+09</td>\n",
       "      <td>1.643555e+09</td>\n",
       "      <td>0.008044</td>\n",
       "    </tr>\n",
       "    <tr>\n",
       "      <th>3</th>\n",
       "      <td>PyImpetus</td>\n",
       "      <td>1.643555e+09</td>\n",
       "      <td>1.643555e+09</td>\n",
       "      <td>5.804262</td>\n",
       "    </tr>\n",
       "    <tr>\n",
       "      <th>4</th>\n",
       "      <td>EvolutionaryFS</td>\n",
       "      <td>1.643555e+09</td>\n",
       "      <td>1.643555e+09</td>\n",
       "      <td>32.048839</td>\n",
       "    </tr>\n",
       "  </tbody>\n",
       "</table>\n",
       "</div>"
      ],
      "text/plain": [
       "  Feature_Engineering_Technique    Start_Time      End_Time  Time_to_fit\n",
       "0                    FeatureWiz  1.643555e+09  1.643555e+09     0.770684\n",
       "1                      Autofeat  1.643555e+09  1.643555e+09     0.591444\n",
       "2                 FeatureEngine  1.643555e+09  1.643555e+09     0.008044\n",
       "3                     PyImpetus  1.643555e+09  1.643555e+09     5.804262\n",
       "4                EvolutionaryFS  1.643555e+09  1.643555e+09    32.048839"
      ]
     },
     "execution_count": 25,
     "metadata": {},
     "output_type": "execute_result"
    }
   ],
   "source": [
    "#############################################EvolutionaryFS#############################################\n",
    "##get train and test data\n",
    "data_dict={0:{'x_train':X_train,'y_train':y_train,'x_test':X_test,'y_test':y_test}}\n",
    "columns_list=list(X.columns)\n",
    "\n",
    "start_evolutionaryfs = time.time()\n",
    "model_object=LogisticRegression(n_jobs=-1,random_state=1)\n",
    "evoObj=GeneticAlgorithmFS(model=model_object,data_dict=data_dict,cost_function=f1_score,average='micro',cost_function_improvement='increase',columns_list=columns_list,generations=20,population=30,prob_crossover=0.9,prob_mutation=0.1,run_time=60000)\n",
    "best_columns_EvolutionaryFS=evoObj.GetBestFeatures()\n",
    "end_evolutionaryfs = time.time()\n",
    "diff = end_evolutionaryfs - start_evolutionaryfs\n",
    "len(best_columns_EvolutionaryFS)\n",
    "time_to_fit = time_to_fit.append({'Feature_Engineering_Technique':'EvolutionaryFS','Start_Time':start_evolutionaryfs,'End_Time':end_evolutionaryfs,'Time_to_fit': diff} , ignore_index=True)\n",
    "time_to_fit.head()"
   ]
  },
  {
   "cell_type": "code",
   "execution_count": 26,
   "metadata": {},
   "outputs": [
    {
     "name": "stdout",
     "output_type": "stream",
     "text": [
      "\t\t Best value of metric across iteration \t Best value of metric across population  \n",
      "Iteration 0 \t 0.06522256179810776 \t\t\t\t\t 0.06522256179810776 \n",
      "Iteration 1 \t 0.0702745431782473 \t\t\t\t\t 0.06522256179810776 \n",
      "Iteration 2 \t 0.06183914293837399 \t\t\t\t\t 0.06183914293837399 \n",
      "Iteration 3 \t 0.060148340657244 \t\t\t\t\t 0.060148340657244 \n",
      "Iteration 4 \t 0.05635106264629723 \t\t\t\t\t 0.05635106264629723 \n",
      "Iteration 5 \t 0.05635106264629723 \t\t\t\t\t 0.05635106264629723 \n",
      "Iteration 6 \t 0.05635106264629723 \t\t\t\t\t 0.05635106264629723 \n",
      "Iteration 7 \t 0.05635106264629723 \t\t\t\t\t 0.05635106264629723 \n",
      "Iteration 8 \t 0.05635106264629723 \t\t\t\t\t 0.05635106264629723 \n",
      "Iteration 9 \t 0.05635106264629723 \t\t\t\t\t 0.05635106264629723 \n",
      "Iteration 10 \t 0.05635106264629723 \t\t\t\t\t 0.05635106264629723 \n",
      "Iteration 11 \t 0.05635106264629723 \t\t\t\t\t 0.05635106264629723 \n",
      "Iteration 12 \t 0.05635106264629723 \t\t\t\t\t 0.05635106264629723 \n",
      "Iteration 13 \t 0.05635106264629723 \t\t\t\t\t 0.05635106264629723 \n",
      "Iteration 14 \t 0.05635106264629723 \t\t\t\t\t 0.05635106264629723 \n",
      "Iteration 15 \t 0.05635106264629723 \t\t\t\t\t 0.05635106264629723 \n",
      "Iteration 16 \t 0.05635106264629723 \t\t\t\t\t 0.05635106264629723 \n",
      "Iteration 17 \t 0.05635106264629723 \t\t\t\t\t 0.05635106264629723 \n",
      "Iteration 18 \t 0.05635106264629723 \t\t\t\t\t 0.05635106264629723 \n",
      "Iteration 19 \t 0.05635106264629723 \t\t\t\t\t 0.05635106264629723 \n",
      "Iteration 20 \t 0.05635106264629723 \t\t\t\t\t 0.05635106264629723 \n",
      "Iteration 21 \t 0.05635106264629723 \t\t\t\t\t 0.05635106264629723 \n",
      "Iteration 22 \t 0.05635106264629723 \t\t\t\t\t 0.05635106264629723 \n",
      "Iteration 23 \t 0.05635106264629723 \t\t\t\t\t 0.05635106264629723 \n",
      "Iteration 24 \t 0.05635106264629723 \t\t\t\t\t 0.05635106264629723 \n"
     ]
    }
   ],
   "source": [
    "#########################################################Zoof##############################################\n",
    "# define your own objective function, make sure the function receives four parameters,\n",
    "#  fit your model and return the objective value ! \n",
    "def objective_function_topass(model,X_train, y_train, X_test, y_test):      \n",
    "    model.fit(X_train,y_train)  \n",
    "    P=log_loss(y_test,model.predict_proba(X_test))\n",
    "    return P\n",
    "    \n",
    "# create object of algorithm\n",
    "algo_object=ParticleSwarmOptimization(objective_function_topass,n_iteration=25,\n",
    "                                       population_size=20,minimize=True)\n",
    "import lightgbm as lgb\n",
    "lgb_model = lgb.LGBMClassifier()                                       \n",
    "# fit the algorithm\n",
    "start_zoof = time.time()\n",
    "\n",
    "best_columns_zoof = algo_object.fit(lgb_model,X_train, y_train, X_train, y_train,verbose=True)\n",
    "\n",
    "end_zoof = time.time()\n",
    "diff = end_evolutionaryfs - start_evolutionaryfs\n",
    "\n",
    "time_to_fit = time_to_fit.append({'Feature_Engineering_Technique':'Zoof','Start_Time':start_zoof,'End_Time':end_zoof,'Time_to_fit': diff} , ignore_index=True)"
   ]
  },
  {
   "cell_type": "code",
   "execution_count": 27,
   "metadata": {},
   "outputs": [
    {
     "name": "stdout",
     "output_type": "stream",
     "text": [
      "gen\tnevals\tfitness \tfitness_std\tfitness_max\tfitness_min\n",
      "0  \t30    \t0.506914\t0.0158702  \t0.551503   \t0.491913   \n",
      "1  \t60    \t0.525191\t0.0218653  \t0.579922   \t0.5        \n",
      "2  \t60    \t0.544353\t0.0171517  \t0.579922   \t0.510437   \n",
      "3  \t60    \t0.552591\t0.0140134  \t0.579922   \t0.536332   \n",
      "4  \t60    \t0.558439\t0.0121656  \t0.579922   \t0.537333   \n",
      "5  \t60    \t0.563889\t0.00975283 \t0.579922   \t0.551503   \n",
      "6  \t60    \t0.571698\t0.00778921 \t0.579922   \t0.558026   \n",
      "7  \t60    \t0.577923\t0.00509506 \t0.579922   \t0.564933   \n",
      "8  \t60    \t0.579922\t2.22045e-16\t0.579922   \t0.579922   \n",
      "9  \t60    \t0.579922\t2.22045e-16\t0.579922   \t0.579922   \n",
      "10 \t60    \t0.579922\t2.22045e-16\t0.579922   \t0.579922   \n",
      "11 \t60    \t0.579922\t2.22045e-16\t0.579922   \t0.579922   \n",
      "12 \t60    \t0.579922\t2.22045e-16\t0.579922   \t0.579922   \n",
      "13 \t60    \t0.579922\t2.22045e-16\t0.579922   \t0.579922   \n",
      "14 \t60    \t0.579922\t2.22045e-16\t0.579922   \t0.579922   \n",
      "15 \t60    \t0.579922\t2.22045e-16\t0.579922   \t0.579922   \n",
      "16 \t60    \t0.579922\t2.22045e-16\t0.579922   \t0.579922   \n",
      "17 \t60    \t0.579922\t2.22045e-16\t0.579922   \t0.579922   \n",
      "18 \t60    \t0.579922\t2.22045e-16\t0.579922   \t0.579922   \n",
      "19 \t60    \t0.579922\t2.22045e-16\t0.579922   \t0.579922   \n",
      "20 \t60    \t0.579922\t2.22045e-16\t0.579922   \t0.579922   \n"
     ]
    }
   ],
   "source": [
    "###############################Sklearn Genetic Opt##########################################################\n",
    "\n",
    "import matplotlib.pyplot as plt\n",
    "from sklearn_genetic import GAFeatureSelectionCV\n",
    "from sklearn.model_selection import train_test_split, StratifiedKFold\n",
    "from sklearn.svm import SVC\n",
    "from sklearn.datasets import load_iris\n",
    "from sklearn.metrics import accuracy_score\n",
    "import numpy as np\n",
    "\n",
    "clf = SVC(gamma='auto')\n",
    "\n",
    "evolved_estimator = GAFeatureSelectionCV(\n",
    "    estimator=clf,\n",
    "    scoring=\"balanced_accuracy\",\n",
    "    population_size=30,\n",
    "    generations=20,\n",
    "    n_jobs=-1)\n",
    "\n",
    "start_gopt = time.time()\n",
    "# Train and select the features\n",
    "evolved_estimator.fit(X_train, y_train)\n",
    "end_gopt = time.time()\n",
    "\n",
    "diff = end_gopt-start_gopt\n",
    "\n",
    "# Features selected by the algorithm\n",
    "best_columns_genetic_opt = list(evolved_estimator.best_features_)\n",
    "best_columns_genetic_opt = X_train.columns[best_columns_genetic_opt]\n",
    "\n",
    "time_to_fit = time_to_fit.append({'Feature_Engineering_Technique':'Genetic OPT','Start_Time':start_gopt,'End_Time':end_gopt,'Time_to_fit': diff} , ignore_index=True)"
   ]
  },
  {
   "cell_type": "code",
   "execution_count": 28,
   "metadata": {},
   "outputs": [
    {
     "name": "stdout",
     "output_type": "stream",
     "text": [
      "Iteration: \t1 / 100\n",
      "Confirmed: \t0\n",
      "Tentative: \t8\n",
      "Rejected: \t0\n",
      "Iteration: \t2 / 100\n",
      "Confirmed: \t0\n",
      "Tentative: \t8\n",
      "Rejected: \t0\n",
      "Iteration: \t3 / 100\n",
      "Confirmed: \t0\n",
      "Tentative: \t8\n",
      "Rejected: \t0\n",
      "Iteration: \t4 / 100\n",
      "Confirmed: \t0\n",
      "Tentative: \t8\n",
      "Rejected: \t0\n",
      "Iteration: \t5 / 100\n",
      "Confirmed: \t0\n",
      "Tentative: \t8\n",
      "Rejected: \t0\n",
      "Iteration: \t6 / 100\n",
      "Confirmed: \t0\n",
      "Tentative: \t8\n",
      "Rejected: \t0\n",
      "Iteration: \t7 / 100\n",
      "Confirmed: \t0\n",
      "Tentative: \t8\n",
      "Rejected: \t0\n",
      "Iteration: \t8 / 100\n",
      "Confirmed: \t6\n",
      "Tentative: \t2\n",
      "Rejected: \t0\n",
      "Iteration: \t9 / 100\n",
      "Confirmed: \t6\n",
      "Tentative: \t2\n",
      "Rejected: \t0\n",
      "Iteration: \t10 / 100\n",
      "Confirmed: \t6\n",
      "Tentative: \t2\n",
      "Rejected: \t0\n",
      "Iteration: \t11 / 100\n",
      "Confirmed: \t6\n",
      "Tentative: \t2\n",
      "Rejected: \t0\n",
      "Iteration: \t12 / 100\n",
      "Confirmed: \t6\n",
      "Tentative: \t0\n",
      "Rejected: \t2\n",
      "\n",
      "\n",
      "BorutaPy finished running.\n",
      "\n",
      "Iteration: \t13 / 100\n",
      "Confirmed: \t6\n",
      "Tentative: \t0\n",
      "Rejected: \t2\n"
     ]
    }
   ],
   "source": [
    "##################BorutaPy###################\n",
    "from boruta import BorutaPy\n",
    "\n",
    "# define random forest classifier, with utilising all cores and\n",
    "# sampling in proportion to y labels\n",
    "rf = RandomForestClassifier(n_jobs=-1, class_weight='balanced', max_depth=5)\n",
    "\n",
    "# define Boruta feature selection method\n",
    "feat_selector = BorutaPy(rf, n_estimators='auto', verbose=2, random_state=1)\n",
    "\n",
    "start_bpy = time.time()\n",
    "feat_selector.fit(X_train.values, y_train)\n",
    "end_bpy = time.time()\n",
    "\n",
    "diff = end_bpy-start_bpy\n",
    "\n",
    "# check selected features - first 5 features are selected\n",
    "feat_selector.support_\n",
    "\n",
    "# check ranking of features\n",
    "feat_selector.ranking_\n",
    "\n",
    "best_columns_borutapy = list(X_train.loc[:,feat_selector.support_].columns)\n",
    "\n",
    "time_to_fit = time_to_fit.append({'Feature_Engineering_Technique':'BorutaPy','Start_Time':start_bpy,'End_Time':end_bpy,'Time_to_fit': diff} , ignore_index=True)"
   ]
  },
  {
   "cell_type": "code",
   "execution_count": 29,
   "metadata": {},
   "outputs": [
    {
     "data": {
      "application/vnd.jupyter.widget-view+json": {
       "model_id": "e7384fe682e845b098239916b21e395a",
       "version_major": 2,
       "version_minor": 0
      },
      "text/plain": [
       "  0%|          | 0/100 [00:00<?, ?it/s]"
      ]
     },
     "metadata": {},
     "output_type": "display_data"
    },
    {
     "name": "stdout",
     "output_type": "stream",
     "text": [
      "4 attributes confirmed important: ['Age', 'BMI', 'DiabetesPedigreeFunction', 'Glucose']\n",
      "4 attributes confirmed unimportant: ['Insulin', 'SkinThickness', 'Pregnancies', 'BloodPressure']\n",
      "0 tentative attributes remains: []\n"
     ]
    }
   ],
   "source": [
    "#################BorutaShap##################\n",
    "\n",
    "from BorutaShap import BorutaShap\n",
    "\n",
    "# define random forest classifier, with utilising all cores and\n",
    "# sampling in proportion to y labels\n",
    "Feature_Selector = BorutaShap(importance_measure='shap',\n",
    "                              classification=False)\n",
    "\n",
    "start_bshap = time.time()\n",
    "Feature_Selector.fit(X=X_train, y=y_train, n_trials=100, sample=False,train_or_test = 'test', normalize=True,verbose=True)\n",
    "end_bshap = time.time()\n",
    "\n",
    "diff = end_bshap-start_bshap\n",
    "\n",
    "# check selected features - first 5 features are selected\n",
    "subset = Feature_Selector.Subset()\n",
    "\n",
    "best_columns_borutashap = list(subset.columns)\n",
    "\n",
    "time_to_fit = time_to_fit.append({'Feature_Engineering_Technique':'BorutaShap','Start_Time':start_bshap,'End_Time':end_bshap,'Time_to_fit': diff} , ignore_index=True)"
   ]
  },
  {
   "cell_type": "code",
   "execution_count": 30,
   "metadata": {},
   "outputs": [],
   "source": [
    "#Create a dictionary of lists with feature engineering technique\n",
    "fs = {\"FeatureWiz\":best_columns_featurewiz,\"Autofeat\":best_columns_autofeat,\"FeatureEngine\":best_columns_fe,\"PyImpetus\":best_columns_pyimpetus,\"EvolutionaryFS\":best_columns_EvolutionaryFS,\"Zoof\":best_columns_zoof, \"Genetic OPT\":best_columns_genetic_opt, \"BorutaPy\":best_columns_borutapy, \"BorutaShap\":best_columns_borutashap}\n",
    "#fs"
   ]
  },
  {
   "cell_type": "markdown",
   "metadata": {},
   "source": [
    "# Here is an even simpler way to do multi fold cross validation\n",
    "## First set a baseline performance by including all features in model\n",
    "## Then compare that model to feature selection by EvolutionaryFS"
   ]
  },
  {
   "cell_type": "markdown",
   "metadata": {},
   "source": [
    "## The baseline model with all features yields a balanced accuracy score of 91.88%"
   ]
  },
  {
   "cell_type": "code",
   "execution_count": 31,
   "metadata": {},
   "outputs": [],
   "source": [
    "## You must set the randomstate for cross validation. Otherwise, scores will be totally random each time.\n",
    "from sklearn.model_selection import StratifiedKFold, KFold\n",
    "cv = StratifiedKFold(n_splits=5,shuffle=True, random_state=99)\n",
    "#cv = KFold(n_splits=5,shuffle=False, random_state=99) ## Use this for Regression"
   ]
  },
  {
   "cell_type": "markdown",
   "metadata": {},
   "source": [
    "# We have to do the same transforms for X and y "
   ]
  },
  {
   "cell_type": "code",
   "execution_count": 32,
   "metadata": {},
   "outputs": [
    {
     "data": {
      "text/html": [
       "<div>\n",
       "<style scoped>\n",
       "    .dataframe tbody tr th:only-of-type {\n",
       "        vertical-align: middle;\n",
       "    }\n",
       "\n",
       "    .dataframe tbody tr th {\n",
       "        vertical-align: top;\n",
       "    }\n",
       "\n",
       "    .dataframe thead th {\n",
       "        text-align: right;\n",
       "    }\n",
       "</style>\n",
       "<table border=\"1\" class=\"dataframe\">\n",
       "  <thead>\n",
       "    <tr style=\"text-align: right;\">\n",
       "      <th></th>\n",
       "      <th>Pregnancies</th>\n",
       "      <th>Glucose</th>\n",
       "      <th>BloodPressure</th>\n",
       "      <th>SkinThickness</th>\n",
       "      <th>Insulin</th>\n",
       "      <th>BMI</th>\n",
       "      <th>DiabetesPedigreeFunction</th>\n",
       "      <th>Age</th>\n",
       "    </tr>\n",
       "  </thead>\n",
       "  <tbody>\n",
       "    <tr>\n",
       "      <th>0</th>\n",
       "      <td>6</td>\n",
       "      <td>148</td>\n",
       "      <td>72</td>\n",
       "      <td>35</td>\n",
       "      <td>0</td>\n",
       "      <td>33.6</td>\n",
       "      <td>0.627</td>\n",
       "      <td>50</td>\n",
       "    </tr>\n",
       "    <tr>\n",
       "      <th>1</th>\n",
       "      <td>1</td>\n",
       "      <td>85</td>\n",
       "      <td>66</td>\n",
       "      <td>29</td>\n",
       "      <td>0</td>\n",
       "      <td>26.6</td>\n",
       "      <td>0.351</td>\n",
       "      <td>31</td>\n",
       "    </tr>\n",
       "    <tr>\n",
       "      <th>2</th>\n",
       "      <td>8</td>\n",
       "      <td>183</td>\n",
       "      <td>64</td>\n",
       "      <td>0</td>\n",
       "      <td>0</td>\n",
       "      <td>23.3</td>\n",
       "      <td>0.672</td>\n",
       "      <td>32</td>\n",
       "    </tr>\n",
       "    <tr>\n",
       "      <th>3</th>\n",
       "      <td>1</td>\n",
       "      <td>89</td>\n",
       "      <td>66</td>\n",
       "      <td>23</td>\n",
       "      <td>94</td>\n",
       "      <td>28.1</td>\n",
       "      <td>0.167</td>\n",
       "      <td>21</td>\n",
       "    </tr>\n",
       "    <tr>\n",
       "      <th>4</th>\n",
       "      <td>0</td>\n",
       "      <td>137</td>\n",
       "      <td>40</td>\n",
       "      <td>35</td>\n",
       "      <td>168</td>\n",
       "      <td>43.1</td>\n",
       "      <td>2.288</td>\n",
       "      <td>33</td>\n",
       "    </tr>\n",
       "  </tbody>\n",
       "</table>\n",
       "</div>"
      ],
      "text/plain": [
       "   Pregnancies  Glucose  BloodPressure  SkinThickness  Insulin   BMI  \\\n",
       "0            6      148             72             35        0  33.6   \n",
       "1            1       85             66             29        0  26.6   \n",
       "2            8      183             64              0        0  23.3   \n",
       "3            1       89             66             23       94  28.1   \n",
       "4            0      137             40             35      168  43.1   \n",
       "\n",
       "   DiabetesPedigreeFunction  Age  \n",
       "0                     0.627   50  \n",
       "1                     0.351   31  \n",
       "2                     0.672   32  \n",
       "3                     0.167   21  \n",
       "4                     2.288   33  "
      ]
     },
     "execution_count": 32,
     "metadata": {},
     "output_type": "execute_result"
    }
   ],
   "source": [
    "#Category+Object Transforms -> You must always fit_transform train while only doing transform for test\n",
    "if len(cat_columns+obj_columns):\n",
    "    for each_cat in cat_columns+obj_columns:\n",
    "        LB = LabelEncoder()\n",
    "        X[each_cat] = LB.fit_transform(X[each_cat])\n",
    "        print(each_cat+' completed X transform')\n",
    "X.head()"
   ]
  },
  {
   "cell_type": "code",
   "execution_count": 33,
   "metadata": {},
   "outputs": [
    {
     "name": "stdout",
     "output_type": "stream",
     "text": [
      "completed Min Max Scaling for X\n"
     ]
    }
   ],
   "source": [
    "#MinMax Scale Features -> You must always fit_transform train while only doing transform for test\n",
    "for each_col in cols:\n",
    "    scaler = MinMaxScaler(feature_range = (1,100))\n",
    "    X[each_col] = scaler.fit_transform(X[each_col].values.reshape(-1,1))\n",
    "print('completed Min Max Scaling for X')"
   ]
  },
  {
   "cell_type": "markdown",
   "metadata": {},
   "source": [
    "# Using all features in dataset, this is the baseline score"
   ]
  },
  {
   "cell_type": "code",
   "execution_count": 34,
   "metadata": {},
   "outputs": [
    {
     "name": "stdout",
     "output_type": "stream",
     "text": [
      "[0.73833333 0.74703704 0.70574074 0.67471698 0.73518868]\n",
      "Mean Score for all features = 0.720203354297694\n"
     ]
    }
   ],
   "source": [
    "model1 = RandomForestClassifier(n_estimators=300, random_state=99)\n",
    "from sklearn.model_selection import cross_val_score\n",
    "scores = cross_val_score(estimator=model1, X=X, y=y, scoring='balanced_accuracy', cv=cv)\n",
    "print(scores)\n",
    "print('Mean Score for all features = %s' %scores.mean())"
   ]
  },
  {
   "cell_type": "markdown",
   "metadata": {},
   "source": [
    "##  Here we run Cross Validation and get accuracy metrics for each technique"
   ]
  },
  {
   "cell_type": "code",
   "execution_count": 35,
   "metadata": {},
   "outputs": [
    {
     "name": "stdout",
     "output_type": "stream",
     "text": [
      "[0.70406977 0.7693314  0.72107558 0.79796512 0.72321429]\n",
      "Mean Score for FeatureWiz = 0.7431312292358804\n",
      "[0.7380814  0.76395349 0.7443314  0.78546512 0.69375   ]\n",
      "Mean Score for Autofeat = 0.7451162790697674\n",
      "[0.70406977 0.7755814  0.71482558 0.7747093  0.68690476]\n",
      "Mean Score for FeatureEngine = 0.7312181616832779\n",
      "[0.67369186 0.78633721 0.67456395 0.74520349 0.70565476]\n",
      "Mean Score for PyImpetus = 0.7170902547065338\n",
      "[0.70319767 0.75770349 0.72107558 0.7568314  0.69375   ]\n",
      "Mean Score for EvolutionaryFS = 0.7265116279069768\n",
      "[0.70406977 0.7755814  0.71482558 0.7747093  0.68690476]\n",
      "Mean Score for Zoof = 0.7312181616832779\n",
      "[0.62892442 0.65043605 0.65218023 0.70770349 0.66994048]\n",
      "Mean Score for Genetic OPT = 0.6618369324473976\n",
      "[0.72732558 0.76395349 0.76758721 0.7568314  0.69315476]\n",
      "Mean Score for BorutaPy = 0.7417704872646734\n",
      "[0.70319767 0.72732558 0.72732558 0.75770349 0.68125   ]\n",
      "Mean Score for BorutaShap = 0.719360465116279\n"
     ]
    },
    {
     "data": {
      "text/html": [
       "<div>\n",
       "<style scoped>\n",
       "    .dataframe tbody tr th:only-of-type {\n",
       "        vertical-align: middle;\n",
       "    }\n",
       "\n",
       "    .dataframe tbody tr th {\n",
       "        vertical-align: top;\n",
       "    }\n",
       "\n",
       "    .dataframe thead th {\n",
       "        text-align: right;\n",
       "    }\n",
       "</style>\n",
       "<table border=\"1\" class=\"dataframe\">\n",
       "  <thead>\n",
       "    <tr style=\"text-align: right;\">\n",
       "      <th></th>\n",
       "      <th>Feature_Engineering_Technique</th>\n",
       "      <th>Start_Time</th>\n",
       "      <th>End_Time</th>\n",
       "      <th>Time_to_fit</th>\n",
       "      <th>Mean_CV_Accuracy</th>\n",
       "    </tr>\n",
       "  </thead>\n",
       "  <tbody>\n",
       "    <tr>\n",
       "      <th>0</th>\n",
       "      <td>FeatureWiz</td>\n",
       "      <td>1.643555e+09</td>\n",
       "      <td>1.643555e+09</td>\n",
       "      <td>0.770684</td>\n",
       "      <td>0.743131</td>\n",
       "    </tr>\n",
       "    <tr>\n",
       "      <th>1</th>\n",
       "      <td>Autofeat</td>\n",
       "      <td>1.643555e+09</td>\n",
       "      <td>1.643555e+09</td>\n",
       "      <td>0.591444</td>\n",
       "      <td>0.745116</td>\n",
       "    </tr>\n",
       "    <tr>\n",
       "      <th>2</th>\n",
       "      <td>FeatureEngine</td>\n",
       "      <td>1.643555e+09</td>\n",
       "      <td>1.643555e+09</td>\n",
       "      <td>0.008044</td>\n",
       "      <td>0.731218</td>\n",
       "    </tr>\n",
       "    <tr>\n",
       "      <th>3</th>\n",
       "      <td>PyImpetus</td>\n",
       "      <td>1.643555e+09</td>\n",
       "      <td>1.643555e+09</td>\n",
       "      <td>5.804262</td>\n",
       "      <td>0.717090</td>\n",
       "    </tr>\n",
       "    <tr>\n",
       "      <th>4</th>\n",
       "      <td>EvolutionaryFS</td>\n",
       "      <td>1.643555e+09</td>\n",
       "      <td>1.643555e+09</td>\n",
       "      <td>32.048839</td>\n",
       "      <td>0.726512</td>\n",
       "    </tr>\n",
       "  </tbody>\n",
       "</table>\n",
       "</div>"
      ],
      "text/plain": [
       "  Feature_Engineering_Technique    Start_Time      End_Time  Time_to_fit  \\\n",
       "0                    FeatureWiz  1.643555e+09  1.643555e+09     0.770684   \n",
       "1                      Autofeat  1.643555e+09  1.643555e+09     0.591444   \n",
       "2                 FeatureEngine  1.643555e+09  1.643555e+09     0.008044   \n",
       "3                     PyImpetus  1.643555e+09  1.643555e+09     5.804262   \n",
       "4                EvolutionaryFS  1.643555e+09  1.643555e+09    32.048839   \n",
       "\n",
       "   Mean_CV_Accuracy  \n",
       "0          0.743131  \n",
       "1          0.745116  \n",
       "2          0.731218  \n",
       "3          0.717090  \n",
       "4          0.726512  "
      ]
     },
     "execution_count": 35,
     "metadata": {},
     "output_type": "execute_result"
    }
   ],
   "source": [
    "performance = pd.DataFrame(columns=['Start_Time','End_Time','Run_Time','Accuracy_Score','Model','Feature_Engineering_Technique'])\n",
    "cv = StratifiedKFold(n_splits=5,shuffle=True, random_state=99)\n",
    "for key,value in fs.items():\n",
    "    start = time.time()\n",
    "    model2 = RandomForestClassifier(n_estimators=300, random_state=99)\n",
    "    from sklearn.model_selection import cross_val_score\n",
    "    scores = cross_val_score(estimator=model2, X=X_train[value], y=y_train, scoring='balanced_accuracy', cv=cv, n_jobs=-1)\n",
    "    end = time.time()\n",
    "    diff = (end-start)\n",
    "    print(scores)\n",
    "    print('Mean Score for %s = %s' %(key, scores.mean()))\n",
    "    performance = performance.append({'Start_Time':start,'End_Time':end,'Run_Time':diff,'Accuracy_Score':scores.mean(),'Model':'RandomForest','Feature_Engineering_Technique':key} , ignore_index=True)\n",
    "    time_to_fit.loc[(time_to_fit['Feature_Engineering_Technique']==key), 'Mean_CV_Accuracy'] = scores.mean()\n",
    "time_to_fit.head()"
   ]
  },
  {
   "cell_type": "markdown",
   "metadata": {},
   "source": [
    "## You must finally train a model on X_train and test it on X_test using selected features"
   ]
  },
  {
   "cell_type": "code",
   "execution_count": 36,
   "metadata": {},
   "outputs": [
    {
     "name": "stdout",
     "output_type": "stream",
     "text": [
      "              precision    recall  f1-score   support\n",
      "\n",
      "           0       0.77      0.87      0.82       100\n",
      "           1       0.68      0.52      0.59        54\n",
      "\n",
      "    accuracy                           0.75       154\n",
      "   macro avg       0.73      0.69      0.70       154\n",
      "weighted avg       0.74      0.75      0.74       154\n",
      "\n",
      "              precision    recall  f1-score   support\n",
      "\n",
      "           0       0.77      0.83      0.80       100\n",
      "           1       0.63      0.54      0.58        54\n",
      "\n",
      "    accuracy                           0.73       154\n",
      "   macro avg       0.70      0.68      0.69       154\n",
      "weighted avg       0.72      0.73      0.72       154\n",
      "\n",
      "              precision    recall  f1-score   support\n",
      "\n",
      "           0       0.78      0.87      0.82       100\n",
      "           1       0.69      0.54      0.60        54\n",
      "\n",
      "    accuracy                           0.75       154\n",
      "   macro avg       0.73      0.70      0.71       154\n",
      "weighted avg       0.75      0.75      0.74       154\n",
      "\n",
      "              precision    recall  f1-score   support\n",
      "\n",
      "           0       0.76      0.87      0.81       100\n",
      "           1       0.67      0.48      0.56        54\n",
      "\n",
      "    accuracy                           0.73       154\n",
      "   macro avg       0.71      0.68      0.68       154\n",
      "weighted avg       0.73      0.73      0.72       154\n",
      "\n",
      "              precision    recall  f1-score   support\n",
      "\n",
      "           0       0.77      0.85      0.81       100\n",
      "           1       0.66      0.54      0.59        54\n",
      "\n",
      "    accuracy                           0.74       154\n",
      "   macro avg       0.72      0.69      0.70       154\n",
      "weighted avg       0.73      0.74      0.73       154\n",
      "\n",
      "              precision    recall  f1-score   support\n",
      "\n",
      "           0       0.78      0.87      0.82       100\n",
      "           1       0.69      0.54      0.60        54\n",
      "\n",
      "    accuracy                           0.75       154\n",
      "   macro avg       0.73      0.70      0.71       154\n",
      "weighted avg       0.75      0.75      0.74       154\n",
      "\n",
      "              precision    recall  f1-score   support\n",
      "\n",
      "           0       0.74      0.75      0.74       100\n",
      "           1       0.52      0.50      0.51        54\n",
      "\n",
      "    accuracy                           0.66       154\n",
      "   macro avg       0.63      0.62      0.63       154\n",
      "weighted avg       0.66      0.66      0.66       154\n",
      "\n",
      "              precision    recall  f1-score   support\n",
      "\n",
      "           0       0.78      0.90      0.83       100\n",
      "           1       0.74      0.52      0.61        54\n",
      "\n",
      "    accuracy                           0.77       154\n",
      "   macro avg       0.76      0.71      0.72       154\n",
      "weighted avg       0.76      0.77      0.75       154\n",
      "\n",
      "              precision    recall  f1-score   support\n",
      "\n",
      "           0       0.76      0.84      0.80       100\n",
      "           1       0.64      0.52      0.57        54\n",
      "\n",
      "    accuracy                           0.73       154\n",
      "   macro avg       0.70      0.68      0.69       154\n",
      "weighted avg       0.72      0.73      0.72       154\n",
      "\n"
     ]
    }
   ],
   "source": [
    "#Using Lime to interpret the results of model\n",
    "#from lime import lime_text\n",
    "from sklearn.pipeline import make_pipeline\n",
    "from sklearn.metrics import balanced_accuracy_score, mean_squared_error\n",
    "#import lime.lime_tabular\n",
    "\n",
    "for key,value in fs.items():\n",
    "    model3 = RandomForestClassifier(n_estimators=300, random_state=99)\n",
    "    from sklearn.metrics import classification_report\n",
    "    model3.fit(X_train[value], y_train)\n",
    "    print(classification_report(y_test, model3.predict(X_test[value])))\n",
    "    score_val = balanced_accuracy_score(y_test, model3.predict(X_test[value]))\n",
    "    time_to_fit.loc[(time_to_fit['Feature_Engineering_Technique']==key), 'Mean_Test_Accuracy'] = score_val\n",
    "    #print(\"Lime Feature Importance : \"+key)\n",
    "    #explainer = lime.lime_tabular.LimeTabularExplainer(X_train[value].values, feature_names=X_train[value].columns, class_names=[0, 1], mode='classification')\n",
    "    #exp = explainer.explain_instance(X_test[value].values[1], model3.predict_proba, num_features=len(X_train[value].columns))\n",
    "    #exp.show_in_notebook(show_table=True, show_all=False)"
   ]
  },
  {
   "cell_type": "code",
   "execution_count": 37,
   "metadata": {},
   "outputs": [],
   "source": [
    "time_to_fit['Dataset'] = \"Diabetes\"\n",
    "time_to_fit['Type'] = \"Binary Classification\"\n",
    "time_to_fit['Metric'] = \"balanced accuracy\""
   ]
  },
  {
   "cell_type": "code",
   "execution_count": 38,
   "metadata": {},
   "outputs": [
    {
     "data": {
      "text/html": [
       "<div>\n",
       "<style scoped>\n",
       "    .dataframe tbody tr th:only-of-type {\n",
       "        vertical-align: middle;\n",
       "    }\n",
       "\n",
       "    .dataframe tbody tr th {\n",
       "        vertical-align: top;\n",
       "    }\n",
       "\n",
       "    .dataframe thead th {\n",
       "        text-align: right;\n",
       "    }\n",
       "</style>\n",
       "<table border=\"1\" class=\"dataframe\">\n",
       "  <thead>\n",
       "    <tr style=\"text-align: right;\">\n",
       "      <th></th>\n",
       "      <th>Feature_Engineering_Technique</th>\n",
       "      <th>Start_Time</th>\n",
       "      <th>End_Time</th>\n",
       "      <th>Time_to_fit</th>\n",
       "      <th>Mean_CV_Accuracy</th>\n",
       "      <th>Mean_Test_Accuracy</th>\n",
       "      <th>Dataset</th>\n",
       "      <th>Type</th>\n",
       "      <th>Metric</th>\n",
       "    </tr>\n",
       "  </thead>\n",
       "  <tbody>\n",
       "    <tr>\n",
       "      <th>0</th>\n",
       "      <td>FeatureWiz</td>\n",
       "      <td>1.643555e+09</td>\n",
       "      <td>1.643555e+09</td>\n",
       "      <td>0.770684</td>\n",
       "      <td>0.743131</td>\n",
       "      <td>0.694259</td>\n",
       "      <td>Diabetes</td>\n",
       "      <td>Binary Classification</td>\n",
       "      <td>balanced accuracy</td>\n",
       "    </tr>\n",
       "    <tr>\n",
       "      <th>1</th>\n",
       "      <td>Autofeat</td>\n",
       "      <td>1.643555e+09</td>\n",
       "      <td>1.643555e+09</td>\n",
       "      <td>0.591444</td>\n",
       "      <td>0.745116</td>\n",
       "      <td>0.683519</td>\n",
       "      <td>Diabetes</td>\n",
       "      <td>Binary Classification</td>\n",
       "      <td>balanced accuracy</td>\n",
       "    </tr>\n",
       "    <tr>\n",
       "      <th>2</th>\n",
       "      <td>FeatureEngine</td>\n",
       "      <td>1.643555e+09</td>\n",
       "      <td>1.643555e+09</td>\n",
       "      <td>0.008044</td>\n",
       "      <td>0.731218</td>\n",
       "      <td>0.703519</td>\n",
       "      <td>Diabetes</td>\n",
       "      <td>Binary Classification</td>\n",
       "      <td>balanced accuracy</td>\n",
       "    </tr>\n",
       "    <tr>\n",
       "      <th>3</th>\n",
       "      <td>PyImpetus</td>\n",
       "      <td>1.643555e+09</td>\n",
       "      <td>1.643555e+09</td>\n",
       "      <td>5.804262</td>\n",
       "      <td>0.717090</td>\n",
       "      <td>0.675741</td>\n",
       "      <td>Diabetes</td>\n",
       "      <td>Binary Classification</td>\n",
       "      <td>balanced accuracy</td>\n",
       "    </tr>\n",
       "    <tr>\n",
       "      <th>4</th>\n",
       "      <td>EvolutionaryFS</td>\n",
       "      <td>1.643555e+09</td>\n",
       "      <td>1.643555e+09</td>\n",
       "      <td>32.048839</td>\n",
       "      <td>0.726512</td>\n",
       "      <td>0.693519</td>\n",
       "      <td>Diabetes</td>\n",
       "      <td>Binary Classification</td>\n",
       "      <td>balanced accuracy</td>\n",
       "    </tr>\n",
       "    <tr>\n",
       "      <th>5</th>\n",
       "      <td>Zoof</td>\n",
       "      <td>1.643555e+09</td>\n",
       "      <td>1.643555e+09</td>\n",
       "      <td>32.048839</td>\n",
       "      <td>0.731218</td>\n",
       "      <td>0.703519</td>\n",
       "      <td>Diabetes</td>\n",
       "      <td>Binary Classification</td>\n",
       "      <td>balanced accuracy</td>\n",
       "    </tr>\n",
       "    <tr>\n",
       "      <th>6</th>\n",
       "      <td>Genetic OPT</td>\n",
       "      <td>1.643555e+09</td>\n",
       "      <td>1.643555e+09</td>\n",
       "      <td>50.406841</td>\n",
       "      <td>0.661837</td>\n",
       "      <td>0.625000</td>\n",
       "      <td>Diabetes</td>\n",
       "      <td>Binary Classification</td>\n",
       "      <td>balanced accuracy</td>\n",
       "    </tr>\n",
       "    <tr>\n",
       "      <th>7</th>\n",
       "      <td>BorutaPy</td>\n",
       "      <td>1.643555e+09</td>\n",
       "      <td>1.643555e+09</td>\n",
       "      <td>3.089959</td>\n",
       "      <td>0.741770</td>\n",
       "      <td>0.709259</td>\n",
       "      <td>Diabetes</td>\n",
       "      <td>Binary Classification</td>\n",
       "      <td>balanced accuracy</td>\n",
       "    </tr>\n",
       "    <tr>\n",
       "      <th>8</th>\n",
       "      <td>BorutaShap</td>\n",
       "      <td>1.643555e+09</td>\n",
       "      <td>1.643556e+09</td>\n",
       "      <td>72.470936</td>\n",
       "      <td>0.719360</td>\n",
       "      <td>0.679259</td>\n",
       "      <td>Diabetes</td>\n",
       "      <td>Binary Classification</td>\n",
       "      <td>balanced accuracy</td>\n",
       "    </tr>\n",
       "  </tbody>\n",
       "</table>\n",
       "</div>"
      ],
      "text/plain": [
       "  Feature_Engineering_Technique    Start_Time      End_Time  Time_to_fit  \\\n",
       "0                    FeatureWiz  1.643555e+09  1.643555e+09     0.770684   \n",
       "1                      Autofeat  1.643555e+09  1.643555e+09     0.591444   \n",
       "2                 FeatureEngine  1.643555e+09  1.643555e+09     0.008044   \n",
       "3                     PyImpetus  1.643555e+09  1.643555e+09     5.804262   \n",
       "4                EvolutionaryFS  1.643555e+09  1.643555e+09    32.048839   \n",
       "5                          Zoof  1.643555e+09  1.643555e+09    32.048839   \n",
       "6                   Genetic OPT  1.643555e+09  1.643555e+09    50.406841   \n",
       "7                      BorutaPy  1.643555e+09  1.643555e+09     3.089959   \n",
       "8                    BorutaShap  1.643555e+09  1.643556e+09    72.470936   \n",
       "\n",
       "   Mean_CV_Accuracy  Mean_Test_Accuracy   Dataset                   Type  \\\n",
       "0          0.743131            0.694259  Diabetes  Binary Classification   \n",
       "1          0.745116            0.683519  Diabetes  Binary Classification   \n",
       "2          0.731218            0.703519  Diabetes  Binary Classification   \n",
       "3          0.717090            0.675741  Diabetes  Binary Classification   \n",
       "4          0.726512            0.693519  Diabetes  Binary Classification   \n",
       "5          0.731218            0.703519  Diabetes  Binary Classification   \n",
       "6          0.661837            0.625000  Diabetes  Binary Classification   \n",
       "7          0.741770            0.709259  Diabetes  Binary Classification   \n",
       "8          0.719360            0.679259  Diabetes  Binary Classification   \n",
       "\n",
       "              Metric  \n",
       "0  balanced accuracy  \n",
       "1  balanced accuracy  \n",
       "2  balanced accuracy  \n",
       "3  balanced accuracy  \n",
       "4  balanced accuracy  \n",
       "5  balanced accuracy  \n",
       "6  balanced accuracy  \n",
       "7  balanced accuracy  \n",
       "8  balanced accuracy  "
      ]
     },
     "execution_count": 38,
     "metadata": {},
     "output_type": "execute_result"
    }
   ],
   "source": [
    "time_to_fit"
   ]
  },
  {
   "cell_type": "markdown",
   "metadata": {},
   "source": [
    "# This is another way to know how well feature selection works"
   ]
  },
  {
   "cell_type": "markdown",
   "metadata": {},
   "source": [
    "notes : Class imbalance - PyImpetus"
   ]
  }
 ],
 "metadata": {
  "kernelspec": {
   "display_name": "Python 3 (ipykernel)",
   "language": "python",
   "name": "python3"
  },
  "language_info": {
   "codemirror_mode": {
    "name": "ipython",
    "version": 3
   },
   "file_extension": ".py",
   "mimetype": "text/x-python",
   "name": "python",
   "nbconvert_exporter": "python",
   "pygments_lexer": "ipython3",
   "version": "3.7.4"
  }
 },
 "nbformat": 4,
 "nbformat_minor": 2
}
